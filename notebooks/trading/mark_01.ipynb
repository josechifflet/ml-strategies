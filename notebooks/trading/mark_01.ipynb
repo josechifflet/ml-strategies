{
 "cells": [
  {
   "cell_type": "code",
   "execution_count": 6,
   "id": "fa199f55-66b0-46c7-9181-2f1fd00f7d34",
   "metadata": {},
   "outputs": [],
   "source": [
    "import json\n",
    "\n",
    "import talib as ta\n",
    "import pandas as pd\n",
    "import numpy as np\n",
    "import matplotlib.pyplot as plt\n",
    "import seaborn as sns\n",
    "\n",
    "from pyspark.shell import spark\n",
    "from pyspark.context import SparkContext\n",
    "from pyspark.sql import functions as F\n",
    "from pyspark.sql.session import SparkSession\n",
    "from pyspark.sql.window import Window\n",
    "from pyspark.sql.functions import lag\n",
    "from pyspark.sql.functions import col\n",
    "\n",
    "# OHLCV data\n",
    "input_file = open('../../data/futures/ADA_USDT-1h-futures.json')\n",
    "json_array = json.load(input_file)"
   ]
  },
  {
   "cell_type": "code",
   "execution_count": 54,
   "id": "c6523ad8-5b0d-4a96-a37c-1b1a0d0e3f40",
   "metadata": {},
   "outputs": [],
   "source": [
    "# data frame \"df\"\n",
    "df = pd.DataFrame(json_array)\n",
    "df.columns = ['Time', 'Open', 'High', 'Low', 'Close', 'Volume']"
   ]
  },
  {
   "cell_type": "code",
   "execution_count": 55,
   "id": "3385d397-e459-4a0c-84cc-b43cbe3c5730",
   "metadata": {},
   "outputs": [
    {
     "name": "stdout",
     "output_type": "stream",
     "text": [
      "7064\n",
      "Long1h 227\n",
      "Index(['Time', 'Open', 'High', 'Low', 'Close', 'Volume', 'index', 'EMA89High',\n",
      "       'EMA89Low', 'SMA5', 'SMA10', 'SMA20', 'SMA50', 'SMA100', 'SMA200',\n",
      "       'EMA200', 'EMA150', 'EMA100', 'EMA50', 'EMA32', 'EMA21', 'EMA13', 'RSI',\n",
      "       'CDL_MARUBOZU', 'CDL_DOJI', 'CDL_ENGULFING', 'CDL_EVENINGSTAR', 'MACD',\n",
      "       'MACD_SIGNAL', 'MACD_HIST', 'SMA_BB', 'STD_DEV', 'UPPER_BB', 'LOWER_BB',\n",
      "       'OBV', 'NEXT_1h%'],\n",
      "      dtype='object')\n"
     ]
    },
    {
     "data": {
      "text/html": [
       "<div>\n",
       "<style scoped>\n",
       "    .dataframe tbody tr th:only-of-type {\n",
       "        vertical-align: middle;\n",
       "    }\n",
       "\n",
       "    .dataframe tbody tr th {\n",
       "        vertical-align: top;\n",
       "    }\n",
       "\n",
       "    .dataframe thead th {\n",
       "        text-align: right;\n",
       "    }\n",
       "</style>\n",
       "<table border=\"1\" class=\"dataframe\">\n",
       "  <thead>\n",
       "    <tr style=\"text-align: right;\">\n",
       "      <th></th>\n",
       "      <th>Time</th>\n",
       "      <th>Open</th>\n",
       "      <th>High</th>\n",
       "      <th>Low</th>\n",
       "      <th>Close</th>\n",
       "      <th>Volume</th>\n",
       "      <th>index</th>\n",
       "      <th>EMA89High</th>\n",
       "      <th>EMA89Low</th>\n",
       "      <th>SMA5</th>\n",
       "      <th>...</th>\n",
       "      <th>MACD</th>\n",
       "      <th>MACD_SIGNAL</th>\n",
       "      <th>MACD_HIST</th>\n",
       "      <th>SMA_BB</th>\n",
       "      <th>STD_DEV</th>\n",
       "      <th>UPPER_BB</th>\n",
       "      <th>LOWER_BB</th>\n",
       "      <th>OBV</th>\n",
       "      <th>NEXT_1h%</th>\n",
       "      <th>Long1h</th>\n",
       "    </tr>\n",
       "  </thead>\n",
       "  <tbody>\n",
       "    <tr>\n",
       "      <th>199</th>\n",
       "      <td>2022-01-09 07:00:00</td>\n",
       "      <td>1.1800</td>\n",
       "      <td>1.1843</td>\n",
       "      <td>1.1720</td>\n",
       "      <td>1.1770</td>\n",
       "      <td>10199968.0</td>\n",
       "      <td>199</td>\n",
       "      <td>1.241099</td>\n",
       "      <td>1.219655</td>\n",
       "      <td>1.17932</td>\n",
       "      <td>...</td>\n",
       "      <td>-0.010083</td>\n",
       "      <td>-0.011113</td>\n",
       "      <td>0.001030</td>\n",
       "      <td>1.186205</td>\n",
       "      <td>0.028003</td>\n",
       "      <td>1.242210</td>\n",
       "      <td>1.130200</td>\n",
       "      <td>-343866300.0</td>\n",
       "      <td>0.986701</td>\n",
       "      <td>False</td>\n",
       "    </tr>\n",
       "    <tr>\n",
       "      <th>200</th>\n",
       "      <td>2022-01-09 08:00:00</td>\n",
       "      <td>1.1771</td>\n",
       "      <td>1.1829</td>\n",
       "      <td>1.1625</td>\n",
       "      <td>1.1655</td>\n",
       "      <td>14798267.0</td>\n",
       "      <td>200</td>\n",
       "      <td>1.239805</td>\n",
       "      <td>1.218385</td>\n",
       "      <td>1.17736</td>\n",
       "      <td>...</td>\n",
       "      <td>-0.010758</td>\n",
       "      <td>-0.011042</td>\n",
       "      <td>0.000284</td>\n",
       "      <td>1.182845</td>\n",
       "      <td>0.026097</td>\n",
       "      <td>1.235039</td>\n",
       "      <td>1.130651</td>\n",
       "      <td>-358664567.0</td>\n",
       "      <td>0.456818</td>\n",
       "      <td>False</td>\n",
       "    </tr>\n",
       "    <tr>\n",
       "      <th>201</th>\n",
       "      <td>2022-01-09 09:00:00</td>\n",
       "      <td>1.1655</td>\n",
       "      <td>1.1737</td>\n",
       "      <td>1.1563</td>\n",
       "      <td>1.1602</td>\n",
       "      <td>15315921.0</td>\n",
       "      <td>201</td>\n",
       "      <td>1.238336</td>\n",
       "      <td>1.217005</td>\n",
       "      <td>1.17200</td>\n",
       "      <td>...</td>\n",
       "      <td>-0.011587</td>\n",
       "      <td>-0.011151</td>\n",
       "      <td>-0.000436</td>\n",
       "      <td>1.179320</td>\n",
       "      <td>0.023967</td>\n",
       "      <td>1.227254</td>\n",
       "      <td>1.131386</td>\n",
       "      <td>-373980488.0</td>\n",
       "      <td>-0.283627</td>\n",
       "      <td>False</td>\n",
       "    </tr>\n",
       "    <tr>\n",
       "      <th>202</th>\n",
       "      <td>2022-01-09 10:00:00</td>\n",
       "      <td>1.1601</td>\n",
       "      <td>1.1689</td>\n",
       "      <td>1.1510</td>\n",
       "      <td>1.1635</td>\n",
       "      <td>14871076.0</td>\n",
       "      <td>202</td>\n",
       "      <td>1.236793</td>\n",
       "      <td>1.215538</td>\n",
       "      <td>1.16924</td>\n",
       "      <td>...</td>\n",
       "      <td>-0.011842</td>\n",
       "      <td>-0.011289</td>\n",
       "      <td>-0.000553</td>\n",
       "      <td>1.176290</td>\n",
       "      <td>0.021735</td>\n",
       "      <td>1.219759</td>\n",
       "      <td>1.132821</td>\n",
       "      <td>-359109412.0</td>\n",
       "      <td>0.034391</td>\n",
       "      <td>False</td>\n",
       "    </tr>\n",
       "    <tr>\n",
       "      <th>203</th>\n",
       "      <td>2022-01-09 11:00:00</td>\n",
       "      <td>1.1636</td>\n",
       "      <td>1.1744</td>\n",
       "      <td>1.1592</td>\n",
       "      <td>1.1631</td>\n",
       "      <td>13136258.0</td>\n",
       "      <td>203</td>\n",
       "      <td>1.235407</td>\n",
       "      <td>1.214286</td>\n",
       "      <td>1.16586</td>\n",
       "      <td>...</td>\n",
       "      <td>-0.011938</td>\n",
       "      <td>-0.011419</td>\n",
       "      <td>-0.000519</td>\n",
       "      <td>1.173695</td>\n",
       "      <td>0.019890</td>\n",
       "      <td>1.213474</td>\n",
       "      <td>1.133916</td>\n",
       "      <td>-372245670.0</td>\n",
       "      <td>-0.025786</td>\n",
       "      <td>False</td>\n",
       "    </tr>\n",
       "  </tbody>\n",
       "</table>\n",
       "<p>5 rows × 37 columns</p>\n",
       "</div>"
      ],
      "text/plain": [
       "                   Time    Open    High     Low   Close      Volume  index  \\\n",
       "199 2022-01-09 07:00:00  1.1800  1.1843  1.1720  1.1770  10199968.0    199   \n",
       "200 2022-01-09 08:00:00  1.1771  1.1829  1.1625  1.1655  14798267.0    200   \n",
       "201 2022-01-09 09:00:00  1.1655  1.1737  1.1563  1.1602  15315921.0    201   \n",
       "202 2022-01-09 10:00:00  1.1601  1.1689  1.1510  1.1635  14871076.0    202   \n",
       "203 2022-01-09 11:00:00  1.1636  1.1744  1.1592  1.1631  13136258.0    203   \n",
       "\n",
       "     EMA89High  EMA89Low     SMA5  ...      MACD  MACD_SIGNAL  MACD_HIST  \\\n",
       "199   1.241099  1.219655  1.17932  ... -0.010083    -0.011113   0.001030   \n",
       "200   1.239805  1.218385  1.17736  ... -0.010758    -0.011042   0.000284   \n",
       "201   1.238336  1.217005  1.17200  ... -0.011587    -0.011151  -0.000436   \n",
       "202   1.236793  1.215538  1.16924  ... -0.011842    -0.011289  -0.000553   \n",
       "203   1.235407  1.214286  1.16586  ... -0.011938    -0.011419  -0.000519   \n",
       "\n",
       "       SMA_BB   STD_DEV  UPPER_BB  LOWER_BB          OBV  NEXT_1h%  Long1h  \n",
       "199  1.186205  0.028003  1.242210  1.130200 -343866300.0  0.986701   False  \n",
       "200  1.182845  0.026097  1.235039  1.130651 -358664567.0  0.456818   False  \n",
       "201  1.179320  0.023967  1.227254  1.131386 -373980488.0 -0.283627   False  \n",
       "202  1.176290  0.021735  1.219759  1.132821 -359109412.0  0.034391   False  \n",
       "203  1.173695  0.019890  1.213474  1.133916 -372245670.0 -0.025786   False  \n",
       "\n",
       "[5 rows x 37 columns]"
      ]
     },
     "execution_count": 55,
     "metadata": {},
     "output_type": "execute_result"
    }
   ],
   "source": [
    "# indicators\n",
    "\n",
    "df['index'] = df.index\n",
    "\n",
    "# Ema 89 strategy\n",
    "df['EMA89High']=ta.EMA(df.High, timeperiod=89)\n",
    "df['EMA89Low']=ta.EMA(df.Low, timeperiod=89)\n",
    "\n",
    "df['SMA5'] = ta.SMA(df.Close, timeperiod=5)\n",
    "df['SMA10'] = ta.SMA(df.Close, timeperiod=10)\n",
    "df['SMA20'] = ta.SMA(df.Close, timeperiod=20)\n",
    "df['SMA50'] = ta.SMA(df.Close, timeperiod=50)\n",
    "df['SMA100'] = ta.SMA(df.Close, timeperiod=100)\n",
    "df['SMA200'] = ta.SMA(df.Close, timeperiod=200)\n",
    "\n",
    "df['EMA200']=ta.EMA(df.Close, timeperiod=200)\n",
    "df['EMA150']=ta.EMA(df.Close, timeperiod=150)\n",
    "df['EMA100']=ta.EMA(df.Close, timeperiod=100)\n",
    "df['EMA50']=ta.EMA(df.Close, timeperiod=50)\n",
    "\n",
    "df['EMA32']=ta.EMA(df.Close, timeperiod=32)\n",
    "df['EMA21']=ta.EMA(df.Close, timeperiod=21)\n",
    "df['EMA13']=ta.EMA(df.Close, timeperiod=13)\n",
    "\n",
    "df['RSI']=ta.RSI(df.Close, timeperiod=14)\n",
    "\n",
    "\n",
    "# patterns\n",
    "df['CDL_MARUBOZU'] = ta.CDLMARUBOZU(df.Open, df.High, df.Low, df.Close)\n",
    "df['CDL_DOJI'] = ta.CDLDOJI(df.Open, df.High, df.Low, df.Close)\n",
    "df['CDL_ENGULFING'] = ta.CDLENGULFING(df.Open, df.High, df.Low, df.Close)\n",
    "df['CDL_EVENINGSTAR']  = ta.CDLEVENINGSTAR(df.Open, df.High, df.Low, df.Close)\n",
    "df['CDL_EVENINGSTAR'] = ta.CDLEVENINGSTAR(df.Open, df.High, df.Low, df.Close)\n",
    "\n",
    "\n",
    "# MACD\n",
    "MACD_FAST_EMA = 12\n",
    "MACD_SLOW_EMA = 26\n",
    "MACD_SIGNAL_PERIOD = 9\n",
    "df['MACD'],df['MACD_SIGNAL'],df['MACD_HIST'] = ta.MACD(df.Close, fastperiod=MACD_FAST_EMA, slowperiod=MACD_SLOW_EMA, signalperiod=MACD_SIGNAL_PERIOD)\n",
    "\n",
    "# BB\n",
    "df['SMA_BB'] = df.Close.rolling(window=20).mean()\n",
    "\n",
    "# upper and lower bollinger bands: SMA +/- 2 * standard deviation\n",
    "df['STD_DEV'] = df.Close.rolling(window=20).std()\n",
    "df['UPPER_BB'] = df['SMA_BB'] + (2 * df['STD_DEV'])\n",
    "df['LOWER_BB'] = df['SMA_BB'] - (2 * df['STD_DEV'])\n",
    "\n",
    "# volume\n",
    "df['OBV'] = ta.OBV(df.Close, df.Volume)\n",
    "\n",
    "df['Time'] = pd.to_datetime(df['Time'], unit='ms')\n",
    "# df['VOL1h%'] = (df.Volume.pct_change(periods=1).mul(100))\n",
    "# df['VOL4h%'] = (df.Volume.pct_change(periods=4).mul(100))\n",
    "# df['VOL8h%'] = (df.Volume.pct_change(periods=8).mul(100))\n",
    "# df['VOL12h%'] = (df.Volume.pct_change(periods=12).mul(100))\n",
    "# df['VOL24h%'] = (df.Volume.pct_change(periods=24).mul(100))\n",
    "\n",
    "# df['1h%'] = (df.Close.pct_change(periods=1).mul(100))\n",
    "# df['4h%'] = (df.Close.pct_change(periods=4).mul(100))\n",
    "# df['8h%'] = (df.Close.pct_change(periods=8).mul(100))\n",
    "# df['12h%'] = (df.Close.pct_change(periods=12).mul(100))\n",
    "# df['24h%'] = (df.Close.pct_change(periods=24).mul(100))\n",
    "\n",
    "df['NEXT_1h%'] = (df.Close.pct_change(periods=-1).mul(100))\n",
    "# df['NEXT_4h%'] = (df.Close.pct_change(periods=-4).mul(100))\n",
    "# df['NEXT_8h%'] = (df.Close.pct_change(periods=-8).mul(100))\n",
    "# df['NEXT_12h%'] = (df.Close.pct_change(periods=-12).mul(100))\n",
    "# df['NEXT_24h%'] = (df.Close.pct_change(periods=-24).mul(100))\n",
    "\n",
    "df = df.assign(Long1h = lambda x: (x['NEXT_1h%'] > 2))\n",
    "# df = df.assign(Short1h = lambda x: (x['NEXT_1h%'] < 2))\n",
    "\n",
    "# df = df.assign(Long4h = lambda x: (x['NEXT_4h%'] > 5))\n",
    "# df = df.assign(Short4h = lambda x: (x['NEXT_4h%'] < 5))\n",
    "\n",
    "df = df.dropna()\n",
    "\n",
    "# assert that we do not have any nan left\n",
    "assert df.isnull().sum().sum() == 0\n",
    "\n",
    "print(df.shape[0])\n",
    "print('Long1h', df['Long1h'].value_counts()[True])\n",
    "# print('Short1h', df['Short1h'].value_counts()[True])\n",
    "# print('Long4h', df['Long4h'].value_counts()[True])\n",
    "# print('Short4h', df['Short4h'].value_counts()[True])\n",
    "print(df.columns[:-1])\n",
    "df.head()"
   ]
  },
  {
   "cell_type": "code",
   "execution_count": null,
   "id": "1038eb37-a1f2-4375-8b4a-d11790ec8f7a",
   "metadata": {},
   "outputs": [],
   "source": [
    "def support(df1, l, n1, n2): #n1 n2 before and after candle l\n",
    "    for i in range(l-n1+1, l+1):\n",
    "        if(df1.low[i]>df1.low[i-1]):\n",
    "            return 0\n",
    "    for i in range(l+1,l+n2+1):\n",
    "        if(df1.low[i]<df1.low[i-1]):\n",
    "            return 0\n",
    "    return 1\n",
    "\n",
    "def resistance(df1, l, n1, n2): #n1 n2 before and after candle l\n",
    "    for i in range(l-n1+1, l+1):\n",
    "        if(df1.high[i]<df1.high[i-1]):\n",
    "            return 0\n",
    "    for i in range(l+1,l+n2+1):\n",
    "        if(df1.high[i]>df1.high[i-1]):\n",
    "            return 0\n",
    "    return 1\n"
   ]
  },
  {
   "cell_type": "code",
   "execution_count": null,
   "id": "9c545f1f-ab2d-4a4b-ad60-54ad2db0b315",
   "metadata": {},
   "outputs": [
    {
     "name": "stdout",
     "output_type": "stream",
     "text": [
      "AutoML directory: AutoML_6\n",
      "The task is binary_classification with evaluation metric logloss\n",
      "AutoML will use algorithms: ['Decision Tree', 'Linear', 'Random Forest', 'Extra Trees', 'LightGBM', 'Xgboost', 'CatBoost', 'Neural Network', 'Nearest Neighbors']\n",
      "AutoML will stack models\n",
      "AutoML will ensemble available models\n",
      "AutoML steps: ['adjust_validation', 'simple_algorithms', 'default_algorithms', 'not_so_random', 'golden_features', 'kmeans_features', 'insert_random_feature', 'features_selection', 'hill_climbing_1', 'hill_climbing_2', 'boost_on_errors', 'ensemble', 'stack', 'ensemble_stacked']\n",
      "* Step adjust_validation will try to check up to 1 model\n",
      "1_DecisionTree logloss 1e-06 trained in 6.17 seconds\n",
      "Adjust validation. Remove: 1_DecisionTree\n",
      "Validation strategy: 5-fold CV Shuffle,Stratify\n",
      "* Step simple_algorithms will try to check up to 4 models\n",
      "1_DecisionTree logloss 0.005216 trained in 11.14 seconds\n",
      "2_DecisionTree logloss 0.005216 trained in 10.28 seconds\n",
      "3_DecisionTree logloss 0.005216 trained in 10.24 seconds\n"
     ]
    },
    {
     "name": "stderr",
     "output_type": "stream",
     "text": [
      "In a future version, `df.iloc[:, i] = newvals` will attempt to set the values inplace instead of always setting a new array. To retain the old behavior, use either `df[df.columns[i]] = newvals` or, if columns are non-unique, `df.isetitem(i, newvals)`\n",
      "In a future version, `df.iloc[:, i] = newvals` will attempt to set the values inplace instead of always setting a new array. To retain the old behavior, use either `df[df.columns[i]] = newvals` or, if columns are non-unique, `df.isetitem(i, newvals)`\n",
      "In a future version, `df.iloc[:, i] = newvals` will attempt to set the values inplace instead of always setting a new array. To retain the old behavior, use either `df[df.columns[i]] = newvals` or, if columns are non-unique, `df.isetitem(i, newvals)`\n",
      "In a future version, `df.iloc[:, i] = newvals` will attempt to set the values inplace instead of always setting a new array. To retain the old behavior, use either `df[df.columns[i]] = newvals` or, if columns are non-unique, `df.isetitem(i, newvals)`\n",
      "In a future version, `df.iloc[:, i] = newvals` will attempt to set the values inplace instead of always setting a new array. To retain the old behavior, use either `df[df.columns[i]] = newvals` or, if columns are non-unique, `df.isetitem(i, newvals)`\n"
     ]
    },
    {
     "name": "stdout",
     "output_type": "stream",
     "text": [
      "4_Linear logloss 0.009495 trained in 22.61 seconds\n",
      "* Step default_algorithms will try to check up to 7 models\n",
      "5_Default_LightGBM logloss 0.002256 trained in 33.96 seconds\n",
      "6_Default_Xgboost logloss 0.004602 trained in 24.3 seconds\n",
      "7_Default_CatBoost logloss 0.006108 trained in 34.06 seconds\n"
     ]
    },
    {
     "name": "stderr",
     "output_type": "stream",
     "text": [
      "In a future version, `df.iloc[:, i] = newvals` will attempt to set the values inplace instead of always setting a new array. To retain the old behavior, use either `df[df.columns[i]] = newvals` or, if columns are non-unique, `df.isetitem(i, newvals)`\n",
      "In a future version, `df.iloc[:, i] = newvals` will attempt to set the values inplace instead of always setting a new array. To retain the old behavior, use either `df[df.columns[i]] = newvals` or, if columns are non-unique, `df.isetitem(i, newvals)`\n",
      "In a future version, `df.iloc[:, i] = newvals` will attempt to set the values inplace instead of always setting a new array. To retain the old behavior, use either `df[df.columns[i]] = newvals` or, if columns are non-unique, `df.isetitem(i, newvals)`\n",
      "In a future version, `df.iloc[:, i] = newvals` will attempt to set the values inplace instead of always setting a new array. To retain the old behavior, use either `df[df.columns[i]] = newvals` or, if columns are non-unique, `df.isetitem(i, newvals)`\n",
      "In a future version, `df.iloc[:, i] = newvals` will attempt to set the values inplace instead of always setting a new array. To retain the old behavior, use either `df[df.columns[i]] = newvals` or, if columns are non-unique, `df.isetitem(i, newvals)`\n"
     ]
    },
    {
     "name": "stdout",
     "output_type": "stream",
     "text": [
      "8_Default_NeuralNetwork logloss 0.020889 trained in 125.95 seconds\n",
      "9_Default_RandomForest logloss 0.002609 trained in 27.7 seconds\n",
      "10_Default_ExtraTrees logloss 0.025588 trained in 22.93 seconds\n"
     ]
    },
    {
     "name": "stderr",
     "output_type": "stream",
     "text": [
      "In a future version, `df.iloc[:, i] = newvals` will attempt to set the values inplace instead of always setting a new array. To retain the old behavior, use either `df[df.columns[i]] = newvals` or, if columns are non-unique, `df.isetitem(i, newvals)`\n",
      "In a future version, `df.iloc[:, i] = newvals` will attempt to set the values inplace instead of always setting a new array. To retain the old behavior, use either `df[df.columns[i]] = newvals` or, if columns are non-unique, `df.isetitem(i, newvals)`\n",
      "In a future version, `df.iloc[:, i] = newvals` will attempt to set the values inplace instead of always setting a new array. To retain the old behavior, use either `df[df.columns[i]] = newvals` or, if columns are non-unique, `df.isetitem(i, newvals)`\n",
      "In a future version, `df.iloc[:, i] = newvals` will attempt to set the values inplace instead of always setting a new array. To retain the old behavior, use either `df[df.columns[i]] = newvals` or, if columns are non-unique, `df.isetitem(i, newvals)`\n",
      "In a future version, `df.iloc[:, i] = newvals` will attempt to set the values inplace instead of always setting a new array. To retain the old behavior, use either `df[df.columns[i]] = newvals` or, if columns are non-unique, `df.isetitem(i, newvals)`\n"
     ]
    },
    {
     "name": "stdout",
     "output_type": "stream",
     "text": [
      "11_Default_NearestNeighbors logloss 0.094415 trained in 19.09 seconds\n",
      "* Step not_so_random will try to check up to 61 models\n",
      "21_LightGBM logloss 0.002337 trained in 20.1 seconds\n",
      "12_Xgboost logloss 0.004985 trained in 16.02 seconds\n",
      "30_CatBoost logloss 0.006283 trained in 93.21 seconds\n",
      "39_RandomForest logloss 0.003376 trained in 37.88 seconds\n",
      "48_ExtraTrees logloss 0.052492 trained in 22.9 seconds\n"
     ]
    },
    {
     "name": "stderr",
     "output_type": "stream",
     "text": [
      "In a future version, `df.iloc[:, i] = newvals` will attempt to set the values inplace instead of always setting a new array. To retain the old behavior, use either `df[df.columns[i]] = newvals` or, if columns are non-unique, `df.isetitem(i, newvals)`\n",
      "In a future version, `df.iloc[:, i] = newvals` will attempt to set the values inplace instead of always setting a new array. To retain the old behavior, use either `df[df.columns[i]] = newvals` or, if columns are non-unique, `df.isetitem(i, newvals)`\n",
      "In a future version, `df.iloc[:, i] = newvals` will attempt to set the values inplace instead of always setting a new array. To retain the old behavior, use either `df[df.columns[i]] = newvals` or, if columns are non-unique, `df.isetitem(i, newvals)`\n",
      "In a future version, `df.iloc[:, i] = newvals` will attempt to set the values inplace instead of always setting a new array. To retain the old behavior, use either `df[df.columns[i]] = newvals` or, if columns are non-unique, `df.isetitem(i, newvals)`\n",
      "In a future version, `df.iloc[:, i] = newvals` will attempt to set the values inplace instead of always setting a new array. To retain the old behavior, use either `df[df.columns[i]] = newvals` or, if columns are non-unique, `df.isetitem(i, newvals)`\n"
     ]
    },
    {
     "name": "stdout",
     "output_type": "stream",
     "text": [
      "57_NeuralNetwork logloss 0.016689 trained in 89.11 seconds\n"
     ]
    },
    {
     "name": "stderr",
     "output_type": "stream",
     "text": [
      "In a future version, `df.iloc[:, i] = newvals` will attempt to set the values inplace instead of always setting a new array. To retain the old behavior, use either `df[df.columns[i]] = newvals` or, if columns are non-unique, `df.isetitem(i, newvals)`\n",
      "In a future version, `df.iloc[:, i] = newvals` will attempt to set the values inplace instead of always setting a new array. To retain the old behavior, use either `df[df.columns[i]] = newvals` or, if columns are non-unique, `df.isetitem(i, newvals)`\n",
      "In a future version, `df.iloc[:, i] = newvals` will attempt to set the values inplace instead of always setting a new array. To retain the old behavior, use either `df[df.columns[i]] = newvals` or, if columns are non-unique, `df.isetitem(i, newvals)`\n",
      "In a future version, `df.iloc[:, i] = newvals` will attempt to set the values inplace instead of always setting a new array. To retain the old behavior, use either `df[df.columns[i]] = newvals` or, if columns are non-unique, `df.isetitem(i, newvals)`\n",
      "In a future version, `df.iloc[:, i] = newvals` will attempt to set the values inplace instead of always setting a new array. To retain the old behavior, use either `df[df.columns[i]] = newvals` or, if columns are non-unique, `df.isetitem(i, newvals)`\n"
     ]
    },
    {
     "name": "stdout",
     "output_type": "stream",
     "text": [
      "66_NearestNeighbors logloss 0.091728 trained in 19.77 seconds\n",
      "22_LightGBM logloss 0.002051 trained in 19.32 seconds\n",
      "13_Xgboost logloss 0.004581 trained in 20.18 seconds\n",
      "31_CatBoost logloss 0.006626 trained in 75.23 seconds\n",
      "40_RandomForest logloss 0.000753 trained in 29.29 seconds\n",
      "49_ExtraTrees logloss 0.029481 trained in 29.69 seconds\n"
     ]
    },
    {
     "name": "stderr",
     "output_type": "stream",
     "text": [
      "In a future version, `df.iloc[:, i] = newvals` will attempt to set the values inplace instead of always setting a new array. To retain the old behavior, use either `df[df.columns[i]] = newvals` or, if columns are non-unique, `df.isetitem(i, newvals)`\n",
      "In a future version, `df.iloc[:, i] = newvals` will attempt to set the values inplace instead of always setting a new array. To retain the old behavior, use either `df[df.columns[i]] = newvals` or, if columns are non-unique, `df.isetitem(i, newvals)`\n",
      "In a future version, `df.iloc[:, i] = newvals` will attempt to set the values inplace instead of always setting a new array. To retain the old behavior, use either `df[df.columns[i]] = newvals` or, if columns are non-unique, `df.isetitem(i, newvals)`\n",
      "In a future version, `df.iloc[:, i] = newvals` will attempt to set the values inplace instead of always setting a new array. To retain the old behavior, use either `df[df.columns[i]] = newvals` or, if columns are non-unique, `df.isetitem(i, newvals)`\n",
      "In a future version, `df.iloc[:, i] = newvals` will attempt to set the values inplace instead of always setting a new array. To retain the old behavior, use either `df[df.columns[i]] = newvals` or, if columns are non-unique, `df.isetitem(i, newvals)`\n"
     ]
    },
    {
     "name": "stdout",
     "output_type": "stream",
     "text": [
      "58_NeuralNetwork logloss 0.014059 trained in 142.78 seconds\n"
     ]
    },
    {
     "name": "stderr",
     "output_type": "stream",
     "text": [
      "In a future version, `df.iloc[:, i] = newvals` will attempt to set the values inplace instead of always setting a new array. To retain the old behavior, use either `df[df.columns[i]] = newvals` or, if columns are non-unique, `df.isetitem(i, newvals)`\n",
      "In a future version, `df.iloc[:, i] = newvals` will attempt to set the values inplace instead of always setting a new array. To retain the old behavior, use either `df[df.columns[i]] = newvals` or, if columns are non-unique, `df.isetitem(i, newvals)`\n",
      "In a future version, `df.iloc[:, i] = newvals` will attempt to set the values inplace instead of always setting a new array. To retain the old behavior, use either `df[df.columns[i]] = newvals` or, if columns are non-unique, `df.isetitem(i, newvals)`\n",
      "In a future version, `df.iloc[:, i] = newvals` will attempt to set the values inplace instead of always setting a new array. To retain the old behavior, use either `df[df.columns[i]] = newvals` or, if columns are non-unique, `df.isetitem(i, newvals)`\n",
      "In a future version, `df.iloc[:, i] = newvals` will attempt to set the values inplace instead of always setting a new array. To retain the old behavior, use either `df[df.columns[i]] = newvals` or, if columns are non-unique, `df.isetitem(i, newvals)`\n"
     ]
    },
    {
     "name": "stdout",
     "output_type": "stream",
     "text": [
      "67_NearestNeighbors logloss 0.08966 trained in 20.24 seconds\n",
      "23_LightGBM logloss 0.002487 trained in 32.45 seconds\n",
      "14_Xgboost logloss 0.017029 trained in 15.1 seconds\n",
      "32_CatBoost logloss 0.006175 trained in 68.52 seconds\n",
      "41_RandomForest logloss 0.001399 trained in 38.73 seconds\n",
      "50_ExtraTrees logloss 0.056882 trained in 33.1 seconds\n"
     ]
    },
    {
     "name": "stderr",
     "output_type": "stream",
     "text": [
      "In a future version, `df.iloc[:, i] = newvals` will attempt to set the values inplace instead of always setting a new array. To retain the old behavior, use either `df[df.columns[i]] = newvals` or, if columns are non-unique, `df.isetitem(i, newvals)`\n",
      "In a future version, `df.iloc[:, i] = newvals` will attempt to set the values inplace instead of always setting a new array. To retain the old behavior, use either `df[df.columns[i]] = newvals` or, if columns are non-unique, `df.isetitem(i, newvals)`\n",
      "In a future version, `df.iloc[:, i] = newvals` will attempt to set the values inplace instead of always setting a new array. To retain the old behavior, use either `df[df.columns[i]] = newvals` or, if columns are non-unique, `df.isetitem(i, newvals)`\n",
      "In a future version, `df.iloc[:, i] = newvals` will attempt to set the values inplace instead of always setting a new array. To retain the old behavior, use either `df[df.columns[i]] = newvals` or, if columns are non-unique, `df.isetitem(i, newvals)`\n",
      "In a future version, `df.iloc[:, i] = newvals` will attempt to set the values inplace instead of always setting a new array. To retain the old behavior, use either `df[df.columns[i]] = newvals` or, if columns are non-unique, `df.isetitem(i, newvals)`\n"
     ]
    },
    {
     "name": "stdout",
     "output_type": "stream",
     "text": [
      "59_NeuralNetwork logloss 0.023269 trained in 112.62 seconds\n"
     ]
    },
    {
     "name": "stderr",
     "output_type": "stream",
     "text": [
      "In a future version, `df.iloc[:, i] = newvals` will attempt to set the values inplace instead of always setting a new array. To retain the old behavior, use either `df[df.columns[i]] = newvals` or, if columns are non-unique, `df.isetitem(i, newvals)`\n",
      "In a future version, `df.iloc[:, i] = newvals` will attempt to set the values inplace instead of always setting a new array. To retain the old behavior, use either `df[df.columns[i]] = newvals` or, if columns are non-unique, `df.isetitem(i, newvals)`\n",
      "In a future version, `df.iloc[:, i] = newvals` will attempt to set the values inplace instead of always setting a new array. To retain the old behavior, use either `df[df.columns[i]] = newvals` or, if columns are non-unique, `df.isetitem(i, newvals)`\n",
      "In a future version, `df.iloc[:, i] = newvals` will attempt to set the values inplace instead of always setting a new array. To retain the old behavior, use either `df[df.columns[i]] = newvals` or, if columns are non-unique, `df.isetitem(i, newvals)`\n",
      "In a future version, `df.iloc[:, i] = newvals` will attempt to set the values inplace instead of always setting a new array. To retain the old behavior, use either `df[df.columns[i]] = newvals` or, if columns are non-unique, `df.isetitem(i, newvals)`\n"
     ]
    },
    {
     "name": "stdout",
     "output_type": "stream",
     "text": [
      "68_NearestNeighbors logloss 0.08966 trained in 20.86 seconds\n",
      "24_LightGBM logloss 0.002296 trained in 23.62 seconds\n",
      "15_Xgboost logloss 0.072628 trained in 14.63 seconds\n",
      "33_CatBoost logloss 0.005936 trained in 101.75 seconds\n",
      "42_RandomForest logloss 0.000707 trained in 44.14 seconds\n",
      "51_ExtraTrees logloss 0.045896 trained in 26.12 seconds\n"
     ]
    },
    {
     "name": "stderr",
     "output_type": "stream",
     "text": [
      "In a future version, `df.iloc[:, i] = newvals` will attempt to set the values inplace instead of always setting a new array. To retain the old behavior, use either `df[df.columns[i]] = newvals` or, if columns are non-unique, `df.isetitem(i, newvals)`\n",
      "In a future version, `df.iloc[:, i] = newvals` will attempt to set the values inplace instead of always setting a new array. To retain the old behavior, use either `df[df.columns[i]] = newvals` or, if columns are non-unique, `df.isetitem(i, newvals)`\n",
      "In a future version, `df.iloc[:, i] = newvals` will attempt to set the values inplace instead of always setting a new array. To retain the old behavior, use either `df[df.columns[i]] = newvals` or, if columns are non-unique, `df.isetitem(i, newvals)`\n",
      "In a future version, `df.iloc[:, i] = newvals` will attempt to set the values inplace instead of always setting a new array. To retain the old behavior, use either `df[df.columns[i]] = newvals` or, if columns are non-unique, `df.isetitem(i, newvals)`\n",
      "In a future version, `df.iloc[:, i] = newvals` will attempt to set the values inplace instead of always setting a new array. To retain the old behavior, use either `df[df.columns[i]] = newvals` or, if columns are non-unique, `df.isetitem(i, newvals)`\n"
     ]
    },
    {
     "name": "stdout",
     "output_type": "stream",
     "text": [
      "60_NeuralNetwork logloss 0.022787 trained in 162.81 seconds\n",
      "* Step golden_features will try to check up to 3 models\n"
     ]
    }
   ],
   "source": [
    "from sklearn.model_selection import train_test_split\n",
    "from supervised.automl import AutoML\n",
    "\n",
    "features = ['Open', 'High', 'Low', 'Close', 'Volume', 'EMA89High',\n",
    "       'EMA89Low', 'SMA5', 'SMA10', 'SMA20', 'SMA50', 'SMA100', 'SMA200',\n",
    "       'EMA200', 'EMA150', 'EMA100', 'EMA50', 'EMA32', 'EMA21', 'EMA13', 'RSI',\n",
    "       'CDL_MARUBOZU', 'CDL_DOJI', 'CDL_ENGULFING', 'CDL_EVENINGSTAR', 'MACD',\n",
    "       'MACD_SIGNAL', 'MACD_HIST', 'SMA_BB', 'STD_DEV', 'UPPER_BB', 'LOWER_BB',\n",
    "       'OBV', 'NEXT_1h%']\n",
    "X_train, X_test, y_train, y_test = train_test_split(df[features], df[\"Long1h\"], test_size=0.25)\n",
    "\n",
    "automl = AutoML(mode=\"Compete\", features_selection=True)\n",
    "automl.fit(X_train, y_train)\n",
    "\n",
    "predictions = automl.predict(X_test)"
   ]
  },
  {
   "cell_type": "code",
   "execution_count": null,
   "id": "8cd60e07-957f-40cb-a186-9804aaaa5226",
   "metadata": {},
   "outputs": [],
   "source": [
    "print(predictions)"
   ]
  }
 ],
 "metadata": {
  "kernelspec": {
   "display_name": "Python 3 (ipykernel)",
   "language": "python",
   "name": "python3"
  },
  "language_info": {
   "codemirror_mode": {
    "name": "ipython",
    "version": 3
   },
   "file_extension": ".py",
   "mimetype": "text/x-python",
   "name": "python",
   "nbconvert_exporter": "python",
   "pygments_lexer": "ipython3",
   "version": "3.10.6"
  },
  "vscode": {
   "interpreter": {
    "hash": "b0fa6594d8f4cbf19f97940f81e996739fb7646882a419484c72d19e05852a7e"
   }
  }
 },
 "nbformat": 4,
 "nbformat_minor": 5
}
