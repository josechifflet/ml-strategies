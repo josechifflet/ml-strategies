{
 "cells": [
  {
   "cell_type": "code",
   "execution_count": 6,
   "id": "81d5392a-3399-4352-9446-4b09c57dd9fd",
   "metadata": {},
   "outputs": [
    {
     "name": "stdout",
     "output_type": "stream",
     "text": [
      "Python 3.10.6\n"
     ]
    }
   ],
   "source": [
    "!python3 --version"
   ]
  },
  {
   "cell_type": "code",
   "execution_count": 2,
   "id": "fa199f55-66b0-46c7-9181-2f1fd00f7d34",
   "metadata": {},
   "outputs": [
    {
     "ename": "ModuleNotFoundError",
     "evalue": "No module named 'talib'",
     "output_type": "error",
     "traceback": [
      "\u001b[0;31m---------------------------------------------------------------------------\u001b[0m",
      "\u001b[0;31mModuleNotFoundError\u001b[0m                       Traceback (most recent call last)",
      "Cell \u001b[0;32mIn [2], line 1\u001b[0m\n\u001b[0;32m----> 1\u001b[0m \u001b[38;5;28;01mimport\u001b[39;00m \u001b[38;5;21;01mtalib\u001b[39;00m\n\u001b[1;32m      2\u001b[0m \u001b[38;5;28;01mimport\u001b[39;00m \u001b[38;5;21;01mjson\u001b[39;00m\n\u001b[1;32m      4\u001b[0m \u001b[38;5;28;01mimport\u001b[39;00m \u001b[38;5;21;01mpandas\u001b[39;00m \u001b[38;5;28;01mas\u001b[39;00m \u001b[38;5;21;01mpd\u001b[39;00m\n",
      "\u001b[0;31mModuleNotFoundError\u001b[0m: No module named 'talib'"
     ]
    }
   ],
   "source": [
    "import talib\n",
    "import json\n",
    "\n",
    "import pandas as pd\n",
    "import numpy as np\n",
    "import matplotlib.pyplot as plt\n",
    "import pandas_ta as ta\n",
    "import seaborn as sns\n",
    "\n",
    "from ta import add_all_ta_features\n",
    "from ta.utils import dropna\n",
    "from pyspark.context import SparkContext\n",
    "from pyspark.sql import functions as F\n",
    "from pyspark.sql import SparkSession\n",
    "from pyspark.sql.window import Window\n",
    "from pyspark.sql.functions import lag\n",
    "from pyspark.sql.functions import col\n",
    "\n",
    "spark = SparkSession \\\n",
    "    .builder \\\n",
    "    .appName(\"Python Spark SQL basic example\") \\\n",
    "    .config(\"spark.some.config.option\", \"some-value\") \\\n",
    "    .getOrCreate()\n",
    "\n",
    "input_file = open('../data/ADA_USDT-1h.json')\n",
    "json_array = json.load(input_file)\n",
    "\n",
    "# OHLCV\n",
    "\n",
    "df = pd.DataFrame(json_array)\n",
    "df.columns = ['Time', 'Open', 'High', 'Low', 'Close', 'Volume']\n",
    "df['Coin'] = \"ADA\"\n",
    "df.tail()"
   ]
  },
  {
   "cell_type": "code",
   "execution_count": 4,
   "id": "3385d397-e459-4a0c-84cc-b43cbe3c5730",
   "metadata": {},
   "outputs": [
    {
     "ename": "NameError",
     "evalue": "name 'df' is not defined",
     "output_type": "error",
     "traceback": [
      "\u001b[0;31m---------------------------------------------------------------------------\u001b[0m",
      "\u001b[0;31mNameError\u001b[0m                                 Traceback (most recent call last)",
      "Cell \u001b[0;32mIn [4], line 1\u001b[0m\n\u001b[0;32m----> 1\u001b[0m df[\u001b[38;5;124m'\u001b[39m\u001b[38;5;124mindex\u001b[39m\u001b[38;5;124m'\u001b[39m] \u001b[38;5;241m=\u001b[39m df\u001b[38;5;241m.\u001b[39mindex\n\u001b[1;32m      3\u001b[0m \u001b[38;5;66;03m# Ema 89 strategy\u001b[39;00m\n\u001b[1;32m      4\u001b[0m df[\u001b[38;5;124m'\u001b[39m\u001b[38;5;124mEMA89High\u001b[39m\u001b[38;5;124m'\u001b[39m]\u001b[38;5;241m=\u001b[39mta\u001b[38;5;241m.\u001b[39mema(df\u001b[38;5;241m.\u001b[39mHigh, length\u001b[38;5;241m=\u001b[39m\u001b[38;5;241m89\u001b[39m)\n",
      "\u001b[0;31mNameError\u001b[0m: name 'df' is not defined"
     ]
    }
   ],
   "source": [
    "df['index'] = df.index\n",
    "\n",
    "# Ema 89 strategy\n",
    "df['EMA89High']=ta.ema(df.High, length=89)\n",
    "df['EMA89Low']=ta.ema(df.Low, length=89)\n",
    "\n",
    "df['SMA5'] = ta.sma(df.Close, length=5)\n",
    "df['SMA200'] = ta.sma(df.Close, length=200)\n",
    "\n",
    "# df['MA50'] = ta.sma(df.Close, length=50)\n",
    "# df['MA100'] = ta.sma(df.Close, length=100)\n",
    "\n",
    "df['EMA200']=ta.ema(df.Close, length=200)\n",
    "df['EMA150']=ta.ema(df.Close, length=150)\n",
    "df['EMA100']=ta.ema(df.Close, length=100)\n",
    "df['EMA50']=ta.ema(df.Close, length=50)\n",
    "\n",
    "df['EMA32']=ta.ema(df.Close, length=26)\n",
    "df['EMA21']=ta.ema(df.Close, length=21)\n",
    "df['EMA13']=ta.ema(df.Close, length=13)\n",
    "\n",
    "df['RSI']=ta.rsi(df.Close, length=14)\n",
    "\n",
    "\n",
    "df['Time'] = pd.to_datetime(df['Time'], unit='ms')\n",
    "df['1h%'] = (df['Close'].pct_change(periods=1).mul(100))\n",
    "df['4h%'] = (df['Close'].pct_change(periods=4).mul(100))\n",
    "df['8h%'] = (df['Close'].pct_change(periods=8).mul(100))\n",
    "\n",
    "# df = add_all_ta_features(df, open=\"Open\", high=\"High\", low=\"Low\", close=\"Close\", volume=\"Volume\", fillna=True)\n",
    "# df = add_all_ta_features(df, open=\"Open\", high=\"High\", low=\"Low\", close=\"Close\", volume=\"Volume_BTC\")\n",
    "\n",
    "df.tail()"
   ]
  },
  {
   "cell_type": "code",
   "execution_count": 140,
   "id": "696b8141-ae08-4518-8a49-d3f3fd6f3a6e",
   "metadata": {},
   "outputs": [
    {
     "name": "stderr",
     "output_type": "stream",
     "text": [
      "/opt/conda/lib/python3.10/site-packages/pyspark/sql/pandas/conversion.py:474: FutureWarning: iteritems is deprecated and will be removed in a future version. Use .items instead.\n",
      "  for column, series in pdf.iteritems():\n",
      "/opt/conda/lib/python3.10/site-packages/pyspark/sql/pandas/conversion.py:486: FutureWarning: iteritems is deprecated and will be removed in a future version. Use .items instead.\n",
      "  for column, series in pdf.iteritems():\n"
     ]
    },
    {
     "name": "stdout",
     "output_type": "stream",
     "text": [
      "root\n",
      " |-- Time: timestamp (nullable = true)\n",
      " |-- Open: double (nullable = true)\n",
      " |-- High: double (nullable = true)\n",
      " |-- Low: double (nullable = true)\n",
      " |-- Close: double (nullable = true)\n",
      " |-- Volume: double (nullable = true)\n",
      " |-- Coin: string (nullable = true)\n",
      " |-- index: long (nullable = true)\n",
      " |-- EMA89High: double (nullable = true)\n",
      " |-- EMA89Low: double (nullable = true)\n",
      " |-- SMA5: double (nullable = true)\n",
      " |-- SMA200: double (nullable = true)\n",
      " |-- MA50: double (nullable = true)\n",
      " |-- MA100: double (nullable = true)\n",
      " |-- EMA200: double (nullable = true)\n",
      " |-- EMA150: double (nullable = true)\n",
      " |-- EMA100: double (nullable = true)\n",
      " |-- EMA50: double (nullable = true)\n",
      " |-- EMA32: double (nullable = true)\n",
      " |-- EMA21: double (nullable = true)\n",
      " |-- EMA13: double (nullable = true)\n",
      " |-- RSI: double (nullable = true)\n",
      " |-- 4h%: double (nullable = true)\n",
      " |-- 1h%: double (nullable = true)\n",
      " |-- 8h%: double (nullable = true)\n",
      "\n",
      "+----+----+----+---+-----+------+----+-----+---------+--------+----+------+----+-----+------+------+------+-----+-----+-----+-----+---+---+---+---+\n",
      "|Time|Open|High|Low|Close|Volume|Coin|index|EMA89High|EMA89Low|SMA5|SMA200|MA50|MA100|EMA200|EMA150|EMA100|EMA50|EMA32|EMA21|EMA13|RSI|4h%|1h%|8h%|\n",
      "+----+----+----+---+-----+------+----+-----+---------+--------+----+------+----+-----+------+------+------+-----+-----+-----+-----+---+---+---+---+\n",
      "|   0|   0|   0|  0|    0|     0|   0|    0|        0|       0|   0|     0|   0|    0|     0|     0|     0|    0|    0|    0|    0|  0|  0|  0|  0|\n",
      "+----+----+----+---+-----+------+----+-----+---------+--------+----+------+----+-----+------+------+------+-----+-----+-----+-----+---+---+---+---+\n",
      "\n"
     ]
    }
   ],
   "source": [
    "# Create PySpark DataFrame from Pandas\n",
    "sdf = spark.createDataFrame(df)\n",
    "sdf = sdf.na.drop(how='any', thresh=None, subset=None)\n",
    "sdf.printSchema()\n",
    "sdf.select(*[\n",
    "    (\n",
    "        F.count(F.when((F.isnan(c) | F.col(c).isNull()), c)) if t not in (\"timestamp\", \"date\")\n",
    "        else F.count(F.when(F.col(c).isNull(), c))\n",
    "    ).alias(c)\n",
    "    for c, t in sdf.dtypes if c in sdf.columns\n",
    "]).show()"
   ]
  },
  {
   "cell_type": "code",
   "execution_count": 138,
   "id": "a2ad456e-e71b-42df-9ac7-ab7cf9629223",
   "metadata": {},
   "outputs": [
    {
     "name": "stdout",
     "output_type": "stream",
     "text": [
      "22/10/06 17:35:24 WARN package: Truncated the string representation of a plan since it was too large. This behavior can be adjusted by setting 'spark.sql.debug.maxToStringFields'.\n",
      "+--------------------+-----------+-----+-----+-------------------+\n",
      "|                 1h%|perc_change|Close| Open|               Time|\n",
      "+--------------------+-----------+-----+-----+-------------------+\n",
      "| -1.0195412064570974|    -1.0195|1.165|1.177|2022-01-09 08:00:00|\n",
      "|-0.42918454935623185|    -0.4292| 1.16|1.166|2022-01-09 09:00:00|\n",
      "| 0.34482758620688614|     0.3448|1.164|1.161|2022-01-09 10:00:00|\n",
      "|-0.08591065292095079|    -0.0859|1.163|1.164|2022-01-09 11:00:00|\n",
      "|                 0.0|        0.0|1.163|1.162|2022-01-09 12:00:00|\n",
      "| -0.6878761822871837|    -0.6879|1.155|1.163|2022-01-09 13:00:00|\n",
      "|  0.5194805194805197|     0.5195|1.161|1.155|2022-01-09 14:00:00|\n",
      "| 0.17226528854434875|     0.1723|1.163| 1.16|2022-01-09 15:00:00|\n",
      "|  2.2355975924333693|     2.2356|1.189|1.163|2022-01-09 16:00:00|\n",
      "|                 0.0|        0.0|1.189| 1.19|2022-01-09 17:00:00|\n",
      "| -0.3364171572750263|    -0.3364|1.185| 1.19|2022-01-09 18:00:00|\n",
      "|  1.4345991561181437|     1.4346|1.202|1.186|2022-01-09 19:00:00|\n",
      "| -0.7487520798668768|    -0.7488|1.193|1.202|2022-01-09 20:00:00|\n",
      "| -0.9220452640402499|     -0.922|1.182|1.192|2022-01-09 21:00:00|\n",
      "|                 0.0|        0.0|1.182|1.183|2022-01-09 22:00:00|\n",
      "| -1.0152284263959421|    -1.0152| 1.17|1.182|2022-01-09 23:00:00|\n",
      "| -0.5982905982905851|    -0.5983|1.163| 1.17|2022-01-10 00:00:00|\n",
      "| 0.34393809114359186|     0.3439|1.167|1.164|2022-01-10 01:00:00|\n",
      "| -0.1713796058269046|    -0.1714|1.165|1.167|2022-01-10 02:00:00|\n",
      "|-0.34334763948498104|    -0.3433|1.161|1.165|2022-01-10 03:00:00|\n",
      "+--------------------+-----------+-----+-----+-------------------+\n",
      "only showing top 20 rows\n",
      "\n"
     ]
    }
   ],
   "source": [
    "# price_window = Window.partitionBy('Coin').orderBy('Time')\n",
    "# sdf = sdf.withColumn(\"prev_value\", F.lag(sdf.Close).over(price_window))\n",
    "# sdf = sdf.na.drop(how='any', thresh=None, subset=None)\n",
    "# sdf = sdf.withColumn('perc_change', F.round((sdf.Close - sdf.prev_value) / F.abs(sdf.prev_value) * 100, 4))\n",
    "\n",
    "# sdf.drop(\"prev_value\")\n",
    "# sdf.orderBy(col(\"perc_change\").desc()).select(\"1h%\",\"perc_change\",\"Close\",\"Open\",\"Time\").orderBy('Time').show()"
   ]
  },
  {
   "cell_type": "code",
   "execution_count": 145,
   "id": "3a6520d0-67b4-4ea1-923f-2a6f1e3b7187",
   "metadata": {},
   "outputs": [
    {
     "ename": "Py4JError",
     "evalue": "An error occurred while calling o5283.and. Trace:\npy4j.Py4JException: Method and([class java.lang.Integer]) does not exist\n\tat py4j.reflection.ReflectionEngine.getMethod(ReflectionEngine.java:318)\n\tat py4j.reflection.ReflectionEngine.getMethod(ReflectionEngine.java:326)\n\tat py4j.Gateway.invoke(Gateway.java:274)\n\tat py4j.commands.AbstractCommand.invokeMethod(AbstractCommand.java:132)\n\tat py4j.commands.CallCommand.execute(CallCommand.java:79)\n\tat py4j.ClientServerConnection.waitForCommands(ClientServerConnection.java:182)\n\tat py4j.ClientServerConnection.run(ClientServerConnection.java:106)\n\tat java.lang.Thread.run(Thread.java:750)\n\n",
     "output_type": "error",
     "traceback": [
      "\u001b[0;31m---------------------------------------------------------------------------\u001b[0m",
      "\u001b[0;31mPy4JError\u001b[0m                                 Traceback (most recent call last)",
      "Cell \u001b[0;32mIn [145], line 2\u001b[0m\n\u001b[1;32m      1\u001b[0m sdf\u001b[38;5;241m.\u001b[39mwithColumn(\u001b[38;5;124m\"\u001b[39m\u001b[38;5;124mrange\u001b[39m\u001b[38;5;124m\"\u001b[39m, \n\u001b[0;32m----> 2\u001b[0m           F\u001b[38;5;241m.\u001b[39mwhen(sdf[\u001b[38;5;124m'\u001b[39m\u001b[38;5;124m8h\u001b[39m\u001b[38;5;124m%\u001b[39m\u001b[38;5;124m'\u001b[39m] \u001b[38;5;241m>\u001b[39m \u001b[38;5;241;43m0\u001b[39;49m\u001b[43m \u001b[49m\u001b[38;5;241;43m&\u001b[39;49m\u001b[43m \u001b[49m\u001b[43msdf\u001b[49m\u001b[43m[\u001b[49m\u001b[38;5;124;43m'\u001b[39;49m\u001b[38;5;124;43m8h\u001b[39;49m\u001b[38;5;124;43m%\u001b[39;49m\u001b[38;5;124;43m'\u001b[39;49m\u001b[43m]\u001b[49m \u001b[38;5;241m<\u001b[39m\u001b[38;5;241m=\u001b[39m \u001b[38;5;241m5\u001b[39m, F\u001b[38;5;241m.\u001b[39mlit(\u001b[38;5;124m\"\u001b[39m\u001b[38;5;124m0-5\u001b[39m\u001b[38;5;124m\"\u001b[39m))\n\u001b[1;32m      3\u001b[0m             \u001b[38;5;241m.\u001b[39motherwise(\n\u001b[1;32m      4\u001b[0m               F\u001b[38;5;241m.\u001b[39mwhen(sdf[\u001b[38;5;124m'\u001b[39m\u001b[38;5;124m8h\u001b[39m\u001b[38;5;124m%\u001b[39m\u001b[38;5;124m'\u001b[39m] \u001b[38;5;241m>\u001b[39m \u001b[38;5;241m5\u001b[39m \u001b[38;5;241m&\u001b[39m sdf[\u001b[38;5;124m'\u001b[39m\u001b[38;5;124m8h\u001b[39m\u001b[38;5;124m%\u001b[39m\u001b[38;5;124m'\u001b[39m] \u001b[38;5;241m<\u001b[39m\u001b[38;5;241m=\u001b[39m \u001b[38;5;241m8\u001b[39m, lit(\u001b[38;5;124m\"\u001b[39m\u001b[38;5;124m5-8\u001b[39m\u001b[38;5;124m\"\u001b[39m))\u001b[38;5;241m.\u001b[39motherwise(F\u001b[38;5;241m.\u001b[39mlit(\u001b[38;5;124m\"\u001b[39m\u001b[38;5;124mothers\u001b[39m\u001b[38;5;124m\"\u001b[39m))\n\u001b[1;32m      5\u001b[0m             )\n\u001b[1;32m      6\u001b[0m             \u001b[38;5;241m.\u001b[39motherwise(F\u001b[38;5;241m.\u001b[39mlit(\u001b[38;5;124m\"\u001b[39m\u001b[38;5;124m>8\u001b[39m\u001b[38;5;124m\"\u001b[39m))\n\u001b[1;32m      7\u001b[0m          )\u001b[38;5;241m.\u001b[39mgroupBy(\u001b[38;5;124m\"\u001b[39m\u001b[38;5;124mrange\u001b[39m\u001b[38;5;124m\"\u001b[39m)\u001b[38;5;241m.\u001b[39magg(\u001b[38;5;28msum\u001b[39m(sdf[\u001b[38;5;124m'\u001b[39m\u001b[38;5;124m8h\u001b[39m\u001b[38;5;124m%\u001b[39m\u001b[38;5;124m'\u001b[39m]))\u001b[38;5;241m.\u001b[39morderBy(\u001b[38;5;124m\"\u001b[39m\u001b[38;5;124mrange\u001b[39m\u001b[38;5;124m\"\u001b[39m)\u001b[38;5;241m.\u001b[39mshow\n",
      "File \u001b[0;32m/opt/conda/lib/python3.10/site-packages/pyspark/sql/column.py:163\u001b[0m, in \u001b[0;36m_bin_op.<locals>._\u001b[0;34m(self, other)\u001b[0m\n\u001b[1;32m    158\u001b[0m \u001b[38;5;28;01mdef\u001b[39;00m \u001b[38;5;21m_\u001b[39m(\n\u001b[1;32m    159\u001b[0m     \u001b[38;5;28mself\u001b[39m: \u001b[38;5;124m\"\u001b[39m\u001b[38;5;124mColumn\u001b[39m\u001b[38;5;124m\"\u001b[39m,\n\u001b[1;32m    160\u001b[0m     other: Union[\u001b[38;5;124m\"\u001b[39m\u001b[38;5;124mColumn\u001b[39m\u001b[38;5;124m\"\u001b[39m, \u001b[38;5;124m\"\u001b[39m\u001b[38;5;124mLiteralType\u001b[39m\u001b[38;5;124m\"\u001b[39m, \u001b[38;5;124m\"\u001b[39m\u001b[38;5;124mDecimalLiteral\u001b[39m\u001b[38;5;124m\"\u001b[39m, \u001b[38;5;124m\"\u001b[39m\u001b[38;5;124mDateTimeLiteral\u001b[39m\u001b[38;5;124m\"\u001b[39m],\n\u001b[1;32m    161\u001b[0m ) \u001b[38;5;241m-\u001b[39m\u001b[38;5;241m>\u001b[39m \u001b[38;5;124m\"\u001b[39m\u001b[38;5;124mColumn\u001b[39m\u001b[38;5;124m\"\u001b[39m:\n\u001b[1;32m    162\u001b[0m     jc \u001b[38;5;241m=\u001b[39m other\u001b[38;5;241m.\u001b[39m_jc \u001b[38;5;28;01mif\u001b[39;00m \u001b[38;5;28misinstance\u001b[39m(other, Column) \u001b[38;5;28;01melse\u001b[39;00m other\n\u001b[0;32m--> 163\u001b[0m     njc \u001b[38;5;241m=\u001b[39m \u001b[38;5;28;43mgetattr\u001b[39;49m\u001b[43m(\u001b[49m\u001b[38;5;28;43mself\u001b[39;49m\u001b[38;5;241;43m.\u001b[39;49m\u001b[43m_jc\u001b[49m\u001b[43m,\u001b[49m\u001b[43m \u001b[49m\u001b[43mname\u001b[49m\u001b[43m)\u001b[49m\u001b[43m(\u001b[49m\u001b[43mjc\u001b[49m\u001b[43m)\u001b[49m\n\u001b[1;32m    164\u001b[0m     \u001b[38;5;28;01mreturn\u001b[39;00m Column(njc)\n",
      "File \u001b[0;32m/opt/conda/lib/python3.10/site-packages/py4j/java_gateway.py:1321\u001b[0m, in \u001b[0;36mJavaMember.__call__\u001b[0;34m(self, *args)\u001b[0m\n\u001b[1;32m   1315\u001b[0m command \u001b[38;5;241m=\u001b[39m proto\u001b[38;5;241m.\u001b[39mCALL_COMMAND_NAME \u001b[38;5;241m+\u001b[39m\\\n\u001b[1;32m   1316\u001b[0m     \u001b[38;5;28mself\u001b[39m\u001b[38;5;241m.\u001b[39mcommand_header \u001b[38;5;241m+\u001b[39m\\\n\u001b[1;32m   1317\u001b[0m     args_command \u001b[38;5;241m+\u001b[39m\\\n\u001b[1;32m   1318\u001b[0m     proto\u001b[38;5;241m.\u001b[39mEND_COMMAND_PART\n\u001b[1;32m   1320\u001b[0m answer \u001b[38;5;241m=\u001b[39m \u001b[38;5;28mself\u001b[39m\u001b[38;5;241m.\u001b[39mgateway_client\u001b[38;5;241m.\u001b[39msend_command(command)\n\u001b[0;32m-> 1321\u001b[0m return_value \u001b[38;5;241m=\u001b[39m \u001b[43mget_return_value\u001b[49m\u001b[43m(\u001b[49m\n\u001b[1;32m   1322\u001b[0m \u001b[43m    \u001b[49m\u001b[43manswer\u001b[49m\u001b[43m,\u001b[49m\u001b[43m \u001b[49m\u001b[38;5;28;43mself\u001b[39;49m\u001b[38;5;241;43m.\u001b[39;49m\u001b[43mgateway_client\u001b[49m\u001b[43m,\u001b[49m\u001b[43m \u001b[49m\u001b[38;5;28;43mself\u001b[39;49m\u001b[38;5;241;43m.\u001b[39;49m\u001b[43mtarget_id\u001b[49m\u001b[43m,\u001b[49m\u001b[43m \u001b[49m\u001b[38;5;28;43mself\u001b[39;49m\u001b[38;5;241;43m.\u001b[39;49m\u001b[43mname\u001b[49m\u001b[43m)\u001b[49m\n\u001b[1;32m   1324\u001b[0m \u001b[38;5;28;01mfor\u001b[39;00m temp_arg \u001b[38;5;129;01min\u001b[39;00m temp_args:\n\u001b[1;32m   1325\u001b[0m     temp_arg\u001b[38;5;241m.\u001b[39m_detach()\n",
      "File \u001b[0;32m/opt/conda/lib/python3.10/site-packages/pyspark/sql/utils.py:190\u001b[0m, in \u001b[0;36mcapture_sql_exception.<locals>.deco\u001b[0;34m(*a, **kw)\u001b[0m\n\u001b[1;32m    188\u001b[0m \u001b[38;5;28;01mdef\u001b[39;00m \u001b[38;5;21mdeco\u001b[39m(\u001b[38;5;241m*\u001b[39ma: Any, \u001b[38;5;241m*\u001b[39m\u001b[38;5;241m*\u001b[39mkw: Any) \u001b[38;5;241m-\u001b[39m\u001b[38;5;241m>\u001b[39m Any:\n\u001b[1;32m    189\u001b[0m     \u001b[38;5;28;01mtry\u001b[39;00m:\n\u001b[0;32m--> 190\u001b[0m         \u001b[38;5;28;01mreturn\u001b[39;00m \u001b[43mf\u001b[49m\u001b[43m(\u001b[49m\u001b[38;5;241;43m*\u001b[39;49m\u001b[43ma\u001b[49m\u001b[43m,\u001b[49m\u001b[43m \u001b[49m\u001b[38;5;241;43m*\u001b[39;49m\u001b[38;5;241;43m*\u001b[39;49m\u001b[43mkw\u001b[49m\u001b[43m)\u001b[49m\n\u001b[1;32m    191\u001b[0m     \u001b[38;5;28;01mexcept\u001b[39;00m Py4JJavaError \u001b[38;5;28;01mas\u001b[39;00m e:\n\u001b[1;32m    192\u001b[0m         converted \u001b[38;5;241m=\u001b[39m convert_exception(e\u001b[38;5;241m.\u001b[39mjava_exception)\n",
      "File \u001b[0;32m/opt/conda/lib/python3.10/site-packages/py4j/protocol.py:330\u001b[0m, in \u001b[0;36mget_return_value\u001b[0;34m(answer, gateway_client, target_id, name)\u001b[0m\n\u001b[1;32m    326\u001b[0m         \u001b[38;5;28;01mraise\u001b[39;00m Py4JJavaError(\n\u001b[1;32m    327\u001b[0m             \u001b[38;5;124m\"\u001b[39m\u001b[38;5;124mAn error occurred while calling \u001b[39m\u001b[38;5;132;01m{0}\u001b[39;00m\u001b[38;5;132;01m{1}\u001b[39;00m\u001b[38;5;132;01m{2}\u001b[39;00m\u001b[38;5;124m.\u001b[39m\u001b[38;5;130;01m\\n\u001b[39;00m\u001b[38;5;124m\"\u001b[39m\u001b[38;5;241m.\u001b[39m\n\u001b[1;32m    328\u001b[0m             \u001b[38;5;28mformat\u001b[39m(target_id, \u001b[38;5;124m\"\u001b[39m\u001b[38;5;124m.\u001b[39m\u001b[38;5;124m\"\u001b[39m, name), value)\n\u001b[1;32m    329\u001b[0m     \u001b[38;5;28;01melse\u001b[39;00m:\n\u001b[0;32m--> 330\u001b[0m         \u001b[38;5;28;01mraise\u001b[39;00m Py4JError(\n\u001b[1;32m    331\u001b[0m             \u001b[38;5;124m\"\u001b[39m\u001b[38;5;124mAn error occurred while calling \u001b[39m\u001b[38;5;132;01m{0}\u001b[39;00m\u001b[38;5;132;01m{1}\u001b[39;00m\u001b[38;5;132;01m{2}\u001b[39;00m\u001b[38;5;124m. Trace:\u001b[39m\u001b[38;5;130;01m\\n\u001b[39;00m\u001b[38;5;132;01m{3}\u001b[39;00m\u001b[38;5;130;01m\\n\u001b[39;00m\u001b[38;5;124m\"\u001b[39m\u001b[38;5;241m.\u001b[39m\n\u001b[1;32m    332\u001b[0m             \u001b[38;5;28mformat\u001b[39m(target_id, \u001b[38;5;124m\"\u001b[39m\u001b[38;5;124m.\u001b[39m\u001b[38;5;124m\"\u001b[39m, name, value))\n\u001b[1;32m    333\u001b[0m \u001b[38;5;28;01melse\u001b[39;00m:\n\u001b[1;32m    334\u001b[0m     \u001b[38;5;28;01mraise\u001b[39;00m Py4JError(\n\u001b[1;32m    335\u001b[0m         \u001b[38;5;124m\"\u001b[39m\u001b[38;5;124mAn error occurred while calling \u001b[39m\u001b[38;5;132;01m{0}\u001b[39;00m\u001b[38;5;132;01m{1}\u001b[39;00m\u001b[38;5;132;01m{2}\u001b[39;00m\u001b[38;5;124m\"\u001b[39m\u001b[38;5;241m.\u001b[39m\n\u001b[1;32m    336\u001b[0m         \u001b[38;5;28mformat\u001b[39m(target_id, \u001b[38;5;124m\"\u001b[39m\u001b[38;5;124m.\u001b[39m\u001b[38;5;124m\"\u001b[39m, name))\n",
      "\u001b[0;31mPy4JError\u001b[0m: An error occurred while calling o5283.and. Trace:\npy4j.Py4JException: Method and([class java.lang.Integer]) does not exist\n\tat py4j.reflection.ReflectionEngine.getMethod(ReflectionEngine.java:318)\n\tat py4j.reflection.ReflectionEngine.getMethod(ReflectionEngine.java:326)\n\tat py4j.Gateway.invoke(Gateway.java:274)\n\tat py4j.commands.AbstractCommand.invokeMethod(AbstractCommand.java:132)\n\tat py4j.commands.CallCommand.execute(CallCommand.java:79)\n\tat py4j.ClientServerConnection.waitForCommands(ClientServerConnection.java:182)\n\tat py4j.ClientServerConnection.run(ClientServerConnection.java:106)\n\tat java.lang.Thread.run(Thread.java:750)\n\n"
     ]
    }
   ],
   "source": [
    "sdf.withColumn(\"range\", \n",
    "          F.when(sdf['8h%'] > 0 & sdf['8h%'] <= 5, F.lit(\"0-5\"))\n",
    "            .otherwise(\n",
    "              F.when(sdf['8h%'] > 5 & sdf['8h%'] <= 8, lit(\"5-8\")).otherwise(F.lit(\"others\"))\n",
    "            )\n",
    "            .otherwise(F.lit(\">8\"))\n",
    "         ).groupBy(\"range\").agg(sum(sdf['8h%'])).orderBy(\"range\").show"
   ]
  },
  {
   "cell_type": "code",
   "execution_count": 21,
   "id": "d2867b44-c313-4561-8f9a-87adbcced38a",
   "metadata": {},
   "outputs": [
    {
     "ename": "SyntaxError",
     "evalue": "invalid syntax (4150372299.py, line 3)",
     "output_type": "error",
     "traceback": [
      "\u001b[0;36m  Cell \u001b[0;32mIn [21], line 3\u001b[0;36m\u001b[0m\n\u001b[0;31m    row['MA50'] > row['MA100']: return \"Bullish\"\u001b[0m\n\u001b[0m                              ^\u001b[0m\n\u001b[0;31mSyntaxError\u001b[0m\u001b[0;31m:\u001b[0m invalid syntax\n"
     ]
    }
   ],
   "source": [
    "# Add indicators strategies\n",
    "def bullish_indicator(row):\n",
    " row['MA50'] > row['MA100']: return \"Bullish\"\n",
    " return \"Bearish\"\n",
    "\n",
    "df['bullish_indicator'] = df.apply(lambda row: bullish_indicator(row), axis=1)\n"
   ]
  },
  {
   "cell_type": "code",
   "execution_count": 57,
   "id": "03f176db-e04f-42f3-a8fb-e0bd8f07bb7f",
   "metadata": {},
   "outputs": [],
   "source": [
    "def addemasignal(df):\n",
    "    emasignal = [0]*len(df)\n",
    "    for i in range(0, len(df)):\n",
    "        if df.EMA2[i]>df.EMA[i]:\n",
    "            emasignal[i]=2\n",
    "        elif df.EMA2[i]<df.EMA[i]:\n",
    "            emasignal[i]=1\n",
    "    df['EMASignal'] = emasignal\n",
    "\n",
    "addemasignal(df)"
   ]
  },
  {
   "cell_type": "code",
   "execution_count": 58,
   "id": "614b39c3-fcc5-4fb7-a143-28bb270a8dc6",
   "metadata": {},
   "outputs": [],
   "source": [
    "def addorderslimit(df, percent):\n",
    "    ordersignal=[0]*len(df)\n",
    "    for i in range(1, len(df)): #EMASignal of previous candle!!! modified!!!\n",
    "        if  df.Close[i]<=df['BBL_14_2.0'][i] and df.EMASignal[i]==2:\n",
    "            ordersignal[i]=df.Close[i]-df.Close[i]*percent\n",
    "        elif df.Close[i]>=df['BBU_14_2.0'][i] and df.EMASignal[i]==1:\n",
    "            ordersignal[i]=df.Close[i]+df.Close[i]*percent\n",
    "    df['ordersignal']=ordersignal\n",
    "    \n",
    "addorderslimit(df, 0.000)"
   ]
  },
  {
   "cell_type": "code",
   "execution_count": 59,
   "id": "9bc3e038-7df1-49b9-901c-872ba9dbbf8f",
   "metadata": {},
   "outputs": [
    {
     "data": {
      "text/html": [
       "<div>\n",
       "<style scoped>\n",
       "    .dataframe tbody tr th:only-of-type {\n",
       "        vertical-align: middle;\n",
       "    }\n",
       "\n",
       "    .dataframe tbody tr th {\n",
       "        vertical-align: top;\n",
       "    }\n",
       "\n",
       "    .dataframe thead th {\n",
       "        text-align: right;\n",
       "    }\n",
       "</style>\n",
       "<table border=\"1\" class=\"dataframe\">\n",
       "  <thead>\n",
       "    <tr style=\"text-align: right;\">\n",
       "      <th></th>\n",
       "      <th>index</th>\n",
       "      <th>Date</th>\n",
       "      <th>Open</th>\n",
       "      <th>High</th>\n",
       "      <th>Low</th>\n",
       "      <th>Close</th>\n",
       "      <th>Adj Close</th>\n",
       "      <th>Volume</th>\n",
       "      <th>EMA</th>\n",
       "      <th>EMA2</th>\n",
       "      <th>RSI</th>\n",
       "      <th>BBL_14_2.0</th>\n",
       "      <th>BBM_14_2.0</th>\n",
       "      <th>BBU_14_2.0</th>\n",
       "      <th>BBB_14_2.0</th>\n",
       "      <th>BBP_14_2.0</th>\n",
       "      <th>EMASignal</th>\n",
       "      <th>ordersignal</th>\n",
       "    </tr>\n",
       "  </thead>\n",
       "  <tbody>\n",
       "    <tr>\n",
       "      <th>49</th>\n",
       "      <td>248</td>\n",
       "      <td>2020-09-05</td>\n",
       "      <td>388.038391</td>\n",
       "      <td>394.172272</td>\n",
       "      <td>316.774353</td>\n",
       "      <td>335.260071</td>\n",
       "      <td>335.260071</td>\n",
       "      <td>29880047640</td>\n",
       "      <td>268.359592</td>\n",
       "      <td>291.964020</td>\n",
       "      <td>36.268771</td>\n",
       "      <td>337.465630</td>\n",
       "      <td>402.726118</td>\n",
       "      <td>467.986606</td>\n",
       "      <td>32.409365</td>\n",
       "      <td>-0.016898</td>\n",
       "      <td>2</td>\n",
       "      <td>335.260071</td>\n",
       "    </tr>\n",
       "    <tr>\n",
       "      <th>67</th>\n",
       "      <td>266</td>\n",
       "      <td>2020-09-23</td>\n",
       "      <td>344.589905</td>\n",
       "      <td>344.671387</td>\n",
       "      <td>318.969208</td>\n",
       "      <td>321.116302</td>\n",
       "      <td>321.116302</td>\n",
       "      <td>12899346599</td>\n",
       "      <td>283.953657</td>\n",
       "      <td>307.119985</td>\n",
       "      <td>35.267135</td>\n",
       "      <td>329.503629</td>\n",
       "      <td>367.204104</td>\n",
       "      <td>404.904579</td>\n",
       "      <td>20.533798</td>\n",
       "      <td>-0.111236</td>\n",
       "      <td>2</td>\n",
       "      <td>321.116302</td>\n",
       "    </tr>\n",
       "    <tr>\n",
       "      <th>220</th>\n",
       "      <td>419</td>\n",
       "      <td>2021-02-23</td>\n",
       "      <td>1781.409058</td>\n",
       "      <td>1781.409058</td>\n",
       "      <td>1378.840942</td>\n",
       "      <td>1570.203979</td>\n",
       "      <td>1570.203979</td>\n",
       "      <td>52029864713</td>\n",
       "      <td>867.696970</td>\n",
       "      <td>994.366944</td>\n",
       "      <td>40.837993</td>\n",
       "      <td>1627.356914</td>\n",
       "      <td>1821.787912</td>\n",
       "      <td>2016.218909</td>\n",
       "      <td>21.345075</td>\n",
       "      <td>-0.146975</td>\n",
       "      <td>2</td>\n",
       "      <td>1570.203979</td>\n",
       "    </tr>\n",
       "    <tr>\n",
       "      <th>222</th>\n",
       "      <td>421</td>\n",
       "      <td>2021-02-25</td>\n",
       "      <td>1625.393921</td>\n",
       "      <td>1670.224121</td>\n",
       "      <td>1465.058960</td>\n",
       "      <td>1475.703735</td>\n",
       "      <td>1475.703735</td>\n",
       "      <td>24481681873</td>\n",
       "      <td>881.222686</td>\n",
       "      <td>1009.004982</td>\n",
       "      <td>37.469127</td>\n",
       "      <td>1513.738582</td>\n",
       "      <td>1791.376343</td>\n",
       "      <td>2069.014103</td>\n",
       "      <td>30.997145</td>\n",
       "      <td>-0.068497</td>\n",
       "      <td>2</td>\n",
       "      <td>1475.703735</td>\n",
       "    </tr>\n",
       "    <tr>\n",
       "      <th>247</th>\n",
       "      <td>446</td>\n",
       "      <td>2021-03-22</td>\n",
       "      <td>1788.362183</td>\n",
       "      <td>1811.968262</td>\n",
       "      <td>1674.299805</td>\n",
       "      <td>1691.333984</td>\n",
       "      <td>1691.333984</td>\n",
       "      <td>23599296129</td>\n",
       "      <td>1065.059650</td>\n",
       "      <td>1209.122841</td>\n",
       "      <td>45.084565</td>\n",
       "      <td>1709.724922</td>\n",
       "      <td>1811.396467</td>\n",
       "      <td>1913.068012</td>\n",
       "      <td>11.225764</td>\n",
       "      <td>-0.090443</td>\n",
       "      <td>2</td>\n",
       "      <td>1691.333984</td>\n",
       "    </tr>\n",
       "    <tr>\n",
       "      <th>248</th>\n",
       "      <td>447</td>\n",
       "      <td>2021-03-23</td>\n",
       "      <td>1690.871826</td>\n",
       "      <td>1725.108765</td>\n",
       "      <td>1662.539917</td>\n",
       "      <td>1678.650146</td>\n",
       "      <td>1678.650146</td>\n",
       "      <td>21998237965</td>\n",
       "      <td>1071.165028</td>\n",
       "      <td>1215.341746</td>\n",
       "      <td>44.166295</td>\n",
       "      <td>1680.723780</td>\n",
       "      <td>1797.867990</td>\n",
       "      <td>1915.012199</td>\n",
       "      <td>13.031458</td>\n",
       "      <td>-0.008851</td>\n",
       "      <td>2</td>\n",
       "      <td>1678.650146</td>\n",
       "    </tr>\n",
       "    <tr>\n",
       "      <th>249</th>\n",
       "      <td>448</td>\n",
       "      <td>2021-03-24</td>\n",
       "      <td>1678.002563</td>\n",
       "      <td>1740.428223</td>\n",
       "      <td>1570.787964</td>\n",
       "      <td>1593.413452</td>\n",
       "      <td>1593.413452</td>\n",
       "      <td>31228051473</td>\n",
       "      <td>1076.361530</td>\n",
       "      <td>1220.349318</td>\n",
       "      <td>38.428324</td>\n",
       "      <td>1625.685960</td>\n",
       "      <td>1783.171361</td>\n",
       "      <td>1940.656761</td>\n",
       "      <td>17.663518</td>\n",
       "      <td>-0.102462</td>\n",
       "      <td>2</td>\n",
       "      <td>1593.413452</td>\n",
       "    </tr>\n",
       "    <tr>\n",
       "      <th>305</th>\n",
       "      <td>504</td>\n",
       "      <td>2021-05-19</td>\n",
       "      <td>3382.657227</td>\n",
       "      <td>3437.935791</td>\n",
       "      <td>1952.460205</td>\n",
       "      <td>2460.679199</td>\n",
       "      <td>2460.679199</td>\n",
       "      <td>84482912776</td>\n",
       "      <td>1793.775843</td>\n",
       "      <td>2042.681100</td>\n",
       "      <td>34.275799</td>\n",
       "      <td>2807.368032</td>\n",
       "      <td>3632.637608</td>\n",
       "      <td>4457.907184</td>\n",
       "      <td>45.436383</td>\n",
       "      <td>-0.210046</td>\n",
       "      <td>2</td>\n",
       "      <td>2460.679199</td>\n",
       "    </tr>\n",
       "    <tr>\n",
       "      <th>338</th>\n",
       "      <td>537</td>\n",
       "      <td>2021-06-21</td>\n",
       "      <td>2245.317871</td>\n",
       "      <td>2259.464111</td>\n",
       "      <td>1867.185425</td>\n",
       "      <td>1888.447510</td>\n",
       "      <td>1888.447510</td>\n",
       "      <td>33745173825</td>\n",
       "      <td>1989.472050</td>\n",
       "      <td>2200.718173</td>\n",
       "      <td>31.420723</td>\n",
       "      <td>1999.297184</td>\n",
       "      <td>2376.100481</td>\n",
       "      <td>2752.903779</td>\n",
       "      <td>31.716108</td>\n",
       "      <td>-0.147092</td>\n",
       "      <td>2</td>\n",
       "      <td>1888.447510</td>\n",
       "    </tr>\n",
       "    <tr>\n",
       "      <th>339</th>\n",
       "      <td>538</td>\n",
       "      <td>2021-06-22</td>\n",
       "      <td>1886.667603</td>\n",
       "      <td>1993.159790</td>\n",
       "      <td>1707.600586</td>\n",
       "      <td>1874.950073</td>\n",
       "      <td>1874.950073</td>\n",
       "      <td>35547251725</td>\n",
       "      <td>1988.332528</td>\n",
       "      <td>2196.403364</td>\n",
       "      <td>31.142013</td>\n",
       "      <td>1883.435034</td>\n",
       "      <td>2330.208435</td>\n",
       "      <td>2776.981836</td>\n",
       "      <td>38.346218</td>\n",
       "      <td>-0.009496</td>\n",
       "      <td>2</td>\n",
       "      <td>1874.950073</td>\n",
       "    </tr>\n",
       "    <tr>\n",
       "      <th>360</th>\n",
       "      <td>559</td>\n",
       "      <td>2021-07-13</td>\n",
       "      <td>2034.098389</td>\n",
       "      <td>2040.693604</td>\n",
       "      <td>1922.577881</td>\n",
       "      <td>1940.083984</td>\n",
       "      <td>1940.083984</td>\n",
       "      <td>16621628658</td>\n",
       "      <td>2011.503818</td>\n",
       "      <td>2175.696391</td>\n",
       "      <td>38.739672</td>\n",
       "      <td>1956.058397</td>\n",
       "      <td>2172.789124</td>\n",
       "      <td>2389.519850</td>\n",
       "      <td>19.949541</td>\n",
       "      <td>-0.036853</td>\n",
       "      <td>2</td>\n",
       "      <td>1940.083984</td>\n",
       "    </tr>\n",
       "    <tr>\n",
       "      <th>429</th>\n",
       "      <td>628</td>\n",
       "      <td>2021-09-20</td>\n",
       "      <td>3329.670654</td>\n",
       "      <td>3343.325439</td>\n",
       "      <td>2940.839111</td>\n",
       "      <td>2958.993408</td>\n",
       "      <td>2958.993408</td>\n",
       "      <td>27371684581</td>\n",
       "      <td>2535.591964</td>\n",
       "      <td>2727.578381</td>\n",
       "      <td>36.229557</td>\n",
       "      <td>3061.796204</td>\n",
       "      <td>3375.944685</td>\n",
       "      <td>3690.093165</td>\n",
       "      <td>18.610997</td>\n",
       "      <td>-0.163621</td>\n",
       "      <td>2</td>\n",
       "      <td>2958.993408</td>\n",
       "    </tr>\n",
       "    <tr>\n",
       "      <th>430</th>\n",
       "      <td>629</td>\n",
       "      <td>2021-09-21</td>\n",
       "      <td>2977.310547</td>\n",
       "      <td>3101.697510</td>\n",
       "      <td>2676.407471</td>\n",
       "      <td>2764.431152</td>\n",
       "      <td>2764.431152</td>\n",
       "      <td>30405062665</td>\n",
       "      <td>2537.868971</td>\n",
       "      <td>2728.066497</td>\n",
       "      <td>32.172671</td>\n",
       "      <td>2886.098802</td>\n",
       "      <td>3328.661604</td>\n",
       "      <td>3771.224406</td>\n",
       "      <td>26.591036</td>\n",
       "      <td>-0.137458</td>\n",
       "      <td>2</td>\n",
       "      <td>2764.431152</td>\n",
       "    </tr>\n",
       "    <tr>\n",
       "      <th>486</th>\n",
       "      <td>685</td>\n",
       "      <td>2021-11-16</td>\n",
       "      <td>4570.478027</td>\n",
       "      <td>4891.704590</td>\n",
       "      <td>4144.334961</td>\n",
       "      <td>4216.365234</td>\n",
       "      <td>4216.365234</td>\n",
       "      <td>27417502801</td>\n",
       "      <td>3160.634559</td>\n",
       "      <td>3407.290196</td>\n",
       "      <td>41.198662</td>\n",
       "      <td>4326.863343</td>\n",
       "      <td>4600.386823</td>\n",
       "      <td>4873.910304</td>\n",
       "      <td>11.891325</td>\n",
       "      <td>-0.201990</td>\n",
       "      <td>2</td>\n",
       "      <td>4216.365234</td>\n",
       "    </tr>\n",
       "    <tr>\n",
       "      <th>488</th>\n",
       "      <td>687</td>\n",
       "      <td>2021-11-18</td>\n",
       "      <td>4287.802246</td>\n",
       "      <td>4343.557129</td>\n",
       "      <td>3959.227783</td>\n",
       "      <td>4000.650879</td>\n",
       "      <td>4000.650879</td>\n",
       "      <td>21383250893</td>\n",
       "      <td>3180.094878</td>\n",
       "      <td>3426.654495</td>\n",
       "      <td>35.715105</td>\n",
       "      <td>4103.996881</td>\n",
       "      <td>4539.224435</td>\n",
       "      <td>4974.451989</td>\n",
       "      <td>19.176296</td>\n",
       "      <td>-0.118726</td>\n",
       "      <td>2</td>\n",
       "      <td>4000.650879</td>\n",
       "    </tr>\n",
       "    <tr>\n",
       "      <th>528</th>\n",
       "      <td>727</td>\n",
       "      <td>2021-12-28</td>\n",
       "      <td>4037.538086</td>\n",
       "      <td>4037.538086</td>\n",
       "      <td>3769.280029</td>\n",
       "      <td>3800.893066</td>\n",
       "      <td>3800.893066</td>\n",
       "      <td>17299472803</td>\n",
       "      <td>3493.032045</td>\n",
       "      <td>3715.009375</td>\n",
       "      <td>39.294104</td>\n",
       "      <td>3823.280183</td>\n",
       "      <td>3988.217861</td>\n",
       "      <td>4153.155538</td>\n",
       "      <td>8.271247</td>\n",
       "      <td>-0.067865</td>\n",
       "      <td>2</td>\n",
       "      <td>3800.893066</td>\n",
       "    </tr>\n",
       "    <tr>\n",
       "      <th>529</th>\n",
       "      <td>728</td>\n",
       "      <td>2021-12-29</td>\n",
       "      <td>3797.436279</td>\n",
       "      <td>3827.981934</td>\n",
       "      <td>3612.795898</td>\n",
       "      <td>3628.531738</td>\n",
       "      <td>3628.531738</td>\n",
       "      <td>15722555672</td>\n",
       "      <td>3494.380300</td>\n",
       "      <td>3713.863976</td>\n",
       "      <td>34.156381</td>\n",
       "      <td>3713.781027</td>\n",
       "      <td>3960.370937</td>\n",
       "      <td>4206.960847</td>\n",
       "      <td>12.452869</td>\n",
       "      <td>-0.172856</td>\n",
       "      <td>2</td>\n",
       "      <td>3628.531738</td>\n",
       "    </tr>\n",
       "    <tr>\n",
       "      <th>538</th>\n",
       "      <td>737</td>\n",
       "      <td>2022-01-07</td>\n",
       "      <td>3417.837891</td>\n",
       "      <td>3420.461914</td>\n",
       "      <td>3117.381348</td>\n",
       "      <td>3193.210449</td>\n",
       "      <td>3193.210449</td>\n",
       "      <td>24494179209</td>\n",
       "      <td>3506.142548</td>\n",
       "      <td>3704.354652</td>\n",
       "      <td>26.433067</td>\n",
       "      <td>3263.170803</td>\n",
       "      <td>3738.626500</td>\n",
       "      <td>4214.082197</td>\n",
       "      <td>25.434779</td>\n",
       "      <td>-0.073572</td>\n",
       "      <td>2</td>\n",
       "      <td>3193.210449</td>\n",
       "    </tr>\n",
       "    <tr>\n",
       "      <th>539</th>\n",
       "      <td>738</td>\n",
       "      <td>2022-01-08</td>\n",
       "      <td>3193.502441</td>\n",
       "      <td>3240.304443</td>\n",
       "      <td>3020.880859</td>\n",
       "      <td>3091.972656</td>\n",
       "      <td>3091.972656</td>\n",
       "      <td>16037732700</td>\n",
       "      <td>3502.021454</td>\n",
       "      <td>3696.243633</td>\n",
       "      <td>24.469876</td>\n",
       "      <td>3129.392605</td>\n",
       "      <td>3667.104475</td>\n",
       "      <td>4204.816345</td>\n",
       "      <td>29.326237</td>\n",
       "      <td>-0.034796</td>\n",
       "      <td>2</td>\n",
       "      <td>3091.972656</td>\n",
       "    </tr>\n",
       "    <tr>\n",
       "      <th>552</th>\n",
       "      <td>751</td>\n",
       "      <td>2022-01-21</td>\n",
       "      <td>3002.956787</td>\n",
       "      <td>3029.081055</td>\n",
       "      <td>2496.812988</td>\n",
       "      <td>2557.931641</td>\n",
       "      <td>2557.931641</td>\n",
       "      <td>26796291874</td>\n",
       "      <td>3460.220110</td>\n",
       "      <td>3610.538104</td>\n",
       "      <td>21.626173</td>\n",
       "      <td>2760.991447</td>\n",
       "      <td>3158.153024</td>\n",
       "      <td>3555.314601</td>\n",
       "      <td>25.151509</td>\n",
       "      <td>-0.255639</td>\n",
       "      <td>2</td>\n",
       "      <td>2557.931641</td>\n",
       "    </tr>\n",
       "    <tr>\n",
       "      <th>553</th>\n",
       "      <td>752</td>\n",
       "      <td>2022-01-22</td>\n",
       "      <td>2561.145264</td>\n",
       "      <td>2615.247314</td>\n",
       "      <td>2330.247314</td>\n",
       "      <td>2405.181152</td>\n",
       "      <td>2405.181152</td>\n",
       "      <td>27369692036</td>\n",
       "      <td>3449.722210</td>\n",
       "      <td>3594.573111</td>\n",
       "      <td>19.412083</td>\n",
       "      <td>2553.353536</td>\n",
       "      <td>3109.096488</td>\n",
       "      <td>3664.839440</td>\n",
       "      <td>35.749482</td>\n",
       "      <td>-0.133310</td>\n",
       "      <td>2</td>\n",
       "      <td>2405.181152</td>\n",
       "    </tr>\n",
       "    <tr>\n",
       "      <th>632</th>\n",
       "      <td>831</td>\n",
       "      <td>2022-04-11</td>\n",
       "      <td>3209.576904</td>\n",
       "      <td>3214.461914</td>\n",
       "      <td>2962.756592</td>\n",
       "      <td>2981.052246</td>\n",
       "      <td>2981.052246</td>\n",
       "      <td>21891804831</td>\n",
       "      <td>3168.533713</td>\n",
       "      <td>3174.102513</td>\n",
       "      <td>39.768759</td>\n",
       "      <td>3021.395250</td>\n",
       "      <td>3319.367379</td>\n",
       "      <td>3617.339509</td>\n",
       "      <td>17.953549</td>\n",
       "      <td>-0.067696</td>\n",
       "      <td>2</td>\n",
       "      <td>2981.052246</td>\n",
       "    </tr>\n",
       "    <tr>\n",
       "      <th>728</th>\n",
       "      <td>927</td>\n",
       "      <td>2022-07-16</td>\n",
       "      <td>1232.791626</td>\n",
       "      <td>1377.944580</td>\n",
       "      <td>1195.605957</td>\n",
       "      <td>1352.626465</td>\n",
       "      <td>1352.626465</td>\n",
       "      <td>18364013796</td>\n",
       "      <td>2286.550065</td>\n",
       "      <td>2098.152419</td>\n",
       "      <td>62.332015</td>\n",
       "      <td>1017.574871</td>\n",
       "      <td>1172.722700</td>\n",
       "      <td>1327.870528</td>\n",
       "      <td>26.459423</td>\n",
       "      <td>1.079782</td>\n",
       "      <td>1</td>\n",
       "      <td>1352.626465</td>\n",
       "    </tr>\n",
       "    <tr>\n",
       "      <th>730</th>\n",
       "      <td>929</td>\n",
       "      <td>2022-07-18</td>\n",
       "      <td>1338.806030</td>\n",
       "      <td>1578.717896</td>\n",
       "      <td>1338.806030</td>\n",
       "      <td>1578.717896</td>\n",
       "      <td>1578.717896</td>\n",
       "      <td>27440420623</td>\n",
       "      <td>2270.168826</td>\n",
       "      <td>2081.345910</td>\n",
       "      <td>72.528141</td>\n",
       "      <td>964.679505</td>\n",
       "      <td>1222.188956</td>\n",
       "      <td>1479.698407</td>\n",
       "      <td>42.139057</td>\n",
       "      <td>1.192264</td>\n",
       "      <td>1</td>\n",
       "      <td>1578.717896</td>\n",
       "    </tr>\n",
       "    <tr>\n",
       "      <th>753</th>\n",
       "      <td>952</td>\n",
       "      <td>2022-08-10</td>\n",
       "      <td>1702.906494</td>\n",
       "      <td>1869.400635</td>\n",
       "      <td>1665.090454</td>\n",
       "      <td>1851.742676</td>\n",
       "      <td>1851.742676</td>\n",
       "      <td>23512477984</td>\n",
       "      <td>2140.892764</td>\n",
       "      <td>1965.481921</td>\n",
       "      <td>67.517116</td>\n",
       "      <td>1572.836329</td>\n",
       "      <td>1698.509347</td>\n",
       "      <td>1824.182365</td>\n",
       "      <td>14.798037</td>\n",
       "      <td>1.109651</td>\n",
       "      <td>1</td>\n",
       "      <td>1851.742676</td>\n",
       "    </tr>\n",
       "    <tr>\n",
       "      <th>754</th>\n",
       "      <td>953</td>\n",
       "      <td>2022-08-11</td>\n",
       "      <td>1851.828369</td>\n",
       "      <td>1927.939209</td>\n",
       "      <td>1851.828369</td>\n",
       "      <td>1881.224121</td>\n",
       "      <td>1881.224121</td>\n",
       "      <td>23826986482</td>\n",
       "      <td>2138.308996</td>\n",
       "      <td>1964.365924</td>\n",
       "      <td>68.898184</td>\n",
       "      <td>1552.697083</td>\n",
       "      <td>1709.634774</td>\n",
       "      <td>1866.572465</td>\n",
       "      <td>18.359207</td>\n",
       "      <td>1.046680</td>\n",
       "      <td>1</td>\n",
       "      <td>1881.224121</td>\n",
       "    </tr>\n",
       "    <tr>\n",
       "      <th>755</th>\n",
       "      <td>954</td>\n",
       "      <td>2022-08-12</td>\n",
       "      <td>1880.899170</td>\n",
       "      <td>1957.552979</td>\n",
       "      <td>1860.083496</td>\n",
       "      <td>1957.246460</td>\n",
       "      <td>1957.246460</td>\n",
       "      <td>17168141904</td>\n",
       "      <td>2136.507379</td>\n",
       "      <td>1964.271626</td>\n",
       "      <td>72.220672</td>\n",
       "      <td>1523.619928</td>\n",
       "      <td>1726.051880</td>\n",
       "      <td>1928.483831</td>\n",
       "      <td>23.456068</td>\n",
       "      <td>1.071043</td>\n",
       "      <td>1</td>\n",
       "      <td>1957.246460</td>\n",
       "    </tr>\n",
       "  </tbody>\n",
       "</table>\n",
       "</div>"
      ],
      "text/plain": [
       "     index       Date         Open         High          Low        Close  \\\n",
       "49     248 2020-09-05   388.038391   394.172272   316.774353   335.260071   \n",
       "67     266 2020-09-23   344.589905   344.671387   318.969208   321.116302   \n",
       "220    419 2021-02-23  1781.409058  1781.409058  1378.840942  1570.203979   \n",
       "222    421 2021-02-25  1625.393921  1670.224121  1465.058960  1475.703735   \n",
       "247    446 2021-03-22  1788.362183  1811.968262  1674.299805  1691.333984   \n",
       "248    447 2021-03-23  1690.871826  1725.108765  1662.539917  1678.650146   \n",
       "249    448 2021-03-24  1678.002563  1740.428223  1570.787964  1593.413452   \n",
       "305    504 2021-05-19  3382.657227  3437.935791  1952.460205  2460.679199   \n",
       "338    537 2021-06-21  2245.317871  2259.464111  1867.185425  1888.447510   \n",
       "339    538 2021-06-22  1886.667603  1993.159790  1707.600586  1874.950073   \n",
       "360    559 2021-07-13  2034.098389  2040.693604  1922.577881  1940.083984   \n",
       "429    628 2021-09-20  3329.670654  3343.325439  2940.839111  2958.993408   \n",
       "430    629 2021-09-21  2977.310547  3101.697510  2676.407471  2764.431152   \n",
       "486    685 2021-11-16  4570.478027  4891.704590  4144.334961  4216.365234   \n",
       "488    687 2021-11-18  4287.802246  4343.557129  3959.227783  4000.650879   \n",
       "528    727 2021-12-28  4037.538086  4037.538086  3769.280029  3800.893066   \n",
       "529    728 2021-12-29  3797.436279  3827.981934  3612.795898  3628.531738   \n",
       "538    737 2022-01-07  3417.837891  3420.461914  3117.381348  3193.210449   \n",
       "539    738 2022-01-08  3193.502441  3240.304443  3020.880859  3091.972656   \n",
       "552    751 2022-01-21  3002.956787  3029.081055  2496.812988  2557.931641   \n",
       "553    752 2022-01-22  2561.145264  2615.247314  2330.247314  2405.181152   \n",
       "632    831 2022-04-11  3209.576904  3214.461914  2962.756592  2981.052246   \n",
       "728    927 2022-07-16  1232.791626  1377.944580  1195.605957  1352.626465   \n",
       "730    929 2022-07-18  1338.806030  1578.717896  1338.806030  1578.717896   \n",
       "753    952 2022-08-10  1702.906494  1869.400635  1665.090454  1851.742676   \n",
       "754    953 2022-08-11  1851.828369  1927.939209  1851.828369  1881.224121   \n",
       "755    954 2022-08-12  1880.899170  1957.552979  1860.083496  1957.246460   \n",
       "\n",
       "       Adj Close       Volume          EMA         EMA2        RSI  \\\n",
       "49    335.260071  29880047640   268.359592   291.964020  36.268771   \n",
       "67    321.116302  12899346599   283.953657   307.119985  35.267135   \n",
       "220  1570.203979  52029864713   867.696970   994.366944  40.837993   \n",
       "222  1475.703735  24481681873   881.222686  1009.004982  37.469127   \n",
       "247  1691.333984  23599296129  1065.059650  1209.122841  45.084565   \n",
       "248  1678.650146  21998237965  1071.165028  1215.341746  44.166295   \n",
       "249  1593.413452  31228051473  1076.361530  1220.349318  38.428324   \n",
       "305  2460.679199  84482912776  1793.775843  2042.681100  34.275799   \n",
       "338  1888.447510  33745173825  1989.472050  2200.718173  31.420723   \n",
       "339  1874.950073  35547251725  1988.332528  2196.403364  31.142013   \n",
       "360  1940.083984  16621628658  2011.503818  2175.696391  38.739672   \n",
       "429  2958.993408  27371684581  2535.591964  2727.578381  36.229557   \n",
       "430  2764.431152  30405062665  2537.868971  2728.066497  32.172671   \n",
       "486  4216.365234  27417502801  3160.634559  3407.290196  41.198662   \n",
       "488  4000.650879  21383250893  3180.094878  3426.654495  35.715105   \n",
       "528  3800.893066  17299472803  3493.032045  3715.009375  39.294104   \n",
       "529  3628.531738  15722555672  3494.380300  3713.863976  34.156381   \n",
       "538  3193.210449  24494179209  3506.142548  3704.354652  26.433067   \n",
       "539  3091.972656  16037732700  3502.021454  3696.243633  24.469876   \n",
       "552  2557.931641  26796291874  3460.220110  3610.538104  21.626173   \n",
       "553  2405.181152  27369692036  3449.722210  3594.573111  19.412083   \n",
       "632  2981.052246  21891804831  3168.533713  3174.102513  39.768759   \n",
       "728  1352.626465  18364013796  2286.550065  2098.152419  62.332015   \n",
       "730  1578.717896  27440420623  2270.168826  2081.345910  72.528141   \n",
       "753  1851.742676  23512477984  2140.892764  1965.481921  67.517116   \n",
       "754  1881.224121  23826986482  2138.308996  1964.365924  68.898184   \n",
       "755  1957.246460  17168141904  2136.507379  1964.271626  72.220672   \n",
       "\n",
       "      BBL_14_2.0   BBM_14_2.0   BBU_14_2.0  BBB_14_2.0  BBP_14_2.0  EMASignal  \\\n",
       "49    337.465630   402.726118   467.986606   32.409365   -0.016898          2   \n",
       "67    329.503629   367.204104   404.904579   20.533798   -0.111236          2   \n",
       "220  1627.356914  1821.787912  2016.218909   21.345075   -0.146975          2   \n",
       "222  1513.738582  1791.376343  2069.014103   30.997145   -0.068497          2   \n",
       "247  1709.724922  1811.396467  1913.068012   11.225764   -0.090443          2   \n",
       "248  1680.723780  1797.867990  1915.012199   13.031458   -0.008851          2   \n",
       "249  1625.685960  1783.171361  1940.656761   17.663518   -0.102462          2   \n",
       "305  2807.368032  3632.637608  4457.907184   45.436383   -0.210046          2   \n",
       "338  1999.297184  2376.100481  2752.903779   31.716108   -0.147092          2   \n",
       "339  1883.435034  2330.208435  2776.981836   38.346218   -0.009496          2   \n",
       "360  1956.058397  2172.789124  2389.519850   19.949541   -0.036853          2   \n",
       "429  3061.796204  3375.944685  3690.093165   18.610997   -0.163621          2   \n",
       "430  2886.098802  3328.661604  3771.224406   26.591036   -0.137458          2   \n",
       "486  4326.863343  4600.386823  4873.910304   11.891325   -0.201990          2   \n",
       "488  4103.996881  4539.224435  4974.451989   19.176296   -0.118726          2   \n",
       "528  3823.280183  3988.217861  4153.155538    8.271247   -0.067865          2   \n",
       "529  3713.781027  3960.370937  4206.960847   12.452869   -0.172856          2   \n",
       "538  3263.170803  3738.626500  4214.082197   25.434779   -0.073572          2   \n",
       "539  3129.392605  3667.104475  4204.816345   29.326237   -0.034796          2   \n",
       "552  2760.991447  3158.153024  3555.314601   25.151509   -0.255639          2   \n",
       "553  2553.353536  3109.096488  3664.839440   35.749482   -0.133310          2   \n",
       "632  3021.395250  3319.367379  3617.339509   17.953549   -0.067696          2   \n",
       "728  1017.574871  1172.722700  1327.870528   26.459423    1.079782          1   \n",
       "730   964.679505  1222.188956  1479.698407   42.139057    1.192264          1   \n",
       "753  1572.836329  1698.509347  1824.182365   14.798037    1.109651          1   \n",
       "754  1552.697083  1709.634774  1866.572465   18.359207    1.046680          1   \n",
       "755  1523.619928  1726.051880  1928.483831   23.456068    1.071043          1   \n",
       "\n",
       "     ordersignal  \n",
       "49    335.260071  \n",
       "67    321.116302  \n",
       "220  1570.203979  \n",
       "222  1475.703735  \n",
       "247  1691.333984  \n",
       "248  1678.650146  \n",
       "249  1593.413452  \n",
       "305  2460.679199  \n",
       "338  1888.447510  \n",
       "339  1874.950073  \n",
       "360  1940.083984  \n",
       "429  2958.993408  \n",
       "430  2764.431152  \n",
       "486  4216.365234  \n",
       "488  4000.650879  \n",
       "528  3800.893066  \n",
       "529  3628.531738  \n",
       "538  3193.210449  \n",
       "539  3091.972656  \n",
       "552  2557.931641  \n",
       "553  2405.181152  \n",
       "632  2981.052246  \n",
       "728  1352.626465  \n",
       "730  1578.717896  \n",
       "753  1851.742676  \n",
       "754  1881.224121  \n",
       "755  1957.246460  "
      ]
     },
     "execution_count": 59,
     "metadata": {},
     "output_type": "execute_result"
    }
   ],
   "source": [
    "df[df.ordersignal!=0]"
   ]
  },
  {
   "cell_type": "code",
   "execution_count": 60,
   "id": "19d9cd1e-14d3-4d5f-9689-128656653ad2",
   "metadata": {},
   "outputs": [],
   "source": [
    "import numpy as np\n",
    "def pointposbreak(x):\n",
    "    if x['ordersignal']!=0:\n",
    "        return x['ordersignal']\n",
    "    else:\n",
    "        return np.nan\n",
    "df['pointposbreak'] = df.apply(lambda row: pointposbreak(row), axis=1)"
   ]
  },
  {
   "cell_type": "code",
   "execution_count": 61,
   "id": "c174ffd1-e945-44e4-b476-da7d2831885c",
   "metadata": {},
   "outputs": [
    {
     "data": {
      "application/vnd.plotly.v1+json": {
       "config": {
        "plotlyServerURL": "https://plot.ly"
       },
       "data": [
        {
         "close": [],
         "high": [],
         "low": [],
         "open": [],
         "type": "candlestick",
         "x": []
        },
        {
         "line": {
          "color": "orange",
          "width": 2
         },
         "name": "EMA",
         "type": "scatter",
         "x": [],
         "y": []
        },
        {
         "line": {
          "color": "yellow",
          "width": 2
         },
         "name": "EMA2",
         "type": "scatter",
         "x": [],
         "y": []
        },
        {
         "line": {
          "color": "blue",
          "width": 1
         },
         "name": "BBL",
         "type": "scatter",
         "x": [],
         "y": []
        },
        {
         "line": {
          "color": "blue",
          "width": 1
         },
         "name": "BBU",
         "type": "scatter",
         "x": [],
         "y": []
        },
        {
         "marker": {
          "color": "MediumPurple",
          "size": 6
         },
         "mode": "markers",
         "name": "Signal",
         "type": "scatter",
         "x": [],
         "y": []
        }
       ],
       "layout": {
        "autosize": false,
        "height": 600,
        "margin": {
         "b": 100,
         "l": 50,
         "pad": 4,
         "r": 50,
         "t": 100
        },
        "paper_bgcolor": "white",
        "template": {
         "data": {
          "bar": [
           {
            "error_x": {
             "color": "#2a3f5f"
            },
            "error_y": {
             "color": "#2a3f5f"
            },
            "marker": {
             "line": {
              "color": "#E5ECF6",
              "width": 0.5
             },
             "pattern": {
              "fillmode": "overlay",
              "size": 10,
              "solidity": 0.2
             }
            },
            "type": "bar"
           }
          ],
          "barpolar": [
           {
            "marker": {
             "line": {
              "color": "#E5ECF6",
              "width": 0.5
             },
             "pattern": {
              "fillmode": "overlay",
              "size": 10,
              "solidity": 0.2
             }
            },
            "type": "barpolar"
           }
          ],
          "carpet": [
           {
            "aaxis": {
             "endlinecolor": "#2a3f5f",
             "gridcolor": "white",
             "linecolor": "white",
             "minorgridcolor": "white",
             "startlinecolor": "#2a3f5f"
            },
            "baxis": {
             "endlinecolor": "#2a3f5f",
             "gridcolor": "white",
             "linecolor": "white",
             "minorgridcolor": "white",
             "startlinecolor": "#2a3f5f"
            },
            "type": "carpet"
           }
          ],
          "choropleth": [
           {
            "colorbar": {
             "outlinewidth": 0,
             "ticks": ""
            },
            "type": "choropleth"
           }
          ],
          "contour": [
           {
            "colorbar": {
             "outlinewidth": 0,
             "ticks": ""
            },
            "colorscale": [
             [
              0,
              "#0d0887"
             ],
             [
              0.1111111111111111,
              "#46039f"
             ],
             [
              0.2222222222222222,
              "#7201a8"
             ],
             [
              0.3333333333333333,
              "#9c179e"
             ],
             [
              0.4444444444444444,
              "#bd3786"
             ],
             [
              0.5555555555555556,
              "#d8576b"
             ],
             [
              0.6666666666666666,
              "#ed7953"
             ],
             [
              0.7777777777777778,
              "#fb9f3a"
             ],
             [
              0.8888888888888888,
              "#fdca26"
             ],
             [
              1,
              "#f0f921"
             ]
            ],
            "type": "contour"
           }
          ],
          "contourcarpet": [
           {
            "colorbar": {
             "outlinewidth": 0,
             "ticks": ""
            },
            "type": "contourcarpet"
           }
          ],
          "heatmap": [
           {
            "colorbar": {
             "outlinewidth": 0,
             "ticks": ""
            },
            "colorscale": [
             [
              0,
              "#0d0887"
             ],
             [
              0.1111111111111111,
              "#46039f"
             ],
             [
              0.2222222222222222,
              "#7201a8"
             ],
             [
              0.3333333333333333,
              "#9c179e"
             ],
             [
              0.4444444444444444,
              "#bd3786"
             ],
             [
              0.5555555555555556,
              "#d8576b"
             ],
             [
              0.6666666666666666,
              "#ed7953"
             ],
             [
              0.7777777777777778,
              "#fb9f3a"
             ],
             [
              0.8888888888888888,
              "#fdca26"
             ],
             [
              1,
              "#f0f921"
             ]
            ],
            "type": "heatmap"
           }
          ],
          "heatmapgl": [
           {
            "colorbar": {
             "outlinewidth": 0,
             "ticks": ""
            },
            "colorscale": [
             [
              0,
              "#0d0887"
             ],
             [
              0.1111111111111111,
              "#46039f"
             ],
             [
              0.2222222222222222,
              "#7201a8"
             ],
             [
              0.3333333333333333,
              "#9c179e"
             ],
             [
              0.4444444444444444,
              "#bd3786"
             ],
             [
              0.5555555555555556,
              "#d8576b"
             ],
             [
              0.6666666666666666,
              "#ed7953"
             ],
             [
              0.7777777777777778,
              "#fb9f3a"
             ],
             [
              0.8888888888888888,
              "#fdca26"
             ],
             [
              1,
              "#f0f921"
             ]
            ],
            "type": "heatmapgl"
           }
          ],
          "histogram": [
           {
            "marker": {
             "pattern": {
              "fillmode": "overlay",
              "size": 10,
              "solidity": 0.2
             }
            },
            "type": "histogram"
           }
          ],
          "histogram2d": [
           {
            "colorbar": {
             "outlinewidth": 0,
             "ticks": ""
            },
            "colorscale": [
             [
              0,
              "#0d0887"
             ],
             [
              0.1111111111111111,
              "#46039f"
             ],
             [
              0.2222222222222222,
              "#7201a8"
             ],
             [
              0.3333333333333333,
              "#9c179e"
             ],
             [
              0.4444444444444444,
              "#bd3786"
             ],
             [
              0.5555555555555556,
              "#d8576b"
             ],
             [
              0.6666666666666666,
              "#ed7953"
             ],
             [
              0.7777777777777778,
              "#fb9f3a"
             ],
             [
              0.8888888888888888,
              "#fdca26"
             ],
             [
              1,
              "#f0f921"
             ]
            ],
            "type": "histogram2d"
           }
          ],
          "histogram2dcontour": [
           {
            "colorbar": {
             "outlinewidth": 0,
             "ticks": ""
            },
            "colorscale": [
             [
              0,
              "#0d0887"
             ],
             [
              0.1111111111111111,
              "#46039f"
             ],
             [
              0.2222222222222222,
              "#7201a8"
             ],
             [
              0.3333333333333333,
              "#9c179e"
             ],
             [
              0.4444444444444444,
              "#bd3786"
             ],
             [
              0.5555555555555556,
              "#d8576b"
             ],
             [
              0.6666666666666666,
              "#ed7953"
             ],
             [
              0.7777777777777778,
              "#fb9f3a"
             ],
             [
              0.8888888888888888,
              "#fdca26"
             ],
             [
              1,
              "#f0f921"
             ]
            ],
            "type": "histogram2dcontour"
           }
          ],
          "mesh3d": [
           {
            "colorbar": {
             "outlinewidth": 0,
             "ticks": ""
            },
            "type": "mesh3d"
           }
          ],
          "parcoords": [
           {
            "line": {
             "colorbar": {
              "outlinewidth": 0,
              "ticks": ""
             }
            },
            "type": "parcoords"
           }
          ],
          "pie": [
           {
            "automargin": true,
            "type": "pie"
           }
          ],
          "scatter": [
           {
            "fillpattern": {
             "fillmode": "overlay",
             "size": 10,
             "solidity": 0.2
            },
            "type": "scatter"
           }
          ],
          "scatter3d": [
           {
            "line": {
             "colorbar": {
              "outlinewidth": 0,
              "ticks": ""
             }
            },
            "marker": {
             "colorbar": {
              "outlinewidth": 0,
              "ticks": ""
             }
            },
            "type": "scatter3d"
           }
          ],
          "scattercarpet": [
           {
            "marker": {
             "colorbar": {
              "outlinewidth": 0,
              "ticks": ""
             }
            },
            "type": "scattercarpet"
           }
          ],
          "scattergeo": [
           {
            "marker": {
             "colorbar": {
              "outlinewidth": 0,
              "ticks": ""
             }
            },
            "type": "scattergeo"
           }
          ],
          "scattergl": [
           {
            "marker": {
             "colorbar": {
              "outlinewidth": 0,
              "ticks": ""
             }
            },
            "type": "scattergl"
           }
          ],
          "scattermapbox": [
           {
            "marker": {
             "colorbar": {
              "outlinewidth": 0,
              "ticks": ""
             }
            },
            "type": "scattermapbox"
           }
          ],
          "scatterpolar": [
           {
            "marker": {
             "colorbar": {
              "outlinewidth": 0,
              "ticks": ""
             }
            },
            "type": "scatterpolar"
           }
          ],
          "scatterpolargl": [
           {
            "marker": {
             "colorbar": {
              "outlinewidth": 0,
              "ticks": ""
             }
            },
            "type": "scatterpolargl"
           }
          ],
          "scatterternary": [
           {
            "marker": {
             "colorbar": {
              "outlinewidth": 0,
              "ticks": ""
             }
            },
            "type": "scatterternary"
           }
          ],
          "surface": [
           {
            "colorbar": {
             "outlinewidth": 0,
             "ticks": ""
            },
            "colorscale": [
             [
              0,
              "#0d0887"
             ],
             [
              0.1111111111111111,
              "#46039f"
             ],
             [
              0.2222222222222222,
              "#7201a8"
             ],
             [
              0.3333333333333333,
              "#9c179e"
             ],
             [
              0.4444444444444444,
              "#bd3786"
             ],
             [
              0.5555555555555556,
              "#d8576b"
             ],
             [
              0.6666666666666666,
              "#ed7953"
             ],
             [
              0.7777777777777778,
              "#fb9f3a"
             ],
             [
              0.8888888888888888,
              "#fdca26"
             ],
             [
              1,
              "#f0f921"
             ]
            ],
            "type": "surface"
           }
          ],
          "table": [
           {
            "cells": {
             "fill": {
              "color": "#EBF0F8"
             },
             "line": {
              "color": "white"
             }
            },
            "header": {
             "fill": {
              "color": "#C8D4E3"
             },
             "line": {
              "color": "white"
             }
            },
            "type": "table"
           }
          ]
         },
         "layout": {
          "annotationdefaults": {
           "arrowcolor": "#2a3f5f",
           "arrowhead": 0,
           "arrowwidth": 1
          },
          "autotypenumbers": "strict",
          "coloraxis": {
           "colorbar": {
            "outlinewidth": 0,
            "ticks": ""
           }
          },
          "colorscale": {
           "diverging": [
            [
             0,
             "#8e0152"
            ],
            [
             0.1,
             "#c51b7d"
            ],
            [
             0.2,
             "#de77ae"
            ],
            [
             0.3,
             "#f1b6da"
            ],
            [
             0.4,
             "#fde0ef"
            ],
            [
             0.5,
             "#f7f7f7"
            ],
            [
             0.6,
             "#e6f5d0"
            ],
            [
             0.7,
             "#b8e186"
            ],
            [
             0.8,
             "#7fbc41"
            ],
            [
             0.9,
             "#4d9221"
            ],
            [
             1,
             "#276419"
            ]
           ],
           "sequential": [
            [
             0,
             "#0d0887"
            ],
            [
             0.1111111111111111,
             "#46039f"
            ],
            [
             0.2222222222222222,
             "#7201a8"
            ],
            [
             0.3333333333333333,
             "#9c179e"
            ],
            [
             0.4444444444444444,
             "#bd3786"
            ],
            [
             0.5555555555555556,
             "#d8576b"
            ],
            [
             0.6666666666666666,
             "#ed7953"
            ],
            [
             0.7777777777777778,
             "#fb9f3a"
            ],
            [
             0.8888888888888888,
             "#fdca26"
            ],
            [
             1,
             "#f0f921"
            ]
           ],
           "sequentialminus": [
            [
             0,
             "#0d0887"
            ],
            [
             0.1111111111111111,
             "#46039f"
            ],
            [
             0.2222222222222222,
             "#7201a8"
            ],
            [
             0.3333333333333333,
             "#9c179e"
            ],
            [
             0.4444444444444444,
             "#bd3786"
            ],
            [
             0.5555555555555556,
             "#d8576b"
            ],
            [
             0.6666666666666666,
             "#ed7953"
            ],
            [
             0.7777777777777778,
             "#fb9f3a"
            ],
            [
             0.8888888888888888,
             "#fdca26"
            ],
            [
             1,
             "#f0f921"
            ]
           ]
          },
          "colorway": [
           "#636efa",
           "#EF553B",
           "#00cc96",
           "#ab63fa",
           "#FFA15A",
           "#19d3f3",
           "#FF6692",
           "#B6E880",
           "#FF97FF",
           "#FECB52"
          ],
          "font": {
           "color": "#2a3f5f"
          },
          "geo": {
           "bgcolor": "white",
           "lakecolor": "white",
           "landcolor": "#E5ECF6",
           "showlakes": true,
           "showland": true,
           "subunitcolor": "white"
          },
          "hoverlabel": {
           "align": "left"
          },
          "hovermode": "closest",
          "mapbox": {
           "style": "light"
          },
          "paper_bgcolor": "white",
          "plot_bgcolor": "#E5ECF6",
          "polar": {
           "angularaxis": {
            "gridcolor": "white",
            "linecolor": "white",
            "ticks": ""
           },
           "bgcolor": "#E5ECF6",
           "radialaxis": {
            "gridcolor": "white",
            "linecolor": "white",
            "ticks": ""
           }
          },
          "scene": {
           "xaxis": {
            "backgroundcolor": "#E5ECF6",
            "gridcolor": "white",
            "gridwidth": 2,
            "linecolor": "white",
            "showbackground": true,
            "ticks": "",
            "zerolinecolor": "white"
           },
           "yaxis": {
            "backgroundcolor": "#E5ECF6",
            "gridcolor": "white",
            "gridwidth": 2,
            "linecolor": "white",
            "showbackground": true,
            "ticks": "",
            "zerolinecolor": "white"
           },
           "zaxis": {
            "backgroundcolor": "#E5ECF6",
            "gridcolor": "white",
            "gridwidth": 2,
            "linecolor": "white",
            "showbackground": true,
            "ticks": "",
            "zerolinecolor": "white"
           }
          },
          "shapedefaults": {
           "line": {
            "color": "#2a3f5f"
           }
          },
          "ternary": {
           "aaxis": {
            "gridcolor": "white",
            "linecolor": "white",
            "ticks": ""
           },
           "baxis": {
            "gridcolor": "white",
            "linecolor": "white",
            "ticks": ""
           },
           "bgcolor": "#E5ECF6",
           "caxis": {
            "gridcolor": "white",
            "linecolor": "white",
            "ticks": ""
           }
          },
          "title": {
           "x": 0.05
          },
          "xaxis": {
           "automargin": true,
           "gridcolor": "white",
           "linecolor": "white",
           "ticks": "",
           "title": {
            "standoff": 15
           },
           "zerolinecolor": "white",
           "zerolinewidth": 2
          },
          "yaxis": {
           "automargin": true,
           "gridcolor": "white",
           "linecolor": "white",
           "ticks": "",
           "title": {
            "standoff": 15
           },
           "zerolinecolor": "white",
           "zerolinewidth": 2
          }
         }
        },
        "width": 600,
        "xaxis": {
         "autorange": true,
         "range": [
          -1,
          6
         ],
         "rangeslider": {
          "visible": false,
          "yaxis": {}
         }
        },
        "yaxis": {
         "range": [
          300,
          420
         ]
        }
       }
      },
      "image/png": "[encoded data removed]",
      "text/html": [
       "<div>                            <div id=\"7eb00a9d-f0c0-4698-8694-70ed74027cbc\" class=\"plotly-graph-div\" style=\"height:600px; width:600px;\"></div>            <script type=\"text/javascript\">                require([\"plotly\"], function(Plotly) {                    window.PLOTLYENV=window.PLOTLYENV || {};                                    if (document.getElementById(\"7eb00a9d-f0c0-4698-8694-70ed74027cbc\")) {                    Plotly.newPlot(                        \"7eb00a9d-f0c0-4698-8694-70ed74027cbc\",                        [{\"close\":[],\"high\":[],\"low\":[],\"open\":[],\"x\":[],\"type\":\"candlestick\"},{\"line\":{\"color\":\"orange\",\"width\":2},\"name\":\"EMA\",\"x\":[],\"y\":[],\"type\":\"scatter\"},{\"line\":{\"color\":\"yellow\",\"width\":2},\"name\":\"EMA2\",\"x\":[],\"y\":[],\"type\":\"scatter\"},{\"line\":{\"color\":\"blue\",\"width\":1},\"name\":\"BBL\",\"x\":[],\"y\":[],\"type\":\"scatter\"},{\"line\":{\"color\":\"blue\",\"width\":1},\"name\":\"BBU\",\"x\":[],\"y\":[],\"type\":\"scatter\"},{\"marker\":{\"color\":\"MediumPurple\",\"size\":6},\"mode\":\"markers\",\"name\":\"Signal\",\"x\":[],\"y\":[],\"type\":\"scatter\"}],                        {\"template\":{\"data\":{\"histogram2dcontour\":[{\"type\":\"histogram2dcontour\",\"colorbar\":{\"outlinewidth\":0,\"ticks\":\"\"},\"colorscale\":[[0.0,\"#0d0887\"],[0.1111111111111111,\"#46039f\"],[0.2222222222222222,\"#7201a8\"],[0.3333333333333333,\"#9c179e\"],[0.4444444444444444,\"#bd3786\"],[0.5555555555555556,\"#d8576b\"],[0.6666666666666666,\"#ed7953\"],[0.7777777777777778,\"#fb9f3a\"],[0.8888888888888888,\"#fdca26\"],[1.0,\"#f0f921\"]]}],\"choropleth\":[{\"type\":\"choropleth\",\"colorbar\":{\"outlinewidth\":0,\"ticks\":\"\"}}],\"histogram2d\":[{\"type\":\"histogram2d\",\"colorbar\":{\"outlinewidth\":0,\"ticks\":\"\"},\"colorscale\":[[0.0,\"#0d0887\"],[0.1111111111111111,\"#46039f\"],[0.2222222222222222,\"#7201a8\"],[0.3333333333333333,\"#9c179e\"],[0.4444444444444444,\"#bd3786\"],[0.5555555555555556,\"#d8576b\"],[0.6666666666666666,\"#ed7953\"],[0.7777777777777778,\"#fb9f3a\"],[0.8888888888888888,\"#fdca26\"],[1.0,\"#f0f921\"]]}],\"heatmap\":[{\"type\":\"heatmap\",\"colorbar\":{\"outlinewidth\":0,\"ticks\":\"\"},\"colorscale\":[[0.0,\"#0d0887\"],[0.1111111111111111,\"#46039f\"],[0.2222222222222222,\"#7201a8\"],[0.3333333333333333,\"#9c179e\"],[0.4444444444444444,\"#bd3786\"],[0.5555555555555556,\"#d8576b\"],[0.6666666666666666,\"#ed7953\"],[0.7777777777777778,\"#fb9f3a\"],[0.8888888888888888,\"#fdca26\"],[1.0,\"#f0f921\"]]}],\"heatmapgl\":[{\"type\":\"heatmapgl\",\"colorbar\":{\"outlinewidth\":0,\"ticks\":\"\"},\"colorscale\":[[0.0,\"#0d0887\"],[0.1111111111111111,\"#46039f\"],[0.2222222222222222,\"#7201a8\"],[0.3333333333333333,\"#9c179e\"],[0.4444444444444444,\"#bd3786\"],[0.5555555555555556,\"#d8576b\"],[0.6666666666666666,\"#ed7953\"],[0.7777777777777778,\"#fb9f3a\"],[0.8888888888888888,\"#fdca26\"],[1.0,\"#f0f921\"]]}],\"contourcarpet\":[{\"type\":\"contourcarpet\",\"colorbar\":{\"outlinewidth\":0,\"ticks\":\"\"}}],\"contour\":[{\"type\":\"contour\",\"colorbar\":{\"outlinewidth\":0,\"ticks\":\"\"},\"colorscale\":[[0.0,\"#0d0887\"],[0.1111111111111111,\"#46039f\"],[0.2222222222222222,\"#7201a8\"],[0.3333333333333333,\"#9c179e\"],[0.4444444444444444,\"#bd3786\"],[0.5555555555555556,\"#d8576b\"],[0.6666666666666666,\"#ed7953\"],[0.7777777777777778,\"#fb9f3a\"],[0.8888888888888888,\"#fdca26\"],[1.0,\"#f0f921\"]]}],\"surface\":[{\"type\":\"surface\",\"colorbar\":{\"outlinewidth\":0,\"ticks\":\"\"},\"colorscale\":[[0.0,\"#0d0887\"],[0.1111111111111111,\"#46039f\"],[0.2222222222222222,\"#7201a8\"],[0.3333333333333333,\"#9c179e\"],[0.4444444444444444,\"#bd3786\"],[0.5555555555555556,\"#d8576b\"],[0.6666666666666666,\"#ed7953\"],[0.7777777777777778,\"#fb9f3a\"],[0.8888888888888888,\"#fdca26\"],[1.0,\"#f0f921\"]]}],\"mesh3d\":[{\"type\":\"mesh3d\",\"colorbar\":{\"outlinewidth\":0,\"ticks\":\"\"}}],\"scatter\":[{\"fillpattern\":{\"fillmode\":\"overlay\",\"size\":10,\"solidity\":0.2},\"type\":\"scatter\"}],\"parcoords\":[{\"type\":\"parcoords\",\"line\":{\"colorbar\":{\"outlinewidth\":0,\"ticks\":\"\"}}}],\"scatterpolargl\":[{\"type\":\"scatterpolargl\",\"marker\":{\"colorbar\":{\"outlinewidth\":0,\"ticks\":\"\"}}}],\"bar\":[{\"error_x\":{\"color\":\"#2a3f5f\"},\"error_y\":{\"color\":\"#2a3f5f\"},\"marker\":{\"line\":{\"color\":\"#E5ECF6\",\"width\":0.5},\"pattern\":{\"fillmode\":\"overlay\",\"size\":10,\"solidity\":0.2}},\"type\":\"bar\"}],\"scattergeo\":[{\"type\":\"scattergeo\",\"marker\":{\"colorbar\":{\"outlinewidth\":0,\"ticks\":\"\"}}}],\"scatterpolar\":[{\"type\":\"scatterpolar\",\"marker\":{\"colorbar\":{\"outlinewidth\":0,\"ticks\":\"\"}}}],\"histogram\":[{\"marker\":{\"pattern\":{\"fillmode\":\"overlay\",\"size\":10,\"solidity\":0.2}},\"type\":\"histogram\"}],\"scattergl\":[{\"type\":\"scattergl\",\"marker\":{\"colorbar\":{\"outlinewidth\":0,\"ticks\":\"\"}}}],\"scatter3d\":[{\"type\":\"scatter3d\",\"line\":{\"colorbar\":{\"outlinewidth\":0,\"ticks\":\"\"}},\"marker\":{\"colorbar\":{\"outlinewidth\":0,\"ticks\":\"\"}}}],\"scattermapbox\":[{\"type\":\"scattermapbox\",\"marker\":{\"colorbar\":{\"outlinewidth\":0,\"ticks\":\"\"}}}],\"scatterternary\":[{\"type\":\"scatterternary\",\"marker\":{\"colorbar\":{\"outlinewidth\":0,\"ticks\":\"\"}}}],\"scattercarpet\":[{\"type\":\"scattercarpet\",\"marker\":{\"colorbar\":{\"outlinewidth\":0,\"ticks\":\"\"}}}],\"carpet\":[{\"aaxis\":{\"endlinecolor\":\"#2a3f5f\",\"gridcolor\":\"white\",\"linecolor\":\"white\",\"minorgridcolor\":\"white\",\"startlinecolor\":\"#2a3f5f\"},\"baxis\":{\"endlinecolor\":\"#2a3f5f\",\"gridcolor\":\"white\",\"linecolor\":\"white\",\"minorgridcolor\":\"white\",\"startlinecolor\":\"#2a3f5f\"},\"type\":\"carpet\"}],\"table\":[{\"cells\":{\"fill\":{\"color\":\"#EBF0F8\"},\"line\":{\"color\":\"white\"}},\"header\":{\"fill\":{\"color\":\"#C8D4E3\"},\"line\":{\"color\":\"white\"}},\"type\":\"table\"}],\"barpolar\":[{\"marker\":{\"line\":{\"color\":\"#E5ECF6\",\"width\":0.5},\"pattern\":{\"fillmode\":\"overlay\",\"size\":10,\"solidity\":0.2}},\"type\":\"barpolar\"}],\"pie\":[{\"automargin\":true,\"type\":\"pie\"}]},\"layout\":{\"autotypenumbers\":\"strict\",\"colorway\":[\"#636efa\",\"#EF553B\",\"#00cc96\",\"#ab63fa\",\"#FFA15A\",\"#19d3f3\",\"#FF6692\",\"#B6E880\",\"#FF97FF\",\"#FECB52\"],\"font\":{\"color\":\"#2a3f5f\"},\"hovermode\":\"closest\",\"hoverlabel\":{\"align\":\"left\"},\"paper_bgcolor\":\"white\",\"plot_bgcolor\":\"#E5ECF6\",\"polar\":{\"bgcolor\":\"#E5ECF6\",\"angularaxis\":{\"gridcolor\":\"white\",\"linecolor\":\"white\",\"ticks\":\"\"},\"radialaxis\":{\"gridcolor\":\"white\",\"linecolor\":\"white\",\"ticks\":\"\"}},\"ternary\":{\"bgcolor\":\"#E5ECF6\",\"aaxis\":{\"gridcolor\":\"white\",\"linecolor\":\"white\",\"ticks\":\"\"},\"baxis\":{\"gridcolor\":\"white\",\"linecolor\":\"white\",\"ticks\":\"\"},\"caxis\":{\"gridcolor\":\"white\",\"linecolor\":\"white\",\"ticks\":\"\"}},\"coloraxis\":{\"colorbar\":{\"outlinewidth\":0,\"ticks\":\"\"}},\"colorscale\":{\"sequential\":[[0.0,\"#0d0887\"],[0.1111111111111111,\"#46039f\"],[0.2222222222222222,\"#7201a8\"],[0.3333333333333333,\"#9c179e\"],[0.4444444444444444,\"#bd3786\"],[0.5555555555555556,\"#d8576b\"],[0.6666666666666666,\"#ed7953\"],[0.7777777777777778,\"#fb9f3a\"],[0.8888888888888888,\"#fdca26\"],[1.0,\"#f0f921\"]],\"sequentialminus\":[[0.0,\"#0d0887\"],[0.1111111111111111,\"#46039f\"],[0.2222222222222222,\"#7201a8\"],[0.3333333333333333,\"#9c179e\"],[0.4444444444444444,\"#bd3786\"],[0.5555555555555556,\"#d8576b\"],[0.6666666666666666,\"#ed7953\"],[0.7777777777777778,\"#fb9f3a\"],[0.8888888888888888,\"#fdca26\"],[1.0,\"#f0f921\"]],\"diverging\":[[0,\"#8e0152\"],[0.1,\"#c51b7d\"],[0.2,\"#de77ae\"],[0.3,\"#f1b6da\"],[0.4,\"#fde0ef\"],[0.5,\"#f7f7f7\"],[0.6,\"#e6f5d0\"],[0.7,\"#b8e186\"],[0.8,\"#7fbc41\"],[0.9,\"#4d9221\"],[1,\"#276419\"]]},\"xaxis\":{\"gridcolor\":\"white\",\"linecolor\":\"white\",\"ticks\":\"\",\"title\":{\"standoff\":15},\"zerolinecolor\":\"white\",\"automargin\":true,\"zerolinewidth\":2},\"yaxis\":{\"gridcolor\":\"white\",\"linecolor\":\"white\",\"ticks\":\"\",\"title\":{\"standoff\":15},\"zerolinecolor\":\"white\",\"automargin\":true,\"zerolinewidth\":2},\"scene\":{\"xaxis\":{\"backgroundcolor\":\"#E5ECF6\",\"gridcolor\":\"white\",\"linecolor\":\"white\",\"showbackground\":true,\"ticks\":\"\",\"zerolinecolor\":\"white\",\"gridwidth\":2},\"yaxis\":{\"backgroundcolor\":\"#E5ECF6\",\"gridcolor\":\"white\",\"linecolor\":\"white\",\"showbackground\":true,\"ticks\":\"\",\"zerolinecolor\":\"white\",\"gridwidth\":2},\"zaxis\":{\"backgroundcolor\":\"#E5ECF6\",\"gridcolor\":\"white\",\"linecolor\":\"white\",\"showbackground\":true,\"ticks\":\"\",\"zerolinecolor\":\"white\",\"gridwidth\":2}},\"shapedefaults\":{\"line\":{\"color\":\"#2a3f5f\"}},\"annotationdefaults\":{\"arrowcolor\":\"#2a3f5f\",\"arrowhead\":0,\"arrowwidth\":1},\"geo\":{\"bgcolor\":\"white\",\"landcolor\":\"#E5ECF6\",\"subunitcolor\":\"white\",\"showland\":true,\"showlakes\":true,\"lakecolor\":\"white\"},\"title\":{\"x\":0.05},\"mapbox\":{\"style\":\"light\"}}},\"yaxis\":{\"range\":[300,420]},\"xaxis\":{\"rangeslider\":{\"visible\":false}},\"margin\":{\"l\":50,\"r\":50,\"b\":100,\"t\":100,\"pad\":4},\"autosize\":false,\"width\":600,\"height\":600,\"paper_bgcolor\":\"white\"},                        {\"responsive\": true}                    ).then(function(){\n",
       "                            \n",
       "var gd = document.getElementById('7eb00a9d-f0c0-4698-8694-70ed74027cbc');\n",
       "var x = new MutationObserver(function (mutations, observer) {{\n",
       "        var display = window.getComputedStyle(gd).display;\n",
       "        if (!display || display === 'none') {{\n",
       "            console.log([gd, 'removed!']);\n",
       "            Plotly.purge(gd);\n",
       "            observer.disconnect();\n",
       "        }}\n",
       "}});\n",
       "\n",
       "// Listen for the removal of the full notebook cells\n",
       "var notebookContainer = gd.closest('#notebook-container');\n",
       "if (notebookContainer) {{\n",
       "    x.observe(notebookContainer, {childList: true});\n",
       "}}\n",
       "\n",
       "// Listen for the clearing of the current output cell\n",
       "var outputEl = gd.closest('.output');\n",
       "if (outputEl) {{\n",
       "    x.observe(outputEl, {childList: true});\n",
       "}}\n",
       "\n",
       "                        })                };                });            </script>        </div>"
      ]
     },
     "metadata": {},
     "output_type": "display_data"
    }
   ],
   "source": [
    "import plotly.graph_objects as go\n",
    "from plotly.subplots import make_subplots\n",
    "from datetime import datetime\n",
    "\n",
    "dfpl = df[1000:3200].copy()\n",
    "#dfpl=dfpl.drop(columns=['level_0'])#!!!!!!!!!!\n",
    "#dfpl.reset_index(inplace=True)\n",
    "fig = go.Figure(data=[go.Candlestick(x=dfpl.index,\n",
    "                open=dfpl['Open'],\n",
    "                high=dfpl['High'],\n",
    "                low=dfpl['Low'],\n",
    "                close=dfpl['Close']),\n",
    "                go.Scatter(x=dfpl.index, y=dfpl.EMA, line=dict(color='orange', width=2), name=\"EMA\"),\n",
    "                go.Scatter(x=dfpl.index, y=dfpl.EMA2, line=dict(color='yellow', width=2), name=\"EMA2\"),        \n",
    "                go.Scatter(x=dfpl.index, y=dfpl['BBL_14_2.0'], line=dict(color='blue', width=1), name=\"BBL\"),\n",
    "                go.Scatter(x=dfpl.index, y=dfpl['BBU_14_2.0'], line=dict(color='blue', width=1), name=\"BBU\")])\n",
    "\n",
    "fig.add_scatter(x=dfpl.index, y=dfpl['pointposbreak'], mode=\"markers\",\n",
    "                marker=dict(size=6, color=\"MediumPurple\"),\n",
    "                name=\"Signal\")\n",
    "fig.update(layout_yaxis_range = [300,420])\n",
    "fig.update_xaxes(rangeslider_visible=False)\n",
    "fig.update_layout(autosize=False, width=600, height=600,margin=dict(l=50,r=50,b=100,t=100,pad=4), paper_bgcolor=\"white\")\n",
    "fig.show()"
   ]
  },
  {
   "cell_type": "code",
   "execution_count": 62,
   "id": "fe8a628f-905c-4bf5-bd94-c55e9efe5727",
   "metadata": {},
   "outputs": [],
   "source": [
    "dfpl = df[:].copy()\n",
    "def SIGNAL():\n",
    "    return dfpl.ordersignal"
   ]
  },
  {
   "cell_type": "code",
   "execution_count": 63,
   "id": "e54af1f9-dc66-4afb-b7db-d4fe2844b742",
   "metadata": {},
   "outputs": [
    {
     "name": "stderr",
     "output_type": "stream",
     "text": [
      "/tmp/ipykernel_19528/3475104714.py:34: UserWarning:\n",
      "\n",
      "Some prices are larger than initial cash value. Note that fractional trading is not supported. If you want to trade Bitcoin, increase initial cash, or trade μBTC or satoshis instead (GH-134).\n",
      "\n",
      "/tmp/ipykernel_19528/3475104714.py:34: UserWarning:\n",
      "\n",
      "Data index is not datetime. Assuming simple periods, but `pd.DateTimeIndex` is advised.\n",
      "\n"
     ]
    },
    {
     "data": {
      "text/plain": [
       "Start                                     0.0\n",
       "End                                     775.0\n",
       "Duration                                775.0\n",
       "Exposure Time [%]                    3.092784\n",
       "Equity Final [$]                   300.744607\n",
       "Equity Peak [$]                   2471.336641\n",
       "Return [%]                         -69.925539\n",
       "Buy & Hold Return [%]              573.582084\n",
       "Return (Ann.) [%]                         0.0\n",
       "Volatility (Ann.) [%]                     NaN\n",
       "Sharpe Ratio                              NaN\n",
       "Sortino Ratio                             NaN\n",
       "Calmar Ratio                              0.0\n",
       "Max. Drawdown [%]                   -87.83069\n",
       "Avg. Drawdown [%]                  -52.724208\n",
       "Max. Drawdown Duration                  554.0\n",
       "Avg. Drawdown Duration                  279.0\n",
       "# Trades                                  8.0\n",
       "Win Rate [%]                             37.5\n",
       "Best Trade [%]                      14.781631\n",
       "Worst Trade [%]                    -21.569902\n",
       "Avg. Trade [%]                      -2.933144\n",
       "Max. Trade Duration                       6.0\n",
       "Avg. Trade Duration                       2.0\n",
       "Profit Factor                        0.593078\n",
       "Expectancy [%]                      -2.310308\n",
       "SQN                                 -0.397648\n",
       "_strategy                             MyStrat\n",
       "_equity_curve                       Equity...\n",
       "_trades                      Size  EntryBa...\n",
       "dtype: object"
      ]
     },
     "execution_count": 63,
     "metadata": {},
     "output_type": "execute_result"
    }
   ],
   "source": [
    "from backtesting import Strategy\n",
    "from backtesting import Backtest\n",
    "\n",
    "class MyStrat(Strategy):\n",
    "    initsize = 0.99\n",
    "    mysize = initsize\n",
    "    def init(self):\n",
    "        super().init()\n",
    "        self.signal = self.I(SIGNAL)\n",
    "\n",
    "    def next(self):\n",
    "        super().next()\n",
    "        TPSLRatio = 2\n",
    "        perc = 0.02\n",
    "        \n",
    "        if len(self.trades)>0:\n",
    "            if self.data.index[-1]-self.trades[-1].entry_time>=10:\n",
    "                self.trades[-1].close()\n",
    "            if self.trades[-1].is_long and self.data.RSI[-1]>=75:\n",
    "                self.trades[-1].close()\n",
    "            elif self.trades[-1].is_short and self.data.RSI[-1]<=25:\n",
    "                self.trades[-1].close()\n",
    "        \n",
    "        if self.signal!=0 and len(self.trades)==0 and self.data.EMASignal==2:  \n",
    "            sl1 = min(self.data.Low[-1],self.data.Low[-2])*(1-perc)\n",
    "            tp1 = self.data.Close[-1]+(self.data.Close[-1] - sl1)*TPSLRatio\n",
    "            self.buy(sl=sl1, tp=tp1, size=self.mysize)\n",
    "        \n",
    "        elif self.signal!=0 and len(self.trades)==0 and self.data.EMASignal==1:         \n",
    "            sl1 = sl1 = max(self.data.High[-1],self.data.High[-2])*(1+perc)\n",
    "            tp1 = self.data.Close[-1]-(sl1 - self.data.Close[-1])*TPSLRatio\n",
    "            self.sell(sl=sl1, tp=tp1, size=self.mysize)\n",
    "\n",
    "bt = Backtest(dfpl, MyStrat, cash=1000, margin=1/5, commission=.000)\n",
    "stat = bt.run()\n",
    "stat"
   ]
  },
  {
   "cell_type": "code",
   "execution_count": 64,
   "id": "28021c2d-37ff-4988-a251-40ae188409bf",
   "metadata": {},
   "outputs": [
    {
     "data": {
      "text/html": [
       "\n",
       "  <div class=\"bk-root\" id=\"a826510d-0326-42ef-827f-db8843083c99\" data-root-id=\"2634\"></div>\n"
      ]
     },
     "metadata": {},
     "output_type": "display_data"
    },
    {
     "data": {
      "application/javascript": [
       "(function(root) {\n",
       "  function embed_document(root) {\n",
       "  const docs_json = {\"64862b2c-c3ce-4881-8a5a-8f802cb431a2\":{\"defs\":[],\"roots\":{\"references\":[{\"attributes\":{\"children\":[{\"id\":\"2631\"},{\"id\":\"2633\"}],\"sizing_mode\":\"stretch_width\"},\"id\":\"2634\",\"type\":\"Row\"},{\"attributes\":{\"children\":[[{\"id\":\"2220\"},0,0],[{\"id\":\"2366\"},1,0],[{\"id\":\"2183\"},2,0],[{\"id\":\"2417\"},3,0],[{\"id\":\"2494\"},4,0]]},\"id\":\"2631\",\"type\":\"GridBox\"},{\"attributes\":{},\"id\":\"2287\",\"type\":\"Selection\"},{\"attributes\":{\"overlay\":{\"id\":\"2517\"}},\"id\":\"2512\",\"type\":\"BoxZoomTool\"},{\"attributes\":{},\"id\":\"2372\",\"type\":\"LinearScale\"},{\"attributes\":{},\"id\":\"2614\",\"type\":\"AllLabels\"},{\"attributes\":{},\"id\":\"2362\",\"type\":\"UnionRenderers\"},{\"attributes\":{},\"id\":\"2363\",\"type\":\"Selection\"},{\"attributes\":{\"args\":{\"ohlc_range\":{\"id\":\"2185\"},\"source\":{\"id\":\"2215\"},\"volume_range\":{\"id\":\"2419\"}},\"code\":\"if (!window._bt_scale_range) {\\n    window._bt_scale_range = function (range, min, max, pad) {\\n        \\\"use strict\\\";\\n        if (min !== Infinity && max !== -Infinity) {\\n            pad = pad ? (max - min) * .03 : 0;\\n            range.start = min - pad;\\n            range.end = max + pad;\\n        } else console.error('backtesting: scale range error:', min, max, range);\\n    };\\n}\\n\\nclearTimeout(window._bt_autoscale_timeout);\\n\\nwindow._bt_autoscale_timeout = setTimeout(function () {\\n    /**\\n     * @variable cb_obj `fig_ohlc.x_range`.\\n     * @variable source `ColumnDataSource`\\n     * @variable ohlc_range `fig_ohlc.y_range`.\\n     * @variable volume_range `fig_volume.y_range`.\\n     */\\n    \\\"use strict\\\";\\n\\n    let i = Math.max(Math.floor(cb_obj.start), 0),\\n        j = Math.min(Math.ceil(cb_obj.end), source.data['ohlc_high'].length);\\n\\n    let max = Math.max.apply(null, source.data['ohlc_high'].slice(i, j)),\\n        min = Math.min.apply(null, source.data['ohlc_low'].slice(i, j));\\n    _bt_scale_range(ohlc_range, min, max, true);\\n\\n    if (volume_range) {\\n        max = Math.max.apply(null, source.data['Volume'].slice(i, j));\\n        _bt_scale_range(volume_range, 0, max * 1.03, false);\\n    }\\n\\n}, 50);\\n\"},\"id\":\"2549\",\"type\":\"CustomJS\"},{\"attributes\":{\"bottom\":{\"field\":\"Close\"},\"fill_alpha\":{\"value\":0.2},\"fill_color\":{\"field\":\"inc\",\"transform\":{\"id\":\"2217\"}},\"hatch_alpha\":{\"value\":0.2},\"line_alpha\":{\"value\":0.2},\"top\":{\"field\":\"Open\"},\"width\":{\"value\":0.8},\"x\":{\"field\":\"index\"}},\"id\":\"2470\",\"type\":\"VBar\"},{\"attributes\":{},\"id\":\"2204\",\"type\":\"ResetTool\"},{\"attributes\":{\"format\":\"0 a\"},\"id\":\"2459\",\"type\":\"NumeralTickFormatter\"},{\"attributes\":{\"source\":{\"id\":\"2215\"}},\"id\":\"2466\",\"type\":\"CDSView\"},{\"attributes\":{\"x0\":{\"field\":\"index\"},\"x1\":{\"field\":\"index\"},\"y0\":{\"field\":\"High\"},\"y1\":{\"field\":\"Low\"}},\"id\":\"2462\",\"type\":\"Segment\"},{\"attributes\":{\"coordinates\":null,\"formatter\":{\"id\":\"2535\"},\"group\":null,\"major_label_policy\":{\"id\":\"2536\"},\"minor_tick_line_color\":null,\"ticker\":{\"id\":\"2507\"}},\"id\":\"2506\",\"type\":\"LinearAxis\"},{\"attributes\":{\"logo\":null,\"toolbars\":[{\"id\":\"2244\"},{\"id\":\"2390\"},{\"id\":\"2207\"},{\"id\":\"2441\"},{\"id\":\"2518\"}],\"tools\":[{\"id\":\"2236\"},{\"id\":\"2237\"},{\"id\":\"2238\"},{\"id\":\"2239\"},{\"id\":\"2240\"},{\"id\":\"2241\"},{\"id\":\"2242\"},{\"id\":\"2265\"},{\"id\":\"2550\"},{\"id\":\"2382\"},{\"id\":\"2383\"},{\"id\":\"2384\"},{\"id\":\"2385\"},{\"id\":\"2386\"},{\"id\":\"2387\"},{\"id\":\"2388\"},{\"id\":\"2411\"},{\"id\":\"2413\"},{\"id\":\"2550\"},{\"id\":\"2199\"},{\"id\":\"2200\"},{\"id\":\"2201\"},{\"id\":\"2202\"},{\"id\":\"2203\"},{\"id\":\"2204\"},{\"id\":\"2205\"},{\"id\":\"2547\"},{\"id\":\"2550\"},{\"id\":\"2433\"},{\"id\":\"2434\"},{\"id\":\"2435\"},{\"id\":\"2436\"},{\"id\":\"2437\"},{\"id\":\"2438\"},{\"id\":\"2439\"},{\"id\":\"2457\"},{\"id\":\"2550\"},{\"id\":\"2510\"},{\"id\":\"2511\"},{\"id\":\"2512\"},{\"id\":\"2513\"},{\"id\":\"2514\"},{\"id\":\"2515\"},{\"id\":\"2516\"},{\"id\":\"2545\"},{\"id\":\"2550\"}]},\"id\":\"2632\",\"type\":\"ProxyToolbar\"},{\"attributes\":{\"line_alpha\":{\"value\":0.1},\"x0\":{\"field\":\"index\"},\"x1\":{\"field\":\"index\"},\"y0\":{\"field\":\"High\"},\"y1\":{\"field\":\"Low\"}},\"id\":\"2463\",\"type\":\"Segment\"},{\"attributes\":{},\"id\":\"2550\",\"type\":\"CrosshairTool\"},{\"attributes\":{\"toolbar\":{\"id\":\"2632\"}},\"id\":\"2633\",\"type\":\"ToolbarBox\"},{\"attributes\":{\"line_alpha\":{\"value\":0.1},\"line_color\":{\"field\":\"returns_positive\",\"transform\":{\"id\":\"2219\"}},\"line_dash\":{\"value\":\"dotted\"},\"line_width\":{\"value\":8},\"xs\":{\"field\":\"position_lines_xs\"},\"ys\":{\"field\":\"position_lines_ys\"}},\"id\":\"2475\",\"type\":\"MultiLine\"},{\"attributes\":{},\"id\":\"2496\",\"type\":\"DataRange1d\"},{\"attributes\":{\"source\":{\"id\":\"2216\"}},\"id\":\"2478\",\"type\":\"CDSView\"},{\"attributes\":{\"below\":[{\"id\":\"2502\"}],\"center\":[{\"id\":\"2505\"},{\"id\":\"2509\"},{\"id\":\"2543\"}],\"height\":90,\"left\":[{\"id\":\"2506\"}],\"min_border_bottom\":6,\"min_border_left\":0,\"min_border_right\":10,\"min_border_top\":3,\"outline_line_color\":\"#666666\",\"renderers\":[{\"id\":\"2530\"}],\"sizing_mode\":\"stretch_width\",\"title\":{\"id\":\"2532\"},\"toolbar\":{\"id\":\"2518\"},\"toolbar_location\":null,\"width\":null,\"x_range\":{\"id\":\"2182\"},\"x_scale\":{\"id\":\"2498\"},\"y_range\":{\"id\":\"2496\"},\"y_scale\":{\"id\":\"2500\"}},\"id\":\"2494\",\"subtype\":\"Figure\",\"type\":\"Plot\"},{\"attributes\":{},\"id\":\"2513\",\"type\":\"UndoTool\"},{\"attributes\":{\"coordinates\":null,\"group\":null},\"id\":\"2479\",\"type\":\"Title\"},{\"attributes\":{\"dimensions\":\"width\",\"maintain_focus\":false},\"id\":\"2200\",\"type\":\"WheelZoomTool\"},{\"attributes\":{},\"id\":\"2498\",\"type\":\"LinearScale\"},{\"attributes\":{},\"id\":\"2500\",\"type\":\"LinearScale\"},{\"attributes\":{\"coordinates\":null,\"formatter\":{\"id\":\"2538\"},\"group\":null,\"major_label_policy\":{\"id\":\"2539\"},\"ticker\":{\"id\":\"2503\"},\"visible\":false},\"id\":\"2502\",\"type\":\"LinearAxis\"},{\"attributes\":{\"factors\":[\"0\",\"1\"],\"palette\":[\"rgb(178.5, 27.163043478260846, 0.0)\",\"rgb(0.0, 178.5, 0.0)\"]},\"id\":\"2219\",\"type\":\"CategoricalColorMapper\"},{\"attributes\":{\"line_alpha\":0.1,\"line_color\":\"#1f77b4\",\"line_width\":1.5,\"x\":{\"field\":\"index\"},\"y\":{\"field\":\"equity\"}},\"id\":\"2261\",\"type\":\"Line\"},{\"attributes\":{\"fill_color\":{\"value\":\"blue\"},\"hatch_color\":{\"value\":\"blue\"},\"line_color\":{\"value\":\"blue\"},\"size\":{\"value\":8},\"x\":{\"value\":775},\"y\":{\"value\":0.3007446069335942}},\"id\":\"2292\",\"type\":\"Scatter\"},{\"attributes\":{},\"id\":\"2503\",\"type\":\"BasicTicker\"},{\"attributes\":{\"source\":{\"id\":\"2252\"}},\"id\":\"2258\",\"type\":\"CDSView\"},{\"attributes\":{\"axis\":{\"id\":\"2502\"},\"coordinates\":null,\"group\":null,\"ticker\":null},\"id\":\"2505\",\"type\":\"Grid\"},{\"attributes\":{\"fill_alpha\":0.2,\"fill_color\":\"#ffffea\",\"hatch_alpha\":0.2,\"line_alpha\":0.2,\"line_color\":\"#ffcb66\",\"x\":{\"field\":\"index\"},\"y\":{\"field\":\"equity_dd\"}},\"id\":\"2256\",\"type\":\"Patch\"},{\"attributes\":{\"data\":{\"Close\":{\"__ndarray__\":\"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\",\"dtype\":\"float64\",\"order\":\"little\",\"shape\":[776]},\"High\":{\"__ndarray__\":\"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\",\"dtype\":\"float64\",\"order\":\"little\",\"shape\":[776]},\"Low\":{\"__ndarray__\":\"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\",\"dtype\":\"float64\",\"order\":\"little\",\"shape\":[776]},\"Open\":{\"__ndarray__\":\"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\",\"dtype\":\"float64\",\"order\":\"little\",\"shape\":[776]},\"SIGNAL_0_1\":{\"__ndarray__\":\"AAAAAAAAAAAAAAAAAAAAAAAAAAAAAAAAAAAAAAAAAAAAAAAAAAAAAAAAAAAAAAAAAAAAAAAAAAAAAAAAAAAAAAAAAAAAAAAAAAAAAAAAAAAAAAAAAAAAAAAAAAAAAAAAAAAAAAAAAAAAAAAAAAAAAAAAAAAAAAAAAAAAAAAAAAAAAAAAAAAAAAAAAAAAAAAAAAAAAAAAAAAAAAAAAAAAAAAAAAAAAAAAAAAAAAAAAAAAAAAAAAAAAAAAAAAAAAAAAAAAAAAAAAAAAAAAAAAAAAAAAAAAAAAAAAAAAAAAAAAAAAAAAAAAAAAAAAAAAAAAAAAAAAAAAAAAAAAAAAAAAAAAAAAAAAAAAAAAAAAAAAAAAAAAAAAAAAAAAAAAAAAAAAAAAAAAAAAAAAAAAAAAAAAAAAAAAAAAAAAAAAAAAAAAAAAAAAAAAAAAAAAAAAAAAAAAAAAAAAAAAAAAAAAAAAAAAAAAAAAAAAAAAAAAAAAAAAAAAAAAAAAAAAAAAAAAAAAAAAAAAAAAAABAKfR0QAAAAAAAAAAAAAAAAAAAAAAAAAAAAAAAAAAAAAAAAAAAAAAAAAAAAAAAAAAAAAAAAAAAAAAAAAAAAAAAAAAAAAAAAAAAAAAAAAAAAAAAAAAAAAAAAAAAAAAAAAAAAAAAAAAAAAAAAAAAAAAAAAAAAAAAAAAAAAAAAAAAAAAAAAAAAAAAAAAAAAAAAABg3BF0QAAAAAAAAAAAAAAAAAAAAAAAAAAAAAAAAAAAAAAAAAAAAAAAAAAAAAAAAAAAAAAAAAAAAAAAAAAAAAAAAAAAAAAAAAAAAAAAAAAAAAAAAAAAAAAAAAAAAAAAAAAAAAAAAAAAAAAAAAAAAAAAAAAAAAAAAAAAAAAAAAAAAAAAAAAAAAAAAAAAAAAAAAAAAAAAAAAAAAAAAAAAAAAAAAAAAAAAAAAAAAAAAAAAAAAAAAAAAAAAAAAAAAAAAAAAAAAAAAAAAAAAAAAAAAAAAAAAAAAAAAAAAAAAAAAAAAAAAAAAAAAAAAAAAAAAAAAAAAAAAAAAAAAAAAAAAAAAAAAAAAAAAAAAAAAAAAAAAAAAAAAAAAAAAAAAAAAAAAAAAAAAAAAAAAAAAAAAAAAAAAAAAAAAAAAAAAAAAAAAAAAAAAAAAAAAAAAAAAAAAAAAAAAAAAAAAAAAAAAAAAAAAAAAAAAAAAAAAAAAAAAAAAAAAAAAAAAAAAAAAAAAAAAAAAAAAAAAAAAAAAAAAAAAAAAAAAAAAAAAAAAAAAAAAAAAAAAAAAAAAAAAAAAAAAAAAAAAAAAAAAAAAAAAAAAAAAAAAAAAAAAAAAAAAAAAAAAAAAAAAAAAAAAAAAAAAAAAAAAAAAAAAAAAAAAAAAAAAAAAAAAAAAAAAAAAAAAAAAAAAAAAAAAAAAAAAAAAAAAAAAAAAAAAAAAAAAAAAAAAAAAAAAAAAAAAAAAAAAAAAAAAAAAAAAAAAAAAAAAAAAAAAAAAAAAAAAAAAAAAAAAAAAAAAAAAAAAAAAAAAAAAAAAAAAAAAAAAAAAAAAAAAAAAAAAAAAAAAAAAAAAAAAAAAAAAAAAAAAAAAAAAAAAAAAAAAAAAAAAAAAAAAAAAAAAAAAAAAAAAAAAAAAAAAAAAAAAAAAAAAAAAAAAAAAAAAAAAAAAAAAAAAAAAAAAAAAAAAAAAAAAAAAAAAAAAAAAAAAAAAAAAAAAAAAAAAAAAAAAAAAAAAAAAAAAAAAAAAAAAAAAAAAAAAAAAAAAAAAAAAAAAAAAAAAAAAAAAAAAAAAAAAAAAAAAAAAAAAAAAAAAAAAAAAAAAAAAAAAAAAAAAAAAAAAAAAAAAAAAAAAAAAAAAAAAAAAAAAAAAAAAAAAAAAAAAAAAAAAAAAAAAAAAAAAAAAAAAAAAAAAAAAAAAAAAAAAAAAAAAAAAAAAAAAAAAAAAAAAAAAAAAAAAAAAAAAAAAAAAAAAAAAAAAAAAAAAAAAAAAAAAAAAAAAAAAAAAAAAAAAAAAAAAAAAAAAAAAAAAAAAAAAAAAAAAAAAAAAAAAAAAAAAAAAAAAAAAAAAAAAAAAAAAAAAAAAAAAAAAAAAAAAAAAAAAAAAAAAAAAAAAAAAAAAAAAAAAAAAAAAAAAAAAAAAAAAAAAAAAAAAAAAAAAAAAAAAAAAAAAAAAAAAAAAAAAAAAAAAAAAAAAAAAAAAAAAAAAAAAAAAAAAAAAAAAAAAAAAAAAAAAAAAAAAAAAAAAAAAAAAAAAAAAAAAAAAAAAAAAAAAAAAAAAAAAAAAAAAAAAAAAAAAAAAAAAAAAAAAAAAAAAAAAAAAAAAAAAAAAAAAAAAAAAAAAAAAAAAAAAAAAAAADg0IiYQAAAAAAAAAAAAAAAoNAOl0AAAAAAAAAAAAAAAAAAAAAAAAAAAAAAAAAAAAAAAAAAAAAAAAAAAAAAAAAAAAAAAAAAAAAAAAAAAAAAAAAAAAAAAAAAAAAAAAAAAAAAAAAAAAAAAAAAAAAAAAAAAAAAAAAAAAAAAAAAAAAAAAAAAAAAAAAAAAAAAAAAAAAAAAAAAAAAAAAAAAAAAAAAAAAAAAAAAAAAAAAAAAAAAAAAAAAAAAAAAAAAAAAAAAAAAAAAAAAAAAAAAAAAAAAAAAAAAAAAAAAAVm2aQAAAAMCZOppAAAAAYKflmEAAAAAAAAAAAAAAAAAAAAAAAAAAAAAAAAAAAAAAAAAAAAAAAAAAAAAAAAAAAAAAAAAAAAAAAAAAAAAAAAAAAAAAAAAAAAAAAAAAAAAAAAAAAAAAAAAAAAAAAAAAAAAAAAAAAAAAAAAAAAAAAAAAAAAAAAAAAAAAAAAAAAAAAAAAAAAAAAAAAAAAAAAAAAAAAAAAAAAAAAAAAAAAAAAAAAAAAAAAAAAAAAAAAAAAAAAAAAAAAAAAAAAAAAAAAAAAAAAAAAAAAAAAAAAAAAAAAAAAAAAAAAAAAAAAAAAAAAAAAAAAAAAAAAAAAAAAAAAAAAAAAAAAAAAAAAAAAAAAAAAAAAAAAAAAAAAAAAAAAAAAAAAAAAAAAAAAAAAAAAAAAAAAAAAAAAAAAAAAAAAAAAAAAAAAAAAAAAAAAAAAAAAAAAAAAAAAAAAAAAAAAAAAAAAAAAAAAAAAAAAAAAAAAAAAAAAAAAAAAAAAAAAAAAAAAAAAAAAAAAAAAAAAAAAAAAAAAAAAAAAAAAAAAAAAAAAAAAAAAAAAAAAAAAAAAAAAAAAAAAAAAAAAAAAAAAAAAAAAAAAAAAAAAAAAAMBbOaNAAAAAAAAAAAAAAAAAAAAAAAAAAAAAAAAAAAAAAAAAAAAAAAAAAAAAAAAAAAAAAAAAAAAAAAAAAAAAAAAAAAAAAAAAAAAAAAAAAAAAAAAAAAAAAAAAAAAAAAAAAAAAAAAAAAAAAAAAAAAAAAAAAAAAAAAAAAAAAAAAAAAAAAAAAAAAAAAAAAAAAAAAAAAAAAAAAAAAAAAAAAAAAAAAAAAAAAAAAAAAAAAAAAAAAAAAAAAAAAAAAAAAAAAAAAAAAAAAAAAAAAAAAAAAAAAAAAAAAAAAAAAAAAAAAAAAAAAAAAAAAAAAAAAAAAAAAAAAAAAAAAAAAAAAAAAAAAAAAAAAAAAAAEDKgZ1AAAAA4MxLnUAAAAAAAAAAAAAAAAAAAAAAAAAAAAAAAAAAAAAAAAAAAAAAAAAAAAAAAAAAAAAAAAAAAAAAAAAAAAAAAAAAAAAAAAAAAAAAAAAAAAAAAAAAAAAAAAAAAAAAAAAAAAAAAAAAAAAAAAAAAAAAAAAAAAAAAAAAAAAAAAAAAAAAAAAAAAAAAAAAAAAAAAAAAAAAAAAAAAAAAAAAAAAAAAAAAAAAAAAAAFZQnkAAAAAAAAAAAAAAAAAAAAAAAAAAAAAAAAAAAAAAAAAAAAAAAAAAAAAAAAAAAAAAAAAAAAAAAAAAAAAAAAAAAAAAAAAAAAAAAAAAAAAAAAAAAAAAAAAAAAAAAAAAAAAAAAAAAAAAAAAAAAAAAAAAAAAAAAAAAAAAAAAAAAAAAAAAAAAAAAAAAAAAAAAAAAAAAAAAAAAAAAAAAAAAAAAAAAAAAAAAAAAAAAAAAAAAAAAAAAAAAAAAAAAAAAAAAAAAAAAAAAAAAAAAAAAAAAAAAAAAAAAAAAAAAAAAAAAAAAAAAAAAAAAAAAAAAAAAAAAAAAAAAAAAAAAAAAAAAAAAAAAAAAAAAAAAAAAAAAAAAAAAAAAAAAAAAAAAAAAAAAAAAAAAAAAAAAAAAAAAAAAAAAAAAAAAAAAAAAAAAAAAAAAAAAAAAAAAAAAAAAAAAAAAAAAAAAAAAAAAAAAAAAAAAAAAAAAAAAAAAAAAAAAAAAAAAAAAAAAAAAAAAAAAAAAAAAAAAAAAAAAAAAAAAAAAAAAAAAAAAAAAAAAAAAAAAAAAAAAAAAAAAAAAAAAAAAAAAAAAAAAAAAAAAAAAAAAAAAAAAAAAAAAAAAAAAAAAAAAAAAAAAAAAAAAAAAAAAAAAAAAAAAAAAAAAAAAAAAAAAAAAAAAAAAAAAAAAAAAAAAAAAAAAAAAAAAAAAAAAAAAAAAAAAAAAAAAAAAAAAAAAAAAAAAAAoPwdp0AAAADA3JilQAAAAAAAAAAAAAAAAAAAAAAAAAAAAAAAAAAAAAAAAAAAAAAAAAAAAAAAAAAAAAAAAAAAAAAAAAAAAAAAAAAAAAAAAAAAAAAAAAAAAAAAAAAAAAAAAAAAAAAAAAAAAAAAAAAAAAAAAAAAAAAAAAAAAAAAAAAAAAAAAAAAAAAAAAAAAAAAAAAAAAAAAAAAAAAAAAAAAAAAAAAAAAAAAAAAAAAAAAAAAAAAAAAAAAAAAAAAAAAAAAAAAAAAAAAAAAAAAAAAAAAAAAAAAAAAAAAAAAAAAAAAAAAAAAAAAAAAAAAAAAAAAAAAAAAAAAAAAAAAAAAAAAAAAAAAAAAAAAAAAAAAAAAAAAAAAAAAAAAAAAAAAAAAAAAAAAAAAAAAAAAAAAAAAAAAAAAAAAAAAAAAAAAAAAAAAAAAAAAAAAAAAAAAAAAAAAAAAAAAAAAAAAAAAAAAAAAAAAAAAAAAAAAAAAAAAAAAAAAAAAAAAAAAAAAAAAAAAAAAAAAAAAAAAAAAAAAAAAAAAAAAAAAAAAAAAAAAAAAAAAAAAAAAAAAAAAAAAAAAAAAAAAAAAAAAAAAAAAAAAAAAAAAAAAAAgF14sEAAAAAAAAAAAAAAAEBNQa9AAAAAAAAAAAAAAAAAAAAAAAAAAAAAAAAAAAAAAAAAAAAAAAAAAAAAAAAAAAAAAAAAAAAAAAAAAAAAAAAAAAAAAAAAAAAAAAAAAAAAAAAAAAAAAAAAAAAAAAAAAAAAAAAAAAAAAAAAAAAAAAAAAAAAAAAAAAAAAAAAAAAAAAAAAAAAAAAAAAAAAAAAAAAAAAAAAAAAAAAAAAAAAAAAAAAAAAAAAAAAAAAAAAAAAAAAAAAAAAAAAAAAAAAAAAAAAAAAAAAAAAAAAAAAAAAAAAAAAAAAAAAAAAAAAAAAAAAAAAAAAAAAAAAAAAAAAAAAAAAAAAAAAAAAAAAAAAAAAAAAAAAAAAAAAAAAAAAAAAAAAAAAAAAAAAAAAAAAAAAAAAAAAAAAAAAAAAAAAAAAAAAAAAAAAAAAAAAAAAAAQMmxrUAAAABAEFmsQAAAAAAAAAAAAAAAAAAAAAAAAAAAAAAAAAAAAAAAAAAAAAAAAAAAAAAAAAAAAAAAAAAAAAAAAAAAAAAAAAAAAAAAAADAa/KoQAAAAADyJ6hAAAAAAAAAAAAAAAAAAAAAAAAAAAAAAAAAAAAAAAAAAAAAAAAAAAAAAAAAAAAAAAAAAAAAAAAAAAAAAAAAAAAAAAAAAAAAAAAAAAAAAAAAAAAAAAAAAAAAAAAAAAAAAAAAAAAAAN37o0AAAADAXMqiQAAAAAAAAAAAAAAAAAAAAAAAAAAAAAAAAAAAAAAAAAAAAAAAAAAAAAAAAAAAAAAAAAAAAAAAAAAAAAAAAAAAAAAAAAAAAAAAAAAAAAAAAAAAAAAAAAAAAAAAAAAAAAAAAAAAAAAAAAAAAAAAAAAAAAAAAAAAAAAAAAAAAAAAAAAAAAAAAAAAAAAAAAAAAAAAAAAAAAAAAAAAAAAAAAAAAAAAAAAAAAAAAAAAAAAAAAAAAAAAAAAAAAAAAAAAAAAAAAAAAAAAAAAAAAAAAAAAAAAAAAAAAAAAAAAAAAAAAAAAAAAAAAAAAAAAAAAAAAAAAAAAAAAAAAAAAAAAAAAAAAAAAAAAAAAAAAAAAAAAAAAAAAAAAAAAAAAAAAAAAAAAAAAAAAAAAAAAAAAAAAAAAAAAAAAAAAAAAAAAAAAAAAAAAAAAAAAAAAAAAAAAAAAAAAAAAAAAAAAAAAAAAAAAAAAAAAAAAAAAAAAAAAAAAAAAAAAAAAAAAAAAAAAAAAAAAAAAAAAAAAAAAAAAAAAAAAAAAAAAAAAAAAAAAAAAAAAAAAAAAAAAAAAAAAAAAAAAAAAAAAAAAAAAAAAAAAAAAAAAAAAAAAAAAAAAAAAAAAAAAAAAAAAAAAAAAAAAAAAAAAAAAAAAAAAAAAAAAAAAAAAAAAAAAAAAAAAAAAAAAAAAAAAAAAAAAAAAAAAAAAAAAAAAAAAAAAAAAAAAAAAAAAAAAAAAAAAAAAAAAAAAAAAAAAAAAAAAAAAAAAAAAAAAAAAAAAAAAAAAAAAAAAAAAAAAAAAAAAAAAAAAAAAAAAAAAAAAAAAAAAAAAAAAAAAAAAAAAMAaSqdAAAAAAAAAAAAAAAAAAAAAAAAAAAAAAAAAAAAAAAAAAAAAAAAAAAAAAAAAAAAAAAAAAAAAAAAAAAAAAAAAAAAAAAAAAAAAAAAAAAAAAAAAAAAAAAAAAAAAAAAAAAAAAAAAAAAAAAAAAAAAAAAAAAAAAAAAAAAAAAAAAAAAAAAAAAAAAAAAAAAAAAAAAAAAAAAAAAAAAAAAAAAAAAAAAAAAAAAAAAAAAAAAAAAAAAAAAAAAAAAAAAAAAAAAAAAAAAAAAAAAAAAAAAAAAAAAAAAAAAAAAAAAAAAAAAAAAAAAAAAAAAAAAAAAAAAAAAAAAAAAAAAAAAAAAAAAAAAAAAAAAAAAAAAAAAAAAAAAAAAAAAAAAAAAAAAAAAAAAAAAAAAAAAAAAAAAAAAAAAAAAAAAAAAAAAAAAAAAAAAAAAAAAAAAAAAAAAAAAAAAAAAAAAAAAAAAAAAAAAAAAAAAAAAAAAAAAAAAAAAAAAAAAAAAAAAAAAAAAAAAAAAAAAAAAAAAAAAAAAAAAAAAAAAAAAAAAAAAAAAAAAAAAAAAAAAAAAAAAAAAAAAAAAAAAAAAAAAAAAAAAAAAAAAAAAAAAAAAAAAAAAAAAAAAAAAAAAAAAAAAAAAAAAAAAAAAAAAAAAAAAAAAAAAAAAAAAAAAAAAAAAAAAAAAAAAAAAAAAAAAAAAAAAAAAAAAAAAAAAAAAAAAAAAAAAAAAAAAAAAAAAAAAAAAAAAAAAAAAAAAAAAAAAAAAAAAAAAAAAAAAAAAAAAAAAAAAAAAAAAAAAAAAAAAAAAAAAAAAAAAAAAAAAAAAAAAAAAAAAAAAAAAAAAAAAAAAAAAAAAAAAAAAAAAAAAAAAAAAAAAAAAAAAAAAAAAAAAAAAAAAAAAAAAAAAAAAAAAAAAAAAAAAAAAAAAAAAAAAAAAAAAAAAAAAAAAAAAAAAAAAAAAAAAAAAAAAAAAAAAAAAAAAAAAAAAAAAAAAAAAAAAAAAAAAAAAAAAAAAAAAAAAAAAAAAAAAAAAAICBIpVAAAAAAAAAAAAAAAAg36qYQAAAAAAAAAAAAAAAAAAAAAAAAAAAAAAAAAAAAAAAAAAAAAAAAAAAAAAAAAAAAAAAAAAAAAAAAAAAAAAAAAAAAAAAAAAAAAAAAAAAAAAAAAAAAAAAAAAAAAAAAAAAAAAAAAAAAAAAAAAAAAAAAAAAAAAAAAAAAAAAAAAAAAAAAAAAAAAAAAAAAAAAAAAAAAAAAAAAAAAAAAAAAAAAAAAAAAAAAAAAAAAAAAAAAAAAAAAAAAAAgPjunEAAAACA5WSdQAAAAGD8lJ5AAAAAAAAAAAAAAAAAAAAAAAAAAAAAAAAAAAAAAAAAAAAAAAAAAAAAAAAAAAAAAAAAAAAAAAAAAAAAAAAAAAAAAAAAAAAAAAAAAAAAAAAAAAAAAAAAAAAAAAAAAAAAAAAAAAAAAAAAAAAAAAAAAAAAAAAAAAAAAAAAAAAAAAAAAAAAAAAAAAAAAAAAAAAAAAAAAAAAAAAAAAAAAAAAAAAAAA==\",\"dtype\":\"float64\",\"order\":\"little\",\"shape\":[776]},\"Volume\":[5397402117,6251377305,5600686192,6806696015,7702077383,10281309262,9466060358,10785021813,12003973026,15644257058,12357108065,10878845706,11827689045,12030600492,14045259477,18909744275,12834648062,14086704221,12875466638,11304626458,12751687084,9342060531,9451065592,11685827893,12792218737,12408772745,18480303526,15064589987,12416067894,12168816874,13227089410,11978984079,13137391167,10043032427,11781796374,10131847985,8137303970,10328860398,12428442042,9967343483,10457777652,9120674421,8777703481,11211948040,12774741797,18862763756,19691854014,19622845896,16747106257,29880047640,27643678917,21763614732,17991403432,14547933520,31421134556,27296269329,13295405814,15005899191,17536695361,16140584321,16107612177,19899531080,14108357740,11049507684,12292195784,17398267133,12732578043,12899346599,15714304470,14381086966,13049148579,13598126926,14258455166,11600013236,11818610610,14679481911,14215390463,10060167889,10696959020,11809507622,12830796112,11929918060,13461017711,13043501763,13618484324,12584512533,15867455424,14226744838,13918846567,14964182545,14670784817,10951115359,11047103109,12811242092,13741586582,20241324322,15772846485,14256222052,12201739194,10890207469,15155684229,13940434102,15276441134,12920477749,13688056970,11276963426,10475146018,13997574252,12588494762,15126077675,15440711038,16738305610,18873289788,11292383601,13704320630,12090381666,14075403511,12877327234,13191505725,10312037942,10308617165,11441239444,14593057877,17880199224,12473929218,18629943296,20757099184,21967049601,27272302872,23281758100,20088492893,31104004592,16831105703,14770243833,15017517758,20276867833,27178964465,16883292129,16146190946,16337589997,13498010566,11290893016,10720480962,14398919320,15855915840,11672582040,11098819124,8534557897,9070377862,8125837102,9326645840,15817248373,25479532147,15756303983,12830893778,13375855442,14419493621,14745890080,15261413038,14317413703,13520927700,14761125202,26093552821,24222565862,18710683199,17294574210,13926846861,13652004358,19740771179,45200463368,56945985763,41535932781,44699914188,40468027280,44334826666,33233105361,40616938053,60733630300,37494601692,30109792795,33410915929,35972039310,32319240157,29258032819,25817455560,47195935190,46784030909,45932464754,43918338506,27253895441,36418163554,43565777745,41572917750,39394416990,34637234789,53611955259,30616574234,25198853581,29210670920,45437142801,41874566399,44396871836,40108628454,39873420648,39889440151,48012285956,44180727529,41916084617,36021495262,37905036865,35359490535,31439114900,38955610883,34269369268,35955412703,28255902969,26268814253,34696091102,23626547717,42409646036,52029864713,31329000537,24481681873,31435997881,20742103233,27637026080,24032838645,22523669722,22674780680,22906118718,21067146937,22746262366,23809935410,27630991158,23461244507,25154173185,24013132909,22435821312,25014689475,19344589211,26244738810,23828509590,24512917348,23263845504,21249297710,22677674970,22977404620,23599296129,21998237965,31228051473,29650328701,22548516548,18102277710,16599472938,22796570548,22512781703,30226902621,30914259795,34862511022,32011518871,26006501902,28889391170,29222865881,36116271935,25312956529,19812472092,24986243611,19692836132,21727936609,29456642939,35592822986,32325606817,36196928256,32349808978,50696368718,34060654971,39433483315,38899067643,53575904724,55413933925,31854226936,31814355546,35208325408,32275969215,34269031076,32578127990,29777179889,28726205272,28032013047,49174290212,62402045158,48334198383,44300394788,39607240515,50208491286,50568290278,62691789007,52679737865,69023382175,78398214539,48174271215,42422321751,47359478734,54061732774,40416525218,84482912776,67610826680,53774070802,42089937660,56005721977,53697121740,49558333256,42499766020,33373635283,39999114805,33773720220,25876619428,31007383150,27363223090,27723267359,30038207402,34173841611,30496672724,25311639414,30600111277,41909736778,36075832186,28753626390,24832564195,25724364410,27092945370,26964576331,29005279219,24101926180,21871633186,22752818388,18765854896,22535930423,33745173825,35547251725,28408659206,20272845769,22774334998,20637542361,19885474742,25514602841,24815124419,25828056268,29061701793,31796212554,17433361641,18787107473,20103794829,20891861314,22398345285,23188123689,23029574602,17581542471,14705386138,17768129077,16621628658,17342819679,15688092552,14884569147,13364282076,13791868728,14157735481,17368597636,21253359756,17495480331,16200392492,16057446601,14566483636,29614324233,23067480378,18991302378,16313373113,20212848934,18001710283,22697987055,22162754104,22696753413,25038698173,31057928075,26528577879,33081467129,28433638008,31983260936,27605221710,26729035052,25403699845,23868866254,19860862133,22166205051,23080039949,25509056745,21539248425,19546290360,20885619828,18113977628,15983278460,20511110509,20131028906,18902728235,17405668117,18489602004,13709633698,13296586731,19306924485,27280502987,30070890104,24387397330,26207765094,20806963328,18371468576,18674691198,39131346397,31738430771,24118055831,22355974097,18627122934,16810411424,22721552948,19125420848,17548551804,20093903064,17722363229,15995220233,14257609743,27371684581,30405062665,23742102645,18516291047,25595422789,18932786754,21172766310,19164053681,16895079070,15763456158,17661065099,22307625573,19202671704,15516566862,17747154101,16632591670,21855226591,19090322927,16222029488,12707036942,16171746693,18579189588,18109578443,16211275589,19443499909,20966841512,16578095629,15908090346,17386204158,15998757133,20338319988,28220661820,19432937968,14781537792,14978083638,15995727040,17157714562,26219530404,25958154575,22967641914,14615490626,17498160238,17985288261,20794448222,21220463155,18415244464,15086003586,14429076700,13541376033,19290896267,20834172627,22748160545,17933201129,18316060208,14457436261,12172962219,16275851299,27417502801,22183461850,21383250893,20626269711,15448261277,14094831413,19752218877,22133497059,21838037128,18705358318,26281795488,16515693874,15953126340,19086475837,28626354111,27634826695,21502671027,25879591528,38478999182,25533062707,28229518513,22366213354,18704315119,22296131874,28014595631,19131502454,14057603914,23999841386,23836759957,26411188833,19825531254,23143541098,19530895889,16167785597,21589690675,16388555198,13921756199,18007273742,12769090623,10894785525,11197244172,11424360002,17299472803,15722555672,12925377999,14157285268,9776191466,9881471548,12080777893,14030925983,18061338502,24293791313,24494179209,16037732700,12334683863,19535744145,15211447193,16662871689,15294466275,13562957230,9619999078,9505934874,12344309617,13024154091,13187424144,10645922764,26796291874,27369692036,16481489511,28220804648,16179776932,21229909340,16126522783,14666227351,11172062661,9501221177,13778234614,13194846235,13876301217,12755505065,18987223729,13102093957,9466018022,15197063785,17136080906,13951308490,18629485080,16043881065,11254355757,9054963563,12164552172,13921257873,12352406833,15860206214,15748173433,9774183169,11641437834,18646392740,16360200507,13382637240,29312342666,17208902048,11724648351,16150857254,19266124733,18757425786,16636517503,13091199728,14496939024,8072368396,8872976607,14594098731,13922922903,14173665398,13292477213,12382419582,6532996574,8632000379,11244398839,12861105614,17915109769,12685265194,15830879093,11576463120,12684727326,15206116098,16830539230,16008767658,18070503166,17030503831,8876420740,13431866834,20620450770,19533323636,15302506131,17685495686,20982988937,23571556215,15333808649,18209969743,16681503199,25632563639,16745496605,17557050669,9908112156,10427054790,21891804831,20235707410,16088473629,15821419931,11256651536,8766710365,10463091281,18629381299,14156035096,15547362265,20783591093,16782795477,9116955609,9696829579,22332690614,19052045399,17419284041,18443524633,18771041399,13520941867,15332730152,18609741545,13026093219,18186749944,22642925048,21027599270,13369276367,20802269935,36333567678,38202099639,45743399154,42463486402,24816096567,15457044616,14846088335,21459552191,18509929297,17740965589,18734247914,15892482289,8546822406,10941123403,16434529708,13057109007,13364545730,23458681818,25470760032,23214777872,10642556101,19580808705,18363115560,21037797760,17065041354,14878001811,8677951273,8850385937,16518471852,24020076750,18041476023,12013083393,18504740451,21127089064,23465074882,45162788786,33327826525,37539999450,18907671369,14591486540,21655406608,21795481981,19739691429,15632089439,15010593493,14657862919,16981552654,12481946184,12096607824,12492225250,14023205651,15386286815,16350755497,17499453625,9935603640,8557248150,13670889311,16195518291,15373536703,14230795894,16315929082,8821353104,10984558039,12064180410,12583282453,18302588147,16688640823,17411448225,18364013796,16079711737,27440420623,27753529276,22942708340,20009556587,18926100582,14998811383,17217849557,20585056021,18238563509,23007524016,27231399966,23249531113,15576977870,14200735370,16191371176,20426082309,16786218830,14467440626,18546491876,11757911705,10252090340,16841424404,16368619692,23512477984,23826986482,17168141904,16038975216,14062754456,20349931313,15637578930,20308508124,14999352229,25906358731,18334580263,15849221752,18557078599,18322041914,16780932907,14818795695,26713710143,18120831899,12823572918,17965837488,21835784470,20591680941,16434276817],\"datetime\":[0,1,2,3,4,5,6,7,8,9,10,11,12,13,14,15,16,17,18,19,20,21,22,23,24,25,26,27,28,29,30,31,32,33,34,35,36,37,38,39,40,41,42,43,44,45,46,47,48,49,50,51,52,53,54,55,56,57,58,59,60,61,62,63,64,65,66,67,68,69,70,71,72,73,74,75,76,77,78,79,80,81,82,83,84,85,86,87,88,89,90,91,92,93,94,95,96,97,98,99,100,101,102,103,104,105,106,107,108,109,110,111,112,113,114,115,116,117,118,119,120,121,122,123,124,125,126,127,128,129,130,131,132,133,134,135,136,137,138,139,140,141,142,143,144,145,146,147,148,149,150,151,152,153,154,155,156,157,158,159,160,161,162,163,164,165,166,167,168,169,170,171,172,173,174,175,176,177,178,179,180,181,182,183,184,185,186,187,188,189,190,191,192,193,194,195,196,197,198,199,200,201,202,203,204,205,206,207,208,209,210,211,212,213,214,215,216,217,218,219,220,221,222,223,224,225,226,227,228,229,230,231,232,233,234,235,236,237,238,239,240,241,242,243,244,245,246,247,248,249,250,251,252,253,254,255,256,257,258,259,260,261,262,263,264,265,266,267,268,269,270,271,272,273,274,275,276,277,278,279,280,281,282,283,284,285,286,287,288,289,290,291,292,293,294,295,296,297,298,299,300,301,302,303,304,305,306,307,308,309,310,311,312,313,314,315,316,317,318,319,320,321,322,323,324,325,326,327,328,329,330,331,332,333,334,335,336,337,338,339,340,341,342,343,344,345,346,347,348,349,350,351,352,353,354,355,356,357,358,359,360,361,362,363,364,365,366,367,368,369,370,371,372,373,374,375,376,377,378,379,380,381,382,383,384,385,386,387,388,389,390,391,392,393,394,395,396,397,398,399,400,401,402,403,404,405,406,407,408,409,410,411,412,413,414,415,416,417,418,419,420,421,422,423,424,425,426,427,428,429,430,431,432,433,434,435,436,437,438,439,440,441,442,443,444,445,446,447,448,449,450,451,452,453,454,455,456,457,458,459,460,461,462,463,464,465,466,467,468,469,470,471,472,473,474,475,476,477,478,479,480,481,482,483,484,485,486,487,488,489,490,491,492,493,494,495,496,497,498,499,500,501,502,503,504,505,506,507,508,509,510,511,512,513,514,515,516,517,518,519,520,521,522,523,524,525,526,527,528,529,530,531,532,533,534,535,536,537,538,539,540,541,542,543,544,545,546,547,548,549,550,551,552,553,554,555,556,557,558,559,560,561,562,563,564,565,566,567,568,569,570,571,572,573,574,575,576,577,578,579,580,581,582,583,584,585,586,587,588,589,590,591,592,593,594,595,596,597,598,599,600,601,602,603,604,605,606,607,608,609,610,611,612,613,614,615,616,617,618,619,620,621,622,623,624,625,626,627,628,629,630,631,632,633,634,635,636,637,638,639,640,641,642,643,644,645,646,647,648,649,650,651,652,653,654,655,656,657,658,659,660,661,662,663,664,665,666,667,668,669,670,671,672,673,674,675,676,677,678,679,680,681,682,683,684,685,686,687,688,689,690,691,692,693,694,695,696,697,698,699,700,701,702,703,704,705,706,707,708,709,710,711,712,713,714,715,716,717,718,719,720,721,722,723,724,725,726,727,728,729,730,731,732,733,734,735,736,737,738,739,740,741,742,743,744,745,746,747,748,749,750,751,752,753,754,755,756,757,758,759,760,761,762,763,764,765,766,767,768,769,770,771,772,773,774,775],\"equity\":{\"__ndarray__\":\"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\",\"dtype\":\"float64\",\"order\":\"little\",\"shape\":[776]},\"inc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index\":[0,1,2,3,4,5,6,7,8,9,10,11,12,13,14,15,16,17,18,19,20,21,22,23,24,25,26,27,28,29,30,31,32,33,34,35,36,37,38,39,40,41,42,43,44,45,46,47,48,49,50,51,52,53,54,55,56,57,58,59,60,61,62,63,64,65,66,67,68,69,70,71,72,73,74,75,76,77,78,79,80,81,82,83,84,85,86,87,88,89,90,91,92,93,94,95,96,97,98,99,100,101,102,103,104,105,106,107,108,109,110,111,112,113,114,115,116,117,118,119,120,121,122,123,124,125,126,127,128,129,130,131,132,133,134,135,136,137,138,139,140,141,142,143,144,145,146,147,148,149,150,151,152,153,154,155,156,157,158,159,160,161,162,163,164,165,166,167,168,169,170,171,172,173,174,175,176,177,178,179,180,181,182,183,184,185,186,187,188,189,190,191,192,193,194,195,196,197,198,199,200,201,202,203,204,205,206,207,208,209,210,211,212,213,214,215,216,217,218,219,220,221,222,223,224,225,226,227,228,229,230,231,232,233,234,235,236,237,238,239,240,241,242,243,244,245,246,247,248,249,250,251,252,253,254,255,256,257,258,259,260,261,262,263,264,265,266,267,268,269,270,271,272,273,274,275,276,277,278,279,280,281,282,283,284,285,286,287,288,289,290,291,292,293,294,295,296,297,298,299,300,301,302,303,304,305,306,307,308,309,310,311,312,313,314,315,316,317,318,319,320,321,322,323,324,325,326,327,328,329,330,331,332,333,334,335,336,337,338,339,340,341,342,343,344,345,346,347,348,349,350,351,352,353,354,355,356,357,358,359,360,361,362,363,364,365,366,367,368,369,370,371,372,373,374,375,376,377,378,379,380,381,382,383,384,385,386,387,388,389,390,391,392,393,394,395,396,397,398,399,400,401,402,403,404,405,406,407,408,409,410,411,412,413,414,415,416,417,418,419,420,421,422,423,424,425,426,427,428,429,430,431,432,433,434,435,436,437,438,439,440,441,442,443,444,445,446,447,448,449,450,451,452,453,454,455,456,457,458,459,460,461,462,463,464,465,466,467,468,469,470,471,472,473,474,475,476,477,478,479,480,481,482,483,484,485,486,487,488,489,490,491,492,493,494,495,496,497,498,499,500,501,502,503,504,505,506,507,508,509,510,511,512,513,514,515,516,517,518,519,520,521,522,523,524,525,526,527,528,529,530,531,532,533,534,535,536,537,538,539,540,541,542,543,544,545,546,547,548,549,550,551,552,553,554,555,556,557,558,559,560,561,562,563,564,565,566,567,568,569,570,571,572,573,574,575,576,577,578,579,580,581,582,583,584,585,586,587,588,589,590,591,592,593,594,595,596,597,598,599,600,601,602,603,604,605,606,607,608,609,610,611,612,613,614,615,616,617,618,619,620,621,622,623,624,625,626,627,628,629,630,631,632,633,634,635,636,637,638,639,640,641,642,643,644,645,646,647,648,649,650,651,652,653,654,655,656,657,658,659,660,661,662,663,664,665,666,667,668,669,670,671,672,673,674,675,676,677,678,679,680,681,682,683,684,685,686,687,688,689,690,691,692,693,694,695,696,697,698,699,700,701,702,703,704,705,706,707,708,709,710,711,712,713,714,715,716,717,718,719,720,721,722,723,724,725,726,727,728,729,730,731,732,733,734,735,736,737,738,739,740,741,742,743,744,745,746,747,748,749,750,751,752,753,754,755,756,757,758,759,760,761,762,763,764,765,766,767,768,769,770,771,772,773,774,775],\"ohlc_high\":{\"__ndarray__\":\"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\",\"dtype\":\"float64\",\"order\":\"little\",\"shape\":[776]},\"ohlc_low\":{\"__ndarray__\":\"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\",\"dtype\":\"float64\",\"order\":\"little\",\"shape\":[776]}},\"selected\":{\"id\":\"2285\"},\"selection_policy\":{\"id\":\"2284\"}},\"id\":\"2215\",\"type\":\"ColumnDataSource\"},{\"attributes\":{\"fill_alpha\":0.1,\"fill_color\":\"#ffffea\",\"hatch_alpha\":0.1,\"line_alpha\":0.1,\"line_color\":\"#ffcb66\",\"x\":{\"field\":\"index\"},\"y\":{\"field\":\"equity_dd\"}},\"id\":\"2255\",\"type\":\"Patch\"},{\"attributes\":{},\"id\":\"2278\",\"type\":\"AllLabels\"},{\"attributes\":{\"axis\":{\"id\":\"2506\"},\"coordinates\":null,\"dimension\":1,\"group\":null,\"ticker\":null},\"id\":\"2509\",\"type\":\"Grid\"},{\"attributes\":{\"coordinates\":null,\"data_source\":{\"id\":\"2216\"},\"glyph\":{\"id\":\"2474\"},\"group\":null,\"hover_glyph\":null,\"muted_glyph\":{\"id\":\"2476\"},\"nonselection_glyph\":{\"id\":\"2475\"},\"view\":{\"id\":\"2478\"}},\"id\":\"2477\",\"type\":\"GlyphRenderer\"},{\"attributes\":{\"label\":{\"value\":\"Peak (247%)\"},\"renderers\":[{\"id\":\"2273\"}]},\"id\":\"2290\",\"type\":\"LegendItem\"},{\"attributes\":{\"coordinates\":null,\"formatter\":{\"id\":\"2587\"},\"group\":null,\"major_label_policy\":{\"id\":\"2588\"},\"ticker\":{\"id\":\"2375\"},\"visible\":false},\"id\":\"2374\",\"type\":\"LinearAxis\"},{\"attributes\":{\"coordinates\":null,\"data_source\":{\"id\":\"2291\"},\"glyph\":{\"id\":\"2292\"},\"group\":null,\"hover_glyph\":null,\"muted_glyph\":{\"id\":\"2294\"},\"nonselection_glyph\":{\"id\":\"2293\"},\"view\":{\"id\":\"2296\"}},\"id\":\"2295\",\"type\":\"GlyphRenderer\"},{\"attributes\":{\"coordinates\":null,\"group\":null},\"id\":\"2582\",\"type\":\"Title\"},{\"attributes\":{\"coordinates\":null,\"data_source\":{\"id\":\"2215\"},\"glyph\":{\"id\":\"2260\"},\"group\":null,\"hover_glyph\":null,\"muted_glyph\":{\"id\":\"2262\"},\"nonselection_glyph\":{\"id\":\"2261\"},\"view\":{\"id\":\"2264\"}},\"id\":\"2263\",\"type\":\"GlyphRenderer\"},{\"attributes\":{},\"id\":\"2515\",\"type\":\"ResetTool\"},{\"attributes\":{\"data\":{\"datetime\":[56,68,225,249,251,309,339,730],\"exit_price\":{\"__ndarray__\":\"9ihcj3AOeECkcD1KtSJ1QGZmZnYOHZVAcT0KV0GjmUCamZnZ+5WaQNejcN2k5Z1Arkfh6l2XnEDhehSOA/aVQA==\",\"dtype\":\"float64\",\"order\":\"little\",\"shape\":[8]},\"index\":[56,68,225,249,251,309,339,730],\"marker_size\":{\"__ndarray__\":\"exSuR+F6LEAAAAAAAAA0QM3MzMzMzCRA9ihcj8L1IED2KFyPwvUgQAAAAAAAACBAAAAAAAAAIEAAAAAAAAAgQA==\",\"dtype\":\"float64\",\"order\":\"little\",\"shape\":[8]},\"position_lines_xs\":[[50,56],[68,68],[221,225],[248,249],[250,251],[306,309],[339,339],[729,730]],\"position_lines_ys\":[[335.3345642089844,384.90248046875],[320.9850158691406,338.16926025390626],[1571.4764404296875,1351.2641235351562],[1690.871826171875,1640.81380859375],[1593.123291015625,1701.495947265625],[2439.638671875,1913.4110009765625],[1886.6676025390625,1829.8417163085937],[1353.205078125,1405.5034716796874]],\"returns_long\":{\"__ndarray__\":\"cCAmCqXrwj8AOBkWEWmrP/Ri7rPO78G/QNTkR7xQnr9gTVTMGmqxP9C4iIYGnMu/YOXJtLPXnr8AAAAAAAD4fw==\",\"dtype\":\"float64\",\"order\":\"little\",\"shape\":[8]},\"returns_positive\":[\"1\",\"1\",\"0\",\"0\",\"1\",\"0\",\"0\",\"0\"],\"returns_short\":{\"__ndarray__\":\"AAAAAAAA+H8AAAAAAAD4fwAAAAAAAPh/AAAAAAAA+H8AAAAAAAD4fwAAAAAAAPh/AAAAAAAA+H8ALyzWpMmjvw==\",\"dtype\":\"float64\",\"order\":\"little\",\"shape\":[8]},\"size\":[14,26,6,2,2,1,1,-1]},\"selected\":{\"id\":\"2490\"},\"selection_policy\":{\"id\":\"2489\"}},\"id\":\"2216\",\"type\":\"ColumnDataSource\"},{\"attributes\":{\"label\":{\"value\":\"Trades (8)\"},\"renderers\":[{\"id\":\"2477\"}]},\"id\":\"2493\",\"type\":\"LegendItem\"},{\"attributes\":{\"border_line_color\":\"#333333\",\"click_policy\":\"hide\",\"coordinates\":null,\"group\":null,\"items\":[{\"id\":\"2493\"}],\"label_text_font_size\":\"8pt\",\"location\":\"top_left\",\"margin\":0,\"padding\":5,\"spacing\":0},\"id\":\"2492\",\"type\":\"Legend\"},{\"attributes\":{\"data\":{\"equity_dd\":{\"__ndarray__\":\"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\",\"dtype\":\"float64\",\"order\":\"little\",\"shape\":[1552]},\"index\":[0,1,2,3,4,5,6,7,8,9,10,11,12,13,14,15,16,17,18,19,20,21,22,23,24,25,26,27,28,29,30,31,32,33,34,35,36,37,38,39,40,41,42,43,44,45,46,47,48,49,50,51,52,53,54,55,56,57,58,59,60,61,62,63,64,65,66,67,68,69,70,71,72,73,74,75,76,77,78,79,80,81,82,83,84,85,86,87,88,89,90,91,92,93,94,95,96,97,98,99,100,101,102,103,104,105,106,107,108,109,110,111,112,113,114,115,116,117,118,119,120,121,122,123,124,125,126,127,128,129,130,131,132,133,134,135,136,137,138,139,140,141,142,143,144,145,146,147,148,149,150,151,152,153,154,155,156,157,158,159,160,161,162,163,164,165,166,167,168,169,170,171,172,173,174,175,176,177,178,179,180,181,182,183,184,185,186,187,188,189,190,191,192,193,194,195,196,197,198,199,200,201,202,203,204,205,206,207,208,209,210,211,212,213,214,215,216,217,218,219,220,221,222,223,224,225,226,227,228,229,230,231,232,233,234,235,236,237,238,239,240,241,242,243,244,245,246,247,248,249,250,251,252,253,254,255,256,257,258,259,260,261,262,263,264,265,266,267,268,269,270,271,272,273,274,275,276,277,278,279,280,281,282,283,284,285,286,287,288,289,290,291,292,293,294,295,296,297,298,299,300,301,302,303,304,305,306,307,308,309,310,311,312,313,314,315,316,317,318,319,320,321,322,323,324,325,326,327,328,329,330,331,332,333,334,335,336,337,338,339,340,341,342,343,344,345,346,347,348,349,350,351,352,353,354,355,356,357,358,359,360,361,362,363,364,365,366,367,368,369,370,371,372,373,374,375,376,377,378,379,380,381,382,383,384,385,386,387,388,389,390,391,392,393,394,395,396,397,398,399,400,401,402,403,404,405,406,407,408,409,410,411,412,413,414,415,416,417,418,419,420,421,422,423,424,425,426,427,428,429,430,431,432,433,434,435,436,437,438,439,440,441,442,443,444,445,446,447,448,449,450,451,452,453,454,455,456,457,458,459,460,461,462,463,464,465,466,467,468,469,470,471,472,473,474,475,476,477,478,479,480,481,482,483,484,485,486,487,488,489,490,491,492,493,494,495,496,497,498,499,500,501,502,503,504,505,506,507,508,509,510,511,512,513,514,515,516,517,518,519,520,521,522,523,524,525,526,527,528,529,530,531,532,533,534,535,536,537,538,539,540,541,542,543,544,545,546,547,548,549,550,551,552,553,554,555,556,557,558,559,560,561,562,563,564,565,566,567,568,569,570,571,572,573,574,575,576,577,578,579,580,581,582,583,584,585,586,587,588,589,590,591,592,593,594,595,596,597,598,599,600,601,602,603,604,605,606,607,608,609,610,611,612,613,614,615,616,617,618,619,620,621,622,623,624,625,626,627,628,629,630,631,632,633,634,635,636,637,638,639,640,641,642,643,644,645,646,647,648,649,650,651,652,653,654,655,656,657,658,659,660,661,662,663,664,665,666,667,668,669,670,671,672,673,674,675,676,677,678,679,680,681,682,683,684,685,686,687,688,689,690,691,692,693,694,695,696,697,698,699,700,701,702,703,704,705,706,707,708,709,710,711,712,713,714,715,716,717,718,719,720,721,722,723,724,725,726,727,728,729,730,731,732,733,734,735,736,737,738,739,740,741,742,743,744,745,746,747,748,749,750,751,752,753,754,755,756,757,758,759,760,761,762,763,764,765,766,767,768,769,770,771,772,773,774,775,775,774,773,772,771,770,769,768,767,766,765,764,763,762,761,760,759,758,757,756,755,754,753,752,751,750,749,748,747,746,745,744,743,742,741,740,739,738,737,736,735,734,733,732,731,730,729,728,727,726,725,724,723,722,721,720,719,718,717,716,715,714,713,712,711,710,709,708,707,706,705,704,703,702,701,700,699,698,697,696,695,694,693,692,691,690,689,688,687,686,685,684,683,682,681,680,679,678,677,676,675,674,673,672,671,670,669,668,667,666,665,664,663,662,661,660,659,658,657,656,655,654,653,652,651,650,649,648,647,646,645,644,643,642,641,640,639,638,637,636,635,634,633,632,631,630,629,628,627,626,625,624,623,622,621,620,619,618,617,616,615,614,613,612,611,610,609,608,607,606,605,604,603,602,601,600,599,598,597,596,595,594,593,592,591,590,589,588,587,586,585,584,583,582,581,580,579,578,577,576,575,574,573,572,571,570,569,568,567,566,565,564,563,562,561,560,559,558,557,556,555,554,553,552,551,550,549,548,547,546,545,544,543,542,541,540,539,538,537,536,535,534,533,532,531,530,529,528,527,526,525,524,523,522,521,520,519,518,517,516,515,514,513,512,511,510,509,508,507,506,505,504,503,502,501,500,499,498,497,496,495,494,493,492,491,490,489,488,487,486,485,484,483,482,481,480,479,478,477,476,475,474,473,472,471,470,469,468,467,466,465,464,463,462,461,460,459,458,457,456,455,454,453,452,451,450,449,448,447,446,445,444,443,442,441,440,439,438,437,436,435,434,433,432,431,430,429,428,427,426,425,424,423,422,421,420,419,418,417,416,415,414,413,412,411,410,409,408,407,406,405,404,403,402,401,400,399,398,397,396,395,394,393,392,391,390,389,388,387,386,385,384,383,382,381,380,379,378,377,376,375,374,373,372,371,370,369,368,367,366,365,364,363,362,361,360,359,358,357,356,355,354,353,352,351,350,349,348,347,346,345,344,343,342,341,340,339,338,337,336,335,334,333,332,331,330,329,328,327,326,325,324,323,322,321,320,319,318,317,316,315,314,313,312,311,310,309,308,307,306,305,304,303,302,301,300,299,298,297,296,295,294,293,292,291,290,289,288,287,286,285,284,283,282,281,280,279,278,277,276,275,274,273,272,271,270,269,268,267,266,265,264,263,262,261,260,259,258,257,256,255,254,253,252,251,250,249,248,247,246,245,244,243,242,241,240,239,238,237,236,235,234,233,232,231,230,229,228,227,226,225,224,223,222,221,220,219,218,217,216,215,214,213,212,211,210,209,208,207,206,205,204,203,202,201,200,199,198,197,196,195,194,193,192,191,190,189,188,187,186,185,184,183,182,181,180,179,178,177,176,175,174,173,172,171,170,169,168,167,166,165,164,163,162,161,160,159,158,157,156,155,154,153,152,151,150,149,148,147,146,145,144,143,142,141,140,139,138,137,136,135,134,133,132,131,130,129,128,127,126,125,124,123,122,121,120,119,118,117,116,115,114,113,112,111,110,109,108,107,106,105,104,103,102,101,100,99,98,97,96,95,94,93,92,91,90,89,88,87,86,85,84,83,82,81,80,79,78,77,76,75,74,73,72,71,70,69,68,67,66,65,64,63,62,61,60,59,58,57,56,55,54,53,52,51,50,49,48,47,46,45,44,43,42,41,40,39,38,37,36,35,34,33,32,31,30,29,28,27,26,25,24,23,22,21,20,19,18,17,16,15,14,13,12,11,10,9,8,7,6,5,4,3,2,1,0]},\"selected\":{\"id\":\"2283\"},\"selection_policy\":{\"id\":\"2282\"}},\"id\":\"2252\",\"type\":\"ColumnDataSource\"},{\"attributes\":{},\"id\":\"2516\",\"type\":\"SaveTool\"},{\"attributes\":{\"coordinates\":null,\"group\":null},\"id\":\"2275\",\"type\":\"Title\"},{\"attributes\":{\"source\":{\"id\":\"2215\"}},\"id\":\"2264\",\"type\":\"CDSView\"},{\"attributes\":{\"axis_label\":\"Profit / Loss\",\"coordinates\":null,\"formatter\":{\"id\":\"2415\"},\"group\":null,\"major_label_policy\":{\"id\":\"2585\"},\"minor_tick_line_color\":null,\"ticker\":{\"id\":\"2379\"}},\"id\":\"2378\",\"type\":\"LinearAxis\"},{\"attributes\":{},\"id\":\"2240\",\"type\":\"RedoTool\"},{\"attributes\":{},\"id\":\"2514\",\"type\":\"RedoTool\"},{\"attributes\":{\"overlay\":{\"id\":\"2243\"}},\"id\":\"2238\",\"type\":\"BoxZoomTool\"},{\"attributes\":{\"fill_color\":\"#ffffea\",\"line_color\":\"#ffcb66\",\"x\":{\"field\":\"index\"},\"y\":{\"field\":\"equity_dd\"}},\"id\":\"2254\",\"type\":\"Patch\"},{\"attributes\":{\"fill_color\":{\"value\":\"cyan\"},\"hatch_color\":{\"value\":\"cyan\"},\"line_color\":{\"value\":\"cyan\"},\"size\":{\"value\":8},\"x\":{\"value\":221},\"y\":{\"value\":2.4713366406250006}},\"id\":\"2270\",\"type\":\"Scatter\"},{\"attributes\":{\"label\":{\"value\":\"Max Drawdown (-87.8%)\"},\"renderers\":[{\"id\":\"2318\"}]},\"id\":\"2338\",\"type\":\"LegendItem\"},{\"attributes\":{\"coordinates\":null,\"data_source\":{\"id\":\"2314\"},\"glyph\":{\"id\":\"2315\"},\"group\":null,\"hover_glyph\":null,\"muted_glyph\":{\"id\":\"2317\"},\"nonselection_glyph\":{\"id\":\"2316\"},\"view\":{\"id\":\"2319\"}},\"id\":\"2318\",\"type\":\"GlyphRenderer\"},{\"attributes\":{\"coordinates\":null,\"group\":null,\"line_color\":\"#666666\",\"line_dash\":[6],\"location\":0},\"id\":\"2398\",\"type\":\"Span\"},{\"attributes\":{},\"id\":\"2368\",\"type\":\"DataRange1d\"},{\"attributes\":{\"source\":{\"id\":\"2314\"}},\"id\":\"2319\",\"type\":\"CDSView\"},{\"attributes\":{\"bottom_units\":\"screen\",\"coordinates\":null,\"fill_alpha\":0.5,\"fill_color\":\"lightgrey\",\"group\":null,\"left_units\":\"screen\",\"level\":\"overlay\",\"line_alpha\":1.0,\"line_color\":\"black\",\"line_dash\":[4,4],\"line_width\":2,\"right_units\":\"screen\",\"syncable\":false,\"top_units\":\"screen\"},\"id\":\"2517\",\"type\":\"BoxAnnotation\"},{\"attributes\":{},\"id\":\"2370\",\"type\":\"LinearScale\"},{\"attributes\":{\"dimensions\":\"width\",\"maintain_focus\":false},\"id\":\"2383\",\"type\":\"WheelZoomTool\"},{\"attributes\":{},\"id\":\"2375\",\"type\":\"BasicTicker\"},{\"attributes\":{\"fill_color\":{\"value\":\"red\"},\"hatch_color\":{\"value\":\"red\"},\"line_color\":{\"value\":\"red\"},\"size\":{\"value\":8},\"x\":{\"value\":730},\"y\":{\"value\":0.3007446069335942}},\"id\":\"2315\",\"type\":\"Scatter\"},{\"attributes\":{\"axis\":{\"id\":\"2195\"},\"coordinates\":null,\"dimension\":1,\"group\":null,\"ticker\":null},\"id\":\"2198\",\"type\":\"Grid\"},{\"attributes\":{\"axis\":{\"id\":\"2374\"},\"coordinates\":null,\"group\":null,\"ticker\":null},\"id\":\"2377\",\"type\":\"Grid\"},{\"attributes\":{\"fill_alpha\":{\"value\":0.2},\"fill_color\":{\"value\":\"cyan\"},\"hatch_alpha\":{\"value\":0.2},\"hatch_color\":{\"value\":\"cyan\"},\"line_alpha\":{\"value\":0.2},\"line_color\":{\"value\":\"cyan\"},\"size\":{\"value\":8},\"x\":{\"value\":221},\"y\":{\"value\":2.4713366406250006}},\"id\":\"2272\",\"type\":\"Scatter\"},{\"attributes\":{\"dimensions\":\"width\",\"maintain_focus\":false},\"id\":\"2511\",\"type\":\"WheelZoomTool\"},{\"attributes\":{\"bottom\":{\"field\":\"Close\"},\"fill_alpha\":{\"value\":0.1},\"fill_color\":{\"field\":\"inc\",\"transform\":{\"id\":\"2217\"}},\"hatch_alpha\":{\"value\":0.1},\"line_alpha\":{\"value\":0.1},\"top\":{\"field\":\"Open\"},\"width\":{\"value\":0.8},\"x\":{\"field\":\"index\"}},\"id\":\"2469\",\"type\":\"VBar\"},{\"attributes\":{\"coordinates\":null,\"formatter\":{\"id\":\"2280\"},\"group\":null,\"major_label_policy\":{\"id\":\"2281\"},\"ticker\":{\"id\":\"2229\"},\"visible\":false},\"id\":\"2228\",\"type\":\"LinearAxis\"},{\"attributes\":{\"axis\":{\"id\":\"2378\"},\"coordinates\":null,\"dimension\":1,\"group\":null,\"ticker\":null},\"id\":\"2381\",\"type\":\"Grid\"},{\"attributes\":{\"below\":[{\"id\":\"2228\"}],\"center\":[{\"id\":\"2231\"},{\"id\":\"2235\"},{\"id\":\"2289\"}],\"height\":110,\"left\":[{\"id\":\"2232\"}],\"min_border_bottom\":6,\"min_border_left\":0,\"min_border_right\":10,\"min_border_top\":3,\"outline_line_color\":\"#666666\",\"renderers\":[{\"id\":\"2257\"},{\"id\":\"2263\"},{\"id\":\"2273\"},{\"id\":\"2295\"},{\"id\":\"2318\"},{\"id\":\"2343\"}],\"sizing_mode\":\"stretch_width\",\"title\":{\"id\":\"2275\"},\"toolbar\":{\"id\":\"2244\"},\"toolbar_location\":null,\"width\":null,\"x_range\":{\"id\":\"2182\"},\"x_scale\":{\"id\":\"2224\"},\"y_range\":{\"id\":\"2222\"},\"y_scale\":{\"id\":\"2226\"}},\"id\":\"2220\",\"subtype\":\"Figure\",\"type\":\"Plot\"},{\"attributes\":{},\"id\":\"2379\",\"type\":\"BasicTicker\"},{\"attributes\":{\"factors\":[\"0\",\"1\"],\"palette\":[\"tomato\",\"lime\"]},\"id\":\"2218\",\"type\":\"CategoricalColorMapper\"},{\"attributes\":{},\"id\":\"2385\",\"type\":\"UndoTool\"},{\"attributes\":{},\"id\":\"2585\",\"type\":\"AllLabels\"},{\"attributes\":{},\"id\":\"2387\",\"type\":\"ResetTool\"},{\"attributes\":{\"dimensions\":\"width\"},\"id\":\"2199\",\"type\":\"PanTool\"},{\"attributes\":{\"dimensions\":\"width\"},\"id\":\"2382\",\"type\":\"PanTool\"},{\"attributes\":{\"coordinates\":null,\"data_source\":{\"id\":\"2215\"},\"glyph\":{\"id\":\"2527\"},\"group\":null,\"hover_glyph\":null,\"muted_glyph\":{\"id\":\"2529\"},\"nonselection_glyph\":{\"id\":\"2528\"},\"view\":{\"id\":\"2531\"}},\"id\":\"2530\",\"type\":\"GlyphRenderer\"},{\"attributes\":{\"overlay\":{\"id\":\"2389\"}},\"id\":\"2384\",\"type\":\"BoxZoomTool\"},{\"attributes\":{},\"id\":\"2587\",\"type\":\"BasicTickFormatter\"},{\"attributes\":{},\"id\":\"2386\",\"type\":\"RedoTool\"},{\"attributes\":{\"source\":{\"id\":\"2215\"}},\"id\":\"2531\",\"type\":\"CDSView\"},{\"attributes\":{},\"id\":\"2388\",\"type\":\"SaveTool\"},{\"attributes\":{\"border_line_color\":\"#333333\",\"click_policy\":\"hide\",\"coordinates\":null,\"glyph_width\":0,\"group\":null,\"items\":[{\"id\":\"2544\"}],\"label_text_font_size\":\"8pt\",\"location\":\"top_left\",\"margin\":0,\"padding\":5,\"spacing\":0},\"id\":\"2543\",\"type\":\"Legend\"},{\"attributes\":{},\"id\":\"2588\",\"type\":\"AllLabels\"},{\"attributes\":{\"fill_color\":{\"field\":\"inc\",\"transform\":{\"id\":\"2217\"}},\"hatch_color\":{\"field\":\"inc\",\"transform\":{\"id\":\"2217\"}},\"line_color\":{\"field\":\"inc\",\"transform\":{\"id\":\"2217\"}},\"top\":{\"field\":\"Volume\"},\"width\":{\"value\":0.8},\"x\":{\"field\":\"index\"}},\"id\":\"2452\",\"type\":\"VBar\"},{\"attributes\":{\"dimensions\":\"width\"},\"id\":\"2510\",\"type\":\"PanTool\"},{\"attributes\":{\"coordinates\":null,\"group\":null},\"id\":\"2532\",\"type\":\"Title\"},{\"attributes\":{\"bottom_units\":\"screen\",\"coordinates\":null,\"fill_alpha\":0.5,\"fill_color\":\"lightgrey\",\"group\":null,\"left_units\":\"screen\",\"level\":\"overlay\",\"line_alpha\":1.0,\"line_color\":\"black\",\"line_dash\":[4,4],\"line_width\":2,\"right_units\":\"screen\",\"syncable\":false,\"top_units\":\"screen\"},\"id\":\"2206\",\"type\":\"BoxAnnotation\"},{\"attributes\":{\"bottom_units\":\"screen\",\"coordinates\":null,\"fill_alpha\":0.5,\"fill_color\":\"lightgrey\",\"group\":null,\"left_units\":\"screen\",\"level\":\"overlay\",\"line_alpha\":1.0,\"line_color\":\"black\",\"line_dash\":[4,4],\"line_width\":2,\"right_units\":\"screen\",\"syncable\":false,\"top_units\":\"screen\"},\"id\":\"2389\",\"type\":\"BoxAnnotation\"},{\"attributes\":{\"format\":\"0,0.[00]%\"},\"id\":\"2267\",\"type\":\"NumeralTickFormatter\"},{\"attributes\":{\"fill_alpha\":{\"value\":0.1},\"fill_color\":{\"field\":\"returns_positive\",\"transform\":{\"id\":\"2218\"}},\"hatch_alpha\":{\"value\":0.1},\"line_alpha\":{\"value\":0.1},\"marker\":{\"value\":\"inverted_triangle\"},\"size\":{\"field\":\"marker_size\"},\"x\":{\"field\":\"index\"},\"y\":{\"field\":\"returns_short\"}},\"id\":\"2407\",\"type\":\"Scatter\"},{\"attributes\":{\"below\":[{\"id\":\"2191\"}],\"center\":[{\"id\":\"2194\"},{\"id\":\"2198\"},{\"id\":\"2492\"}],\"height\":400,\"left\":[{\"id\":\"2195\"}],\"min_border_bottom\":6,\"min_border_left\":0,\"min_border_right\":10,\"min_border_top\":3,\"outline_line_color\":\"#666666\",\"renderers\":[{\"id\":\"2465\"},{\"id\":\"2471\"},{\"id\":\"2477\"}],\"sizing_mode\":\"stretch_width\",\"title\":{\"id\":\"2479\"},\"toolbar\":{\"id\":\"2207\"},\"toolbar_location\":null,\"width\":null,\"x_range\":{\"id\":\"2182\"},\"x_scale\":{\"id\":\"2187\"},\"y_range\":{\"id\":\"2185\"},\"y_scale\":{\"id\":\"2189\"}},\"id\":\"2183\",\"subtype\":\"Figure\",\"type\":\"Plot\"},{\"attributes\":{},\"id\":\"2185\",\"type\":\"DataRange1d\"},{\"attributes\":{\"data\":{},\"selected\":{\"id\":\"2287\"},\"selection_policy\":{\"id\":\"2286\"}},\"id\":\"2269\",\"type\":\"ColumnDataSource\"},{\"attributes\":{\"fill_alpha\":{\"value\":0.2},\"fill_color\":{\"field\":\"inc\",\"transform\":{\"id\":\"2217\"}},\"hatch_alpha\":{\"value\":0.2},\"hatch_color\":{\"field\":\"inc\",\"transform\":{\"id\":\"2217\"}},\"line_alpha\":{\"value\":0.2},\"line_color\":{\"field\":\"inc\",\"transform\":{\"id\":\"2217\"}},\"top\":{\"field\":\"Volume\"},\"width\":{\"value\":0.8},\"x\":{\"field\":\"index\"}},\"id\":\"2454\",\"type\":\"VBar\"},{\"attributes\":{\"bottom_units\":\"screen\",\"coordinates\":null,\"fill_alpha\":0.5,\"fill_color\":\"lightgrey\",\"group\":null,\"left_units\":\"screen\",\"level\":\"overlay\",\"line_alpha\":1.0,\"line_color\":\"black\",\"line_dash\":[4,4],\"line_width\":2,\"right_units\":\"screen\",\"syncable\":false,\"top_units\":\"screen\"},\"id\":\"2243\",\"type\":\"BoxAnnotation\"},{\"attributes\":{\"coordinates\":null,\"data_source\":{\"id\":\"2252\"},\"glyph\":{\"id\":\"2254\"},\"group\":null,\"hover_glyph\":null,\"muted_glyph\":{\"id\":\"2256\"},\"nonselection_glyph\":{\"id\":\"2255\"},\"view\":{\"id\":\"2258\"}},\"id\":\"2257\",\"type\":\"GlyphRenderer\"},{\"attributes\":{\"coordinates\":null,\"data_source\":{\"id\":\"2216\"},\"glyph\":{\"id\":\"2400\"},\"group\":null,\"hover_glyph\":null,\"muted_glyph\":{\"id\":\"2402\"},\"nonselection_glyph\":{\"id\":\"2401\"},\"view\":{\"id\":\"2404\"}},\"id\":\"2403\",\"type\":\"GlyphRenderer\"},{\"attributes\":{\"active_drag\":{\"id\":\"2433\"},\"active_scroll\":{\"id\":\"2434\"},\"tools\":[{\"id\":\"2433\"},{\"id\":\"2434\"},{\"id\":\"2435\"},{\"id\":\"2436\"},{\"id\":\"2437\"},{\"id\":\"2438\"},{\"id\":\"2439\"},{\"id\":\"2457\"},{\"id\":\"2550\"}]},\"id\":\"2441\",\"type\":\"Toolbar\"},{\"attributes\":{\"active_drag\":{\"id\":\"2199\"},\"active_scroll\":{\"id\":\"2200\"},\"tools\":[{\"id\":\"2199\"},{\"id\":\"2200\"},{\"id\":\"2201\"},{\"id\":\"2202\"},{\"id\":\"2203\"},{\"id\":\"2204\"},{\"id\":\"2205\"},{\"id\":\"2547\"},{\"id\":\"2550\"}]},\"id\":\"2207\",\"type\":\"Toolbar\"},{\"attributes\":{},\"id\":\"2224\",\"type\":\"LinearScale\"},{\"attributes\":{},\"id\":\"2189\",\"type\":\"LinearScale\"},{\"attributes\":{\"line_alpha\":0.2,\"line_color\":\"#1f77b4\",\"line_width\":1.5,\"x\":{\"field\":\"index\"},\"y\":{\"field\":\"equity\"}},\"id\":\"2262\",\"type\":\"Line\"},{\"attributes\":{\"coordinates\":null,\"data_source\":{\"id\":\"2215\"},\"glyph\":{\"id\":\"2452\"},\"group\":null,\"hover_glyph\":null,\"muted_glyph\":{\"id\":\"2454\"},\"nonselection_glyph\":{\"id\":\"2453\"},\"view\":{\"id\":\"2456\"}},\"id\":\"2455\",\"type\":\"GlyphRenderer\"},{\"attributes\":{\"fill_color\":{\"field\":\"returns_positive\",\"transform\":{\"id\":\"2218\"}},\"marker\":{\"value\":\"inverted_triangle\"},\"size\":{\"field\":\"marker_size\"},\"x\":{\"field\":\"index\"},\"y\":{\"field\":\"returns_short\"}},\"id\":\"2406\",\"type\":\"Scatter\"},{\"attributes\":{\"coordinates\":null,\"data_source\":{\"id\":\"2215\"},\"glyph\":{\"id\":\"2462\"},\"group\":null,\"hover_glyph\":null,\"muted_glyph\":{\"id\":\"2464\"},\"nonselection_glyph\":{\"id\":\"2463\"},\"view\":{\"id\":\"2466\"}},\"id\":\"2465\",\"type\":\"GlyphRenderer\"},{\"attributes\":{\"coordinates\":null,\"formatter\":{\"id\":\"2449\"},\"group\":null,\"major_label_policy\":{\"id\":\"2486\"},\"ticker\":{\"id\":\"2192\"},\"visible\":false},\"id\":\"2191\",\"type\":\"LinearAxis\"},{\"attributes\":{\"callback\":null,\"mode\":\"vline\",\"point_policy\":\"follow_mouse\",\"renderers\":[{\"id\":\"2263\"}],\"tooltips\":[[\"#\",\"@index\"],[\"Equity\",\"@equity{+0,0.[000]%}\"]]},\"id\":\"2265\",\"type\":\"HoverTool\"},{\"attributes\":{\"bottom\":{\"field\":\"Close\"},\"fill_color\":{\"field\":\"inc\",\"transform\":{\"id\":\"2217\"}},\"top\":{\"field\":\"Open\"},\"width\":{\"value\":0.8},\"x\":{\"field\":\"index\"}},\"id\":\"2468\",\"type\":\"VBar\"},{\"attributes\":{\"fill_alpha\":{\"value\":0.1},\"fill_color\":{\"field\":\"inc\",\"transform\":{\"id\":\"2217\"}},\"hatch_alpha\":{\"value\":0.1},\"hatch_color\":{\"field\":\"inc\",\"transform\":{\"id\":\"2217\"}},\"line_alpha\":{\"value\":0.1},\"line_color\":{\"field\":\"inc\",\"transform\":{\"id\":\"2217\"}},\"top\":{\"field\":\"Volume\"},\"width\":{\"value\":0.8},\"x\":{\"field\":\"index\"}},\"id\":\"2453\",\"type\":\"VBar\"},{\"attributes\":{\"coordinates\":null,\"formatter\":{\"id\":\"2482\"},\"group\":null,\"major_label_policy\":{\"id\":\"2483\"},\"ticker\":{\"id\":\"2196\"}},\"id\":\"2195\",\"type\":\"LinearAxis\"},{\"attributes\":{},\"id\":\"2482\",\"type\":\"BasicTickFormatter\"},{\"attributes\":{\"callback\":null,\"point_policy\":\"follow_mouse\",\"renderers\":[{\"id\":\"2409\"}],\"tooltips\":[[\"#\",\"@index\"],[\"Size\",\"@size{0,0}\"],[\"P/L\",\"@returns_short{+0.[000]%}\"]]},\"id\":\"2413\",\"type\":\"HoverTool\"},{\"attributes\":{\"dimensions\":\"width\"},\"id\":\"2236\",\"type\":\"PanTool\"},{\"attributes\":{},\"id\":\"2483\",\"type\":\"AllLabels\"},{\"attributes\":{\"coordinates\":null,\"data_source\":{\"id\":\"2215\"},\"glyph\":{\"id\":\"2468\"},\"group\":null,\"hover_glyph\":null,\"muted_glyph\":{\"id\":\"2470\"},\"nonselection_glyph\":{\"id\":\"2469\"},\"view\":{\"id\":\"2472\"}},\"id\":\"2471\",\"type\":\"GlyphRenderer\"},{\"attributes\":{},\"id\":\"2535\",\"type\":\"BasicTickFormatter\"},{\"attributes\":{\"source\":{\"id\":\"2216\"}},\"id\":\"2410\",\"type\":\"CDSView\"},{\"attributes\":{},\"id\":\"2486\",\"type\":\"AllLabels\"},{\"attributes\":{},\"id\":\"2536\",\"type\":\"AllLabels\"},{\"attributes\":{\"fill_alpha\":{\"value\":0.2},\"fill_color\":{\"field\":\"returns_positive\",\"transform\":{\"id\":\"2218\"}},\"hatch_alpha\":{\"value\":0.2},\"line_alpha\":{\"value\":0.2},\"marker\":{\"value\":\"inverted_triangle\"},\"size\":{\"field\":\"marker_size\"},\"x\":{\"field\":\"index\"},\"y\":{\"field\":\"returns_short\"}},\"id\":\"2408\",\"type\":\"Scatter\"},{\"attributes\":{\"coordinates\":null,\"data_source\":{\"id\":\"2216\"},\"glyph\":{\"id\":\"2406\"},\"group\":null,\"hover_glyph\":null,\"muted_glyph\":{\"id\":\"2408\"},\"nonselection_glyph\":{\"id\":\"2407\"},\"view\":{\"id\":\"2410\"}},\"id\":\"2409\",\"type\":\"GlyphRenderer\"},{\"attributes\":{\"label\":{\"value\":\"Final (30%)\"},\"renderers\":[{\"id\":\"2295\"}]},\"id\":\"2313\",\"type\":\"LegendItem\"},{\"attributes\":{\"callback\":null,\"point_policy\":\"follow_mouse\",\"renderers\":[{\"id\":\"2403\"}],\"tooltips\":[[\"#\",\"@index\"],[\"Size\",\"@size{0,0}\"],[\"P/L\",\"@returns_long{+0.[000]%}\"]]},\"id\":\"2411\",\"type\":\"HoverTool\"},{\"attributes\":{\"coordinates\":null,\"formatter\":{\"id\":\"2449\"},\"group\":null,\"major_label_policy\":{\"id\":\"2614\"},\"ticker\":{\"id\":\"2426\"},\"visible\":true},\"id\":\"2425\",\"type\":\"LinearAxis\"},{\"attributes\":{\"axis\":{\"id\":\"2228\"},\"coordinates\":null,\"group\":null,\"ticker\":null},\"id\":\"2231\",\"type\":\"Grid\"},{\"attributes\":{},\"id\":\"2335\",\"type\":\"UnionRenderers\"},{\"attributes\":{\"axis\":{\"id\":\"2232\"},\"coordinates\":null,\"dimension\":1,\"group\":null,\"ticker\":null},\"id\":\"2235\",\"type\":\"Grid\"},{\"attributes\":{\"format\":\"0.[00]%\"},\"id\":\"2415\",\"type\":\"NumeralTickFormatter\"},{\"attributes\":{},\"id\":\"2449\",\"type\":\"BasicTickFormatter\"},{\"attributes\":{\"data\":{\"x\":[221,775]},\"selected\":{\"id\":\"2363\"},\"selection_policy\":{\"id\":\"2362\"}},\"id\":\"2339\",\"type\":\"ColumnDataSource\"},{\"attributes\":{\"axis_label\":\"Equity\",\"coordinates\":null,\"formatter\":{\"id\":\"2267\"},\"group\":null,\"major_label_policy\":{\"id\":\"2278\"},\"minor_tick_line_color\":null,\"ticker\":{\"id\":\"2233\"}},\"id\":\"2232\",\"type\":\"LinearAxis\"},{\"attributes\":{},\"id\":\"2336\",\"type\":\"Selection\"},{\"attributes\":{},\"id\":\"2202\",\"type\":\"UndoTool\"},{\"attributes\":{\"overlay\":{\"id\":\"2206\"}},\"id\":\"2201\",\"type\":\"BoxZoomTool\"},{\"attributes\":{\"fill_alpha\":{\"value\":0.2},\"fill_color\":{\"value\":\"red\"},\"hatch_alpha\":{\"value\":0.2},\"hatch_color\":{\"value\":\"red\"},\"line_alpha\":{\"value\":0.2},\"line_color\":{\"value\":\"red\"},\"size\":{\"value\":8},\"x\":{\"value\":730},\"y\":{\"value\":0.3007446069335942}},\"id\":\"2317\",\"type\":\"Scatter\"},{\"attributes\":{\"line_color\":\"red\",\"line_width\":2,\"x\":{\"field\":\"x\"},\"y\":{\"value\":2.4713366406250006}},\"id\":\"2340\",\"type\":\"Line\"},{\"attributes\":{\"coordinates\":null,\"data_source\":{\"id\":\"2269\"},\"glyph\":{\"id\":\"2270\"},\"group\":null,\"hover_glyph\":null,\"muted_glyph\":{\"id\":\"2272\"},\"nonselection_glyph\":{\"id\":\"2271\"},\"view\":{\"id\":\"2274\"}},\"id\":\"2273\",\"type\":\"GlyphRenderer\"},{\"attributes\":{},\"id\":\"2233\",\"type\":\"BasicTicker\"},{\"attributes\":{},\"id\":\"2226\",\"type\":\"LinearScale\"},{\"attributes\":{\"axis_label\":\"Volume\",\"coordinates\":null,\"formatter\":{\"id\":\"2459\"},\"group\":null,\"major_label_policy\":{\"id\":\"2612\"},\"minor_tick_line_color\":null,\"ticker\":{\"id\":\"2430\"}},\"id\":\"2429\",\"type\":\"LinearAxis\"},{\"attributes\":{},\"id\":\"2203\",\"type\":\"RedoTool\"},{\"attributes\":{\"dimensions\":\"width\",\"maintain_focus\":false},\"id\":\"2434\",\"type\":\"WheelZoomTool\"},{\"attributes\":{},\"id\":\"2285\",\"type\":\"Selection\"},{\"attributes\":{},\"id\":\"2426\",\"type\":\"BasicTicker\"},{\"attributes\":{\"axis\":{\"id\":\"2425\"},\"coordinates\":null,\"group\":null,\"ticker\":null},\"id\":\"2428\",\"type\":\"Grid\"},{\"attributes\":{},\"id\":\"2205\",\"type\":\"SaveTool\"},{\"attributes\":{},\"id\":\"2419\",\"type\":\"DataRange1d\"},{\"attributes\":{},\"id\":\"2284\",\"type\":\"UnionRenderers\"},{\"attributes\":{\"below\":[{\"id\":\"2425\"}],\"center\":[{\"id\":\"2428\"},{\"id\":\"2432\"}],\"height\":90,\"left\":[{\"id\":\"2429\"}],\"min_border_bottom\":6,\"min_border_left\":0,\"min_border_right\":10,\"min_border_top\":3,\"outline_line_color\":\"#666666\",\"renderers\":[{\"id\":\"2455\"}],\"sizing_mode\":\"stretch_width\",\"title\":{\"id\":\"2609\"},\"toolbar\":{\"id\":\"2441\"},\"toolbar_location\":null,\"width\":null,\"x_range\":{\"id\":\"2182\"},\"x_scale\":{\"id\":\"2421\"},\"y_range\":{\"id\":\"2419\"},\"y_scale\":{\"id\":\"2423\"}},\"id\":\"2417\",\"subtype\":\"Figure\",\"type\":\"Plot\"},{\"attributes\":{\"bottom_units\":\"screen\",\"coordinates\":null,\"fill_alpha\":0.5,\"fill_color\":\"lightgrey\",\"group\":null,\"left_units\":\"screen\",\"level\":\"overlay\",\"line_alpha\":1.0,\"line_color\":\"black\",\"line_dash\":[4,4],\"line_width\":2,\"right_units\":\"screen\",\"syncable\":false,\"top_units\":\"screen\"},\"id\":\"2440\",\"type\":\"BoxAnnotation\"},{\"attributes\":{},\"id\":\"2421\",\"type\":\"LinearScale\"},{\"attributes\":{\"callback\":null,\"mode\":\"vline\",\"point_policy\":\"follow_mouse\",\"renderers\":[{\"id\":\"2471\"}],\"tooltips\":[[\"#\",\"@index\"],[\"x, y\",\"$index\\u00a0\\u00a0\\u00a0\\u00a0$y{0,0.0[0000]}\"],[\"OHLC\",\"@Open{0,0.0[0000]}\\u00a0\\u00a0\\u00a0\\u00a0@High{0,0.0[0000]}\\u00a0\\u00a0\\u00a0\\u00a0@Low{0,0.0[0000]}\\u00a0\\u00a0\\u00a0\\u00a0@Close{0,0.0[0000]}\"],[\"Volume\",\"@Volume{0,0}\"]]},\"id\":\"2547\",\"type\":\"HoverTool\"},{\"attributes\":{},\"id\":\"2423\",\"type\":\"LinearScale\"},{\"attributes\":{\"line_color\":\"#1f77b4\",\"line_width\":1.5,\"x\":{\"field\":\"index\"},\"y\":{\"field\":\"equity\"}},\"id\":\"2260\",\"type\":\"Line\"},{\"attributes\":{},\"id\":\"2242\",\"type\":\"SaveTool\"},{\"attributes\":{},\"id\":\"2538\",\"type\":\"BasicTickFormatter\"},{\"attributes\":{\"source\":{\"id\":\"2291\"}},\"id\":\"2296\",\"type\":\"CDSView\"},{\"attributes\":{},\"id\":\"2539\",\"type\":\"AllLabels\"},{\"attributes\":{\"data\":{},\"selected\":{\"id\":\"2311\"},\"selection_policy\":{\"id\":\"2310\"}},\"id\":\"2291\",\"type\":\"ColumnDataSource\"},{\"attributes\":{\"fill_alpha\":{\"value\":0.1},\"fill_color\":{\"value\":\"blue\"},\"hatch_alpha\":{\"value\":0.1},\"hatch_color\":{\"value\":\"blue\"},\"line_alpha\":{\"value\":0.1},\"line_color\":{\"value\":\"blue\"},\"size\":{\"value\":8},\"x\":{\"value\":775},\"y\":{\"value\":0.3007446069335942}},\"id\":\"2293\",\"type\":\"Scatter\"},{\"attributes\":{\"fill_alpha\":{\"value\":0.1},\"fill_color\":{\"value\":\"red\"},\"hatch_alpha\":{\"value\":0.1},\"hatch_color\":{\"value\":\"red\"},\"line_alpha\":{\"value\":0.1},\"line_color\":{\"value\":\"red\"},\"size\":{\"value\":8},\"x\":{\"value\":730},\"y\":{\"value\":0.3007446069335942}},\"id\":\"2316\",\"type\":\"Scatter\"},{\"attributes\":{},\"id\":\"2239\",\"type\":\"UndoTool\"},{\"attributes\":{\"fill_alpha\":{\"value\":0.2},\"fill_color\":{\"value\":\"blue\"},\"hatch_alpha\":{\"value\":0.2},\"hatch_color\":{\"value\":\"blue\"},\"line_alpha\":{\"value\":0.2},\"line_color\":{\"value\":\"blue\"},\"size\":{\"value\":8},\"x\":{\"value\":775},\"y\":{\"value\":0.3007446069335942}},\"id\":\"2294\",\"type\":\"Scatter\"},{\"attributes\":{\"line_color\":{\"field\":\"returns_positive\",\"transform\":{\"id\":\"2219\"}},\"line_dash\":{\"value\":\"dotted\"},\"line_width\":{\"value\":8},\"xs\":{\"field\":\"position_lines_xs\"},\"ys\":{\"field\":\"position_lines_ys\"}},\"id\":\"2474\",\"type\":\"MultiLine\"},{\"attributes\":{\"callback\":null,\"mode\":\"vline\",\"point_policy\":\"follow_mouse\",\"renderers\":[{\"id\":\"2530\"}],\"tooltips\":[[\"#\",\"@index\"],[\"SIGNAL\",\"@{SIGNAL_0_1}{0,0.0[0000]}\"]]},\"id\":\"2545\",\"type\":\"HoverTool\"},{\"attributes\":{},\"id\":\"2283\",\"type\":\"Selection\"},{\"attributes\":{},\"id\":\"2489\",\"type\":\"UnionRenderers\"},{\"attributes\":{\"line_alpha\":0.2,\"line_color\":\"#1f77b4\",\"line_width\":1.3,\"x\":{\"field\":\"index\"},\"y\":{\"field\":\"SIGNAL_0_1\"}},\"id\":\"2529\",\"type\":\"Line\"},{\"attributes\":{\"data\":{},\"selected\":{\"id\":\"2336\"},\"selection_policy\":{\"id\":\"2335\"}},\"id\":\"2314\",\"type\":\"ColumnDataSource\"},{\"attributes\":{\"axis\":{\"id\":\"2191\"},\"coordinates\":null,\"group\":null,\"ticker\":null},\"id\":\"2194\",\"type\":\"Grid\"},{\"attributes\":{},\"id\":\"2192\",\"type\":\"BasicTicker\"},{\"attributes\":{},\"id\":\"2490\",\"type\":\"Selection\"},{\"attributes\":{\"active_drag\":{\"id\":\"2510\"},\"active_scroll\":{\"id\":\"2511\"},\"tools\":[{\"id\":\"2510\"},{\"id\":\"2511\"},{\"id\":\"2512\"},{\"id\":\"2513\"},{\"id\":\"2514\"},{\"id\":\"2515\"},{\"id\":\"2516\"},{\"id\":\"2545\"},{\"id\":\"2550\"}]},\"id\":\"2518\",\"type\":\"Toolbar\"},{\"attributes\":{},\"id\":\"2439\",\"type\":\"SaveTool\"},{\"attributes\":{},\"id\":\"2310\",\"type\":\"UnionRenderers\"},{\"attributes\":{},\"id\":\"2281\",\"type\":\"AllLabels\"},{\"attributes\":{\"line_color\":\"#1f77b4\",\"line_width\":1.3,\"x\":{\"field\":\"index\"},\"y\":{\"field\":\"SIGNAL_0_1\"}},\"id\":\"2527\",\"type\":\"Line\"},{\"attributes\":{},\"id\":\"2282\",\"type\":\"UnionRenderers\"},{\"attributes\":{},\"id\":\"2437\",\"type\":\"RedoTool\"},{\"attributes\":{\"line_alpha\":0.1,\"line_color\":\"#1f77b4\",\"line_width\":1.3,\"x\":{\"field\":\"index\"},\"y\":{\"field\":\"SIGNAL_0_1\"}},\"id\":\"2528\",\"type\":\"Line\"},{\"attributes\":{},\"id\":\"2311\",\"type\":\"Selection\"},{\"attributes\":{\"overlay\":{\"id\":\"2440\"}},\"id\":\"2435\",\"type\":\"BoxZoomTool\"},{\"attributes\":{\"source\":{\"id\":\"2215\"}},\"id\":\"2472\",\"type\":\"CDSView\"},{\"attributes\":{\"dimensions\":\"width\"},\"id\":\"2433\",\"type\":\"PanTool\"},{\"attributes\":{},\"id\":\"2438\",\"type\":\"ResetTool\"},{\"attributes\":{},\"id\":\"2280\",\"type\":\"BasicTickFormatter\"},{\"attributes\":{},\"id\":\"2187\",\"type\":\"LinearScale\"},{\"attributes\":{\"axis\":{\"id\":\"2429\"},\"coordinates\":null,\"dimension\":1,\"group\":null,\"ticker\":null},\"id\":\"2432\",\"type\":\"Grid\"},{\"attributes\":{\"bounds\":[-38.75,813.75],\"end\":775,\"js_property_callbacks\":{\"change:end\":[{\"id\":\"2549\"}]},\"min_interval\":10},\"id\":\"2182\",\"type\":\"Range1d\"},{\"attributes\":{},\"id\":\"2430\",\"type\":\"BasicTicker\"},{\"attributes\":{},\"id\":\"2436\",\"type\":\"UndoTool\"},{\"attributes\":{\"coordinates\":null,\"group\":null},\"id\":\"2609\",\"type\":\"Title\"},{\"attributes\":{\"border_line_color\":\"#333333\",\"click_policy\":\"hide\",\"coordinates\":null,\"group\":null,\"items\":[{\"id\":\"2290\"},{\"id\":\"2313\"},{\"id\":\"2338\"},{\"id\":\"2365\"}],\"label_text_font_size\":\"8pt\",\"location\":\"top_left\",\"margin\":0,\"padding\":5,\"spacing\":0},\"id\":\"2289\",\"type\":\"Legend\"},{\"attributes\":{\"source\":{\"id\":\"2269\"}},\"id\":\"2274\",\"type\":\"CDSView\"},{\"attributes\":{\"fill_color\":{\"field\":\"returns_positive\",\"transform\":{\"id\":\"2218\"}},\"marker\":{\"value\":\"triangle\"},\"size\":{\"field\":\"marker_size\"},\"x\":{\"field\":\"index\"},\"y\":{\"field\":\"returns_long\"}},\"id\":\"2400\",\"type\":\"Scatter\"},{\"attributes\":{\"active_drag\":{\"id\":\"2382\"},\"active_scroll\":{\"id\":\"2383\"},\"tools\":[{\"id\":\"2382\"},{\"id\":\"2383\"},{\"id\":\"2384\"},{\"id\":\"2385\"},{\"id\":\"2386\"},{\"id\":\"2387\"},{\"id\":\"2388\"},{\"id\":\"2411\"},{\"id\":\"2413\"},{\"id\":\"2550\"}]},\"id\":\"2390\",\"type\":\"Toolbar\"},{\"attributes\":{},\"id\":\"2229\",\"type\":\"BasicTicker\"},{\"attributes\":{\"dimensions\":\"width\",\"maintain_focus\":false},\"id\":\"2237\",\"type\":\"WheelZoomTool\"},{\"attributes\":{\"fill_alpha\":{\"value\":0.1},\"fill_color\":{\"value\":\"cyan\"},\"hatch_alpha\":{\"value\":0.1},\"hatch_color\":{\"value\":\"cyan\"},\"line_alpha\":{\"value\":0.1},\"line_color\":{\"value\":\"cyan\"},\"size\":{\"value\":8},\"x\":{\"value\":221},\"y\":{\"value\":2.4713366406250006}},\"id\":\"2271\",\"type\":\"Scatter\"},{\"attributes\":{\"line_alpha\":{\"value\":0.2},\"line_color\":{\"field\":\"returns_positive\",\"transform\":{\"id\":\"2219\"}},\"line_dash\":{\"value\":\"dotted\"},\"line_width\":{\"value\":8},\"xs\":{\"field\":\"position_lines_xs\"},\"ys\":{\"field\":\"position_lines_ys\"}},\"id\":\"2476\",\"type\":\"MultiLine\"},{\"attributes\":{\"active_drag\":{\"id\":\"2236\"},\"active_scroll\":{\"id\":\"2237\"},\"tools\":[{\"id\":\"2236\"},{\"id\":\"2237\"},{\"id\":\"2238\"},{\"id\":\"2239\"},{\"id\":\"2240\"},{\"id\":\"2241\"},{\"id\":\"2242\"},{\"id\":\"2265\"},{\"id\":\"2550\"}]},\"id\":\"2244\",\"type\":\"Toolbar\"},{\"attributes\":{\"fill_alpha\":{\"value\":0.1},\"fill_color\":{\"field\":\"returns_positive\",\"transform\":{\"id\":\"2218\"}},\"hatch_alpha\":{\"value\":0.1},\"line_alpha\":{\"value\":0.1},\"marker\":{\"value\":\"triangle\"},\"size\":{\"field\":\"marker_size\"},\"x\":{\"field\":\"index\"},\"y\":{\"field\":\"returns_long\"}},\"id\":\"2401\",\"type\":\"Scatter\"},{\"attributes\":{},\"id\":\"2222\",\"type\":\"DataRange1d\"},{\"attributes\":{\"source\":{\"id\":\"2216\"}},\"id\":\"2404\",\"type\":\"CDSView\"},{\"attributes\":{},\"id\":\"2196\",\"type\":\"BasicTicker\"},{\"attributes\":{\"fill_alpha\":{\"value\":0.2},\"fill_color\":{\"field\":\"returns_positive\",\"transform\":{\"id\":\"2218\"}},\"hatch_alpha\":{\"value\":0.2},\"line_alpha\":{\"value\":0.2},\"marker\":{\"value\":\"triangle\"},\"size\":{\"field\":\"marker_size\"},\"x\":{\"field\":\"index\"},\"y\":{\"field\":\"returns_long\"}},\"id\":\"2402\",\"type\":\"Scatter\"},{\"attributes\":{\"line_alpha\":{\"value\":0.2},\"x0\":{\"field\":\"index\"},\"x1\":{\"field\":\"index\"},\"y0\":{\"field\":\"High\"},\"y1\":{\"field\":\"Low\"}},\"id\":\"2464\",\"type\":\"Segment\"},{\"attributes\":{},\"id\":\"2286\",\"type\":\"UnionRenderers\"},{\"attributes\":{},\"id\":\"2507\",\"type\":\"BasicTicker\"},{\"attributes\":{\"below\":[{\"id\":\"2374\"}],\"center\":[{\"id\":\"2377\"},{\"id\":\"2381\"},{\"id\":\"2398\"}],\"height\":90,\"left\":[{\"id\":\"2378\"}],\"min_border_bottom\":6,\"min_border_left\":0,\"min_border_right\":10,\"min_border_top\":3,\"outline_line_color\":\"#666666\",\"renderers\":[{\"id\":\"2403\"},{\"id\":\"2409\"}],\"sizing_mode\":\"stretch_width\",\"title\":{\"id\":\"2582\"},\"toolbar\":{\"id\":\"2390\"},\"toolbar_location\":null,\"width\":null,\"x_range\":{\"id\":\"2182\"},\"x_scale\":{\"id\":\"2370\"},\"y_range\":{\"id\":\"2368\"},\"y_scale\":{\"id\":\"2372\"}},\"id\":\"2366\",\"subtype\":\"Figure\",\"type\":\"Plot\"},{\"attributes\":{\"callback\":null,\"mode\":\"vline\",\"point_policy\":\"follow_mouse\",\"renderers\":[{\"id\":\"2455\"}],\"tooltips\":[[\"#\",\"@index\"],[\"Volume\",\"@Volume{0.00 a}\"]]},\"id\":\"2457\",\"type\":\"HoverTool\"},{\"attributes\":{\"label\":{\"value\":\"SIGNAL\"},\"renderers\":[{\"id\":\"2530\"}]},\"id\":\"2544\",\"type\":\"LegendItem\"},{\"attributes\":{\"factors\":[\"0\",\"1\"],\"palette\":[\"tomato\",\"lime\"]},\"id\":\"2217\",\"type\":\"CategoricalColorMapper\"},{\"attributes\":{\"coordinates\":null,\"data_source\":{\"id\":\"2339\"},\"glyph\":{\"id\":\"2340\"},\"group\":null,\"hover_glyph\":null,\"muted_glyph\":{\"id\":\"2342\"},\"nonselection_glyph\":{\"id\":\"2341\"},\"view\":{\"id\":\"2344\"}},\"id\":\"2343\",\"type\":\"GlyphRenderer\"},{\"attributes\":{},\"id\":\"2612\",\"type\":\"AllLabels\"},{\"attributes\":{\"line_alpha\":0.1,\"line_color\":\"red\",\"line_width\":2,\"x\":{\"field\":\"x\"},\"y\":{\"value\":2.4713366406250006}},\"id\":\"2341\",\"type\":\"Line\"},{\"attributes\":{},\"id\":\"2241\",\"type\":\"ResetTool\"},{\"attributes\":{\"source\":{\"id\":\"2339\"}},\"id\":\"2344\",\"type\":\"CDSView\"},{\"attributes\":{\"label\":{\"value\":\"Max Dd Dur. (554)\"},\"renderers\":[{\"id\":\"2343\"}]},\"id\":\"2365\",\"type\":\"LegendItem\"},{\"attributes\":{\"line_alpha\":0.2,\"line_color\":\"red\",\"line_width\":2,\"x\":{\"field\":\"x\"},\"y\":{\"value\":2.4713366406250006}},\"id\":\"2342\",\"type\":\"Line\"},{\"attributes\":{\"source\":{\"id\":\"2215\"}},\"id\":\"2456\",\"type\":\"CDSView\"}],\"root_ids\":[\"2634\"]},\"title\":\"Bokeh Application\",\"version\":\"2.4.3\"}};\n",
       "  const render_items = [{\"docid\":\"64862b2c-c3ce-4881-8a5a-8f802cb431a2\",\"root_ids\":[\"2634\"],\"roots\":{\"2634\":\"a826510d-0326-42ef-827f-db8843083c99\"}}];\n",
       "  root.Bokeh.embed.embed_items_notebook(docs_json, render_items);\n",
       "  }\n",
       "  if (root.Bokeh !== undefined) {\n",
       "    embed_document(root);\n",
       "  } else {\n",
       "    let attempts = 0;\n",
       "    const timer = setInterval(function(root) {\n",
       "      if (root.Bokeh !== undefined) {\n",
       "        clearInterval(timer);\n",
       "        embed_document(root);\n",
       "      } else {\n",
       "        attempts++;\n",
       "        if (attempts > 100) {\n",
       "          clearInterval(timer);\n",
       "          console.log(\"Bokeh: ERROR: Unable to run BokehJS code because BokehJS library is missing\");\n",
       "        }\n",
       "      }\n",
       "    }, 10, root)\n",
       "  }\n",
       "})(window);"
      ],
      "application/vnd.bokehjs_exec.v0+json": ""
     },
     "metadata": {
      "application/vnd.bokehjs_exec.v0+json": {
       "id": "2634"
      }
     },
     "output_type": "display_data"
    },
    {
     "data": {
      "text/html": [
       "<div style=\"display: table;\"><div style=\"display: table-row;\"><div style=\"display: table-cell;\"><b title=\"bokeh.models.layouts.Row\">Row</b>(</div><div style=\"display: table-cell;\">id&nbsp;=&nbsp;'2634', <span id=\"2966\" style=\"cursor: pointer;\">&hellip;)</span></div></div><div class=\"2965\" style=\"display: none;\"><div style=\"display: table-cell;\"></div><div style=\"display: table-cell;\">align&nbsp;=&nbsp;'start',</div></div><div class=\"2965\" style=\"display: none;\"><div style=\"display: table-cell;\"></div><div style=\"display: table-cell;\">aspect_ratio&nbsp;=&nbsp;None,</div></div><div class=\"2965\" style=\"display: none;\"><div style=\"display: table-cell;\"></div><div style=\"display: table-cell;\">background&nbsp;=&nbsp;None,</div></div><div class=\"2965\" style=\"display: none;\"><div style=\"display: table-cell;\"></div><div style=\"display: table-cell;\">children&nbsp;=&nbsp;[GridBox(id='2631', ...), ToolbarBox(id='2633', ...)],</div></div><div class=\"2965\" style=\"display: none;\"><div style=\"display: table-cell;\"></div><div style=\"display: table-cell;\">cols&nbsp;=&nbsp;'auto',</div></div><div class=\"2965\" style=\"display: none;\"><div style=\"display: table-cell;\"></div><div style=\"display: table-cell;\">css_classes&nbsp;=&nbsp;[],</div></div><div class=\"2965\" style=\"display: none;\"><div style=\"display: table-cell;\"></div><div style=\"display: table-cell;\">disabled&nbsp;=&nbsp;False,</div></div><div class=\"2965\" style=\"display: none;\"><div style=\"display: table-cell;\"></div><div style=\"display: table-cell;\">height&nbsp;=&nbsp;None,</div></div><div class=\"2965\" style=\"display: none;\"><div style=\"display: table-cell;\"></div><div style=\"display: table-cell;\">height_policy&nbsp;=&nbsp;'auto',</div></div><div class=\"2965\" style=\"display: none;\"><div style=\"display: table-cell;\"></div><div style=\"display: table-cell;\">js_event_callbacks&nbsp;=&nbsp;{},</div></div><div class=\"2965\" style=\"display: none;\"><div style=\"display: table-cell;\"></div><div style=\"display: table-cell;\">js_property_callbacks&nbsp;=&nbsp;{},</div></div><div class=\"2965\" style=\"display: none;\"><div style=\"display: table-cell;\"></div><div style=\"display: table-cell;\">margin&nbsp;=&nbsp;(0, 0, 0, 0),</div></div><div class=\"2965\" style=\"display: none;\"><div style=\"display: table-cell;\"></div><div style=\"display: table-cell;\">max_height&nbsp;=&nbsp;None,</div></div><div class=\"2965\" style=\"display: none;\"><div style=\"display: table-cell;\"></div><div style=\"display: table-cell;\">max_width&nbsp;=&nbsp;None,</div></div><div class=\"2965\" style=\"display: none;\"><div style=\"display: table-cell;\"></div><div style=\"display: table-cell;\">min_height&nbsp;=&nbsp;None,</div></div><div class=\"2965\" style=\"display: none;\"><div style=\"display: table-cell;\"></div><div style=\"display: table-cell;\">min_width&nbsp;=&nbsp;None,</div></div><div class=\"2965\" style=\"display: none;\"><div style=\"display: table-cell;\"></div><div style=\"display: table-cell;\">name&nbsp;=&nbsp;None,</div></div><div class=\"2965\" style=\"display: none;\"><div style=\"display: table-cell;\"></div><div style=\"display: table-cell;\">sizing_mode&nbsp;=&nbsp;'stretch_width',</div></div><div class=\"2965\" style=\"display: none;\"><div style=\"display: table-cell;\"></div><div style=\"display: table-cell;\">spacing&nbsp;=&nbsp;0,</div></div><div class=\"2965\" style=\"display: none;\"><div style=\"display: table-cell;\"></div><div style=\"display: table-cell;\">subscribed_events&nbsp;=&nbsp;[],</div></div><div class=\"2965\" style=\"display: none;\"><div style=\"display: table-cell;\"></div><div style=\"display: table-cell;\">syncable&nbsp;=&nbsp;True,</div></div><div class=\"2965\" style=\"display: none;\"><div style=\"display: table-cell;\"></div><div style=\"display: table-cell;\">tags&nbsp;=&nbsp;[],</div></div><div class=\"2965\" style=\"display: none;\"><div style=\"display: table-cell;\"></div><div style=\"display: table-cell;\">visible&nbsp;=&nbsp;True,</div></div><div class=\"2965\" style=\"display: none;\"><div style=\"display: table-cell;\"></div><div style=\"display: table-cell;\">width&nbsp;=&nbsp;None,</div></div><div class=\"2965\" style=\"display: none;\"><div style=\"display: table-cell;\"></div><div style=\"display: table-cell;\">width_policy&nbsp;=&nbsp;'auto')</div></div></div>\n",
       "<script>\n",
       "(function() {\n",
       "  let expanded = false;\n",
       "  const ellipsis = document.getElementById(\"2966\");\n",
       "  ellipsis.addEventListener(\"click\", function() {\n",
       "    const rows = document.getElementsByClassName(\"2965\");\n",
       "    for (let i = 0; i < rows.length; i++) {\n",
       "      const el = rows[i];\n",
       "      el.style.display = expanded ? \"none\" : \"table-row\";\n",
       "    }\n",
       "    ellipsis.innerHTML = expanded ? \"&hellip;)\" : \"&lsaquo;&lsaquo;&lsaquo;\";\n",
       "    expanded = !expanded;\n",
       "  });\n",
       "})();\n",
       "</script>\n"
      ],
      "text/plain": [
       "Row(id='2634', ...)"
      ]
     },
     "execution_count": 64,
     "metadata": {},
     "output_type": "execute_result"
    }
   ],
   "source": [
    "bt.plot()"
   ]
  }
 ],
 "metadata": {
  "kernelspec": {
   "display_name": "Python 3 (ipykernel)",
   "language": "python",
   "name": "python3"
  },
  "language_info": {
   "codemirror_mode": {
    "name": "ipython",
    "version": 3
   },
   "file_extension": ".py",
   "mimetype": "text/x-python",
   "name": "python",
   "nbconvert_exporter": "python",
   "pygments_lexer": "ipython3",
   "version": "3.10.6"
  },
  "vscode": {
   "interpreter": {
    "hash": "b0fa6594d8f4cbf19f97940f81e996739fb7646882a419484c72d19e05852a7e"
   }
  }
 },
 "nbformat": 4,
 "nbformat_minor": 5
}
