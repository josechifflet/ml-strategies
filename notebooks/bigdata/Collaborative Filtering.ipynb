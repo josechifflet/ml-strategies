{
 "cells": [
  {
   "cell_type": "code",
   "execution_count": 1,
   "metadata": {},
   "outputs": [],
   "source": [
    "from pyspark.context import SparkContext\n",
    "\n",
    "sc = SparkContext('local', 'test')\n",
    "\n",
    "from pyspark.sql import SQLContext\n",
    "\n",
    "spark = SQLContext(sc)\n",
    "\n"
   ]
  },
  {
   "cell_type": "code",
   "execution_count": 20,
   "metadata": {},
   "outputs": [],
   "source": [
    "df_train = spark.read.csv(\"movies_small.csv\", header=True, inferSchema=True)"
   ]
  },
  {
   "cell_type": "code",
   "execution_count": 35,
   "metadata": {},
   "outputs": [
    {
     "name": "stdout",
     "output_type": "stream",
     "text": [
      "+-----+------+-------+------+----------+--------------------+--------------------+\n",
      "|  _c0|userId|movieId|rating| timestamp|               title|              genres|\n",
      "+-----+------+-------+------+----------+--------------------+--------------------+\n",
      "| 1626|   132|    260|   2.0|1157920586|Star Wars: Episod...|Action|Adventure|...|\n",
      "| 1647|   198|    260|   5.0|1034137711|Star Wars: Episod...|Action|Adventure|...|\n",
      "| 1655|   212|    260|   2.5|1505400094|Star Wars: Episod...|Action|Adventure|...|\n",
      "| 1667|   234|    260|   5.0|1004407958|Star Wars: Episod...|Action|Adventure|...|\n",
      "| 1684|   279|    260|   5.0|1506394310|Star Wars: Episod...|Action|Adventure|...|\n",
      "| 1688|   292|    260|   4.0|1039914974|Star Wars: Episod...|Action|Adventure|...|\n",
      "| 1695|   307|    260|   3.5|1186160883|Star Wars: Episod...|Action|Adventure|...|\n",
      "| 1738|   414|    260|   5.0| 961514667|Star Wars: Episod...|Action|Adventure|...|\n",
      "| 1751|   448|    260|   5.0|1019124071|Star Wars: Episod...|Action|Adventure|...|\n",
      "| 1767|   480|    260|   4.5|1179160262|Star Wars: Episod...|Action|Adventure|...|\n",
      "| 1777|   514|    260|   5.0|1533871727|Star Wars: Episod...|Action|Adventure|...|\n",
      "| 1792|   555|    260|   5.0| 978841221|Star Wars: Episod...|Action|Adventure|...|\n",
      "| 1800|   573|    260|   5.0|1186589669|Star Wars: Episod...|Action|Adventure|...|\n",
      "| 1810|   599|    260|   5.0|1498533468|Star Wars: Episod...|Action|Adventure|...|\n",
      "| 1813|   603|    260|   4.0| 953926816|Star Wars: Episod...|Action|Adventure|...|\n",
      "| 2171|   198|    316|   5.0|1034135137|     Stargate (1994)|Action|Adventure|...|\n",
      "| 2215|   414|    316|   3.0| 961515271|     Stargate (1994)|Action|Adventure|...|\n",
      "| 2221|   446|    316|   4.0| 843839191|     Stargate (1994)|Action|Adventure|...|\n",
      "| 2223|   448|    316|   3.0|1028110820|     Stargate (1994)|Action|Adventure|...|\n",
      "| 2232|   480|    316|   4.0|1179177651|     Stargate (1994)|Action|Adventure|...|\n",
      "| 2245|   555|    316|   4.0| 978841730|     Stargate (1994)|Action|Adventure|...|\n",
      "| 2252|   573|    316|   4.0|1186722532|     Stargate (1994)|Action|Adventure|...|\n",
      "| 2261|   599|    316|   3.0|1498521582|     Stargate (1994)|Action|Adventure|...|\n",
      "| 7594|   101|   1210|   4.0| 968440698|Star Wars: Episod...|Action|Adventure|...|\n",
      "| 7603|   132|   1210|   2.0|1157921254|Star Wars: Episod...|Action|Adventure|...|\n",
      "| 7622|   198|   1210|   5.0|1034136682|Star Wars: Episod...|Action|Adventure|...|\n",
      "| 7630|   212|   1210|   3.5|1523216796|Star Wars: Episod...|Action|Adventure|...|\n",
      "| 7637|   234|   1210|   5.0|1004408002|Star Wars: Episod...|Action|Adventure|...|\n",
      "| 7655|   279|   1210|   4.5|1506394308|Star Wars: Episod...|Action|Adventure|...|\n",
      "| 7658|   292|   1210|   4.0|1039914974|Star Wars: Episod...|Action|Adventure|...|\n",
      "| 7664|   307|   1210|   3.0|1186411468|Star Wars: Episod...|Action|Adventure|...|\n",
      "| 7692|   414|   1210|   5.0| 961436248|Star Wars: Episod...|Action|Adventure|...|\n",
      "| 7700|   448|   1210|   5.0|1019123866|Star Wars: Episod...|Action|Adventure|...|\n",
      "| 7711|   480|   1210|   3.5|1179177713|Star Wars: Episod...|Action|Adventure|...|\n",
      "| 7716|   514|   1210|   4.0|1533872364|Star Wars: Episod...|Action|Adventure|...|\n",
      "| 7727|   555|   1210|   5.0| 978821670|Star Wars: Episod...|Action|Adventure|...|\n",
      "| 7735|   573|   1210|   5.0|1186589710|Star Wars: Episod...|Action|Adventure|...|\n",
      "| 7745|   599|   1210|   5.0|1498533608|Star Wars: Episod...|Action|Adventure|...|\n",
      "| 7747|   603|   1210|   3.0| 953927884|Star Wars: Episod...|Action|Adventure|...|\n",
      "| 9048|   414|   1282|   5.0|1025108900|     Fantasia (1940)|Animation|Childre...|\n",
      "| 9050|   480|   1282|   3.5|1182448353|     Fantasia (1940)|Animation|Childre...|\n",
      "| 9061|   599|   1282|   4.0|1498498952|     Fantasia (1940)|Animation|Childre...|\n",
      "|11034|   234|   2054|   4.0|1004409156|Honey, I Shrunk t...|Adventure|Childre...|\n",
      "|11040|   307|   2054|   1.5|1186161644|Honey, I Shrunk t...|Adventure|Childre...|\n",
      "|11047|   414|   2054|   3.0| 961515297|Honey, I Shrunk t...|Adventure|Childre...|\n",
      "|11052|   448|   2054|   4.0|1019125435|Honey, I Shrunk t...|Adventure|Childre...|\n",
      "|11058|   480|   2054|   2.0|1179178215|Honey, I Shrunk t...|Adventure|Childre...|\n",
      "|11066|   555|   2054|   3.0| 978822826|Honey, I Shrunk t...|Adventure|Childre...|\n",
      "|11070|   599|   2054|   3.0|1498524093|Honey, I Shrunk t...|Adventure|Childre...|\n",
      "|13866|    67|   2858|   4.0|1501273550|American Beauty (...|       Drama|Romance|\n",
      "|13876|   101|   2858|   4.0| 968440828|American Beauty (...|       Drama|Romance|\n",
      "|13887|   132|   2858|   4.5|1157922636|American Beauty (...|       Drama|Romance|\n",
      "|13906|   198|   2858|   5.0|1034136008|American Beauty (...|       Drama|Romance|\n",
      "|13915|   212|   2858|   3.5|1490114770|American Beauty (...|       Drama|Romance|\n",
      "|13940|   279|   2858|   3.5|1506394165|American Beauty (...|       Drama|Romance|\n",
      "|13950|   307|   2858|   4.0|1186084840|American Beauty (...|       Drama|Romance|\n",
      "|13985|   414|   2858|   5.0| 961436469|American Beauty (...|       Drama|Romance|\n",
      "|13999|   448|   2858|   4.0|1043776610|American Beauty (...|       Drama|Romance|\n",
      "|14011|   480|   2858|   4.0|1179160061|American Beauty (...|       Drama|Romance|\n",
      "|14019|   514|   2858|   4.0|1533953776|American Beauty (...|       Drama|Romance|\n",
      "|14034|   555|   2858|   5.0| 978744284|American Beauty (...|       Drama|Romance|\n",
      "|14039|   573|   2858|   2.0|1186590377|American Beauty (...|       Drama|Romance|\n",
      "|14046|   599|   2858|   5.0|1498533774|American Beauty (...|       Drama|Romance|\n",
      "|14048|   603|   2858|   5.0| 953925031|American Beauty (...|       Drama|Romance|\n",
      "|18249|   132|    914|   3.0|1157923450| My Fair Lady (1964)|Comedy|Drama|Musi...|\n",
      "|18255|   292|    914|   2.0|1357062188| My Fair Lady (1964)|Comedy|Drama|Musi...|\n",
      "|18272|   603|    914|   5.0| 954482383| My Fair Lady (1964)|Comedy|Drama|Musi...|\n",
      "|19650|   198|    368|   4.0|1034207438|     Maverick (1994)|Adventure|Comedy|...|\n",
      "|19671|   414|    368|   4.0| 961438688|     Maverick (1994)|Adventure|Comedy|...|\n",
      "|19674|   446|    368|   3.0| 843839504|     Maverick (1994)|Adventure|Comedy|...|\n",
      "|19698|   599|    368|   2.5|1498514705|     Maverick (1994)|Adventure|Comedy|...|\n",
      "|22098|   234|   1907|   5.0|1004409394|        Mulan (1998)|Adventure|Animati...|\n",
      "|22101|   292|   1907|   3.5|1293562953|        Mulan (1998)|Adventure|Animati...|\n",
      "|22111|   414|   1907|   4.0|1039532289|        Mulan (1998)|Adventure|Animati...|\n",
      "|22443|   414|   2019|   5.0|1519593885|Seven Samurai (Sh...|Action|Adventure|...|\n",
      "|22444|   448|   2019|   5.0|1019132771|Seven Samurai (Sh...|Action|Adventure|...|\n",
      "|22453|   599|   2019|   4.0|1498498925|Seven Samurai (Sh...|Action|Adventure|...|\n",
      "|22455|   603|   2019|   5.0| 953926481|Seven Samurai (Sh...|Action|Adventure|...|\n",
      "|26520|   132|    410|   3.0|1157967526|Addams Family Val...|Children|Comedy|F...|\n",
      "|26544|   307|    410|   3.0|1186084482|Addams Family Val...|Children|Comedy|F...|\n",
      "|26562|   448|    410|   4.0|1019128484|Addams Family Val...|Children|Comedy|F...|\n",
      "|26566|   480|    410|   3.5|1179178395|Addams Family Val...|Children|Comedy|F...|\n",
      "|26572|   555|    410|   4.0| 978747041|Addams Family Val...|Children|Comedy|F...|\n",
      "|26577|   599|    410|   2.5|1498516121|Addams Family Val...|Children|Comedy|F...|\n",
      "|27352|   414|      7|   3.0| 961439170|      Sabrina (1995)|      Comedy|Romance|\n",
      "|27367|   599|      7|   2.5|1498514161|      Sabrina (1995)|      Comedy|Romance|\n",
      "|27437|   292|     10|   3.5|1219625069|    GoldenEye (1995)|Action|Adventure|...|\n",
      "|27441|   307|     10|   2.5|1186161010|    GoldenEye (1995)|Action|Adventure|...|\n",
      "|27464|   414|     10|   3.0| 961515863|    GoldenEye (1995)|Action|Adventure|...|\n",
      "|27470|   446|     10|   3.0| 843839232|    GoldenEye (1995)|Action|Adventure|...|\n",
      "|27472|   448|     10|   4.0|1019124400|    GoldenEye (1995)|Action|Adventure|...|\n",
      "|27480|   480|     10|   4.0|1179177922|    GoldenEye (1995)|Action|Adventure|...|\n",
      "|27499|   573|     10|   4.5|1186722464|    GoldenEye (1995)|Action|Adventure|...|\n",
      "|27506|   599|     10|   3.5|1498500281|    GoldenEye (1995)|Action|Adventure|...|\n",
      "|28175|   234|     65|   3.0|1001975877|     Bio-Dome (1996)|              Comedy|\n",
      "|28179|   307|     65|   2.5|1186086548|     Bio-Dome (1996)|              Comedy|\n",
      "|28183|   414|     65|   2.0| 961439623|     Bio-Dome (1996)|              Comedy|\n",
      "|28184|   448|     65|   1.0|1028111080|     Bio-Dome (1996)|              Comedy|\n",
      "|28189|   555|     65|   3.0| 980125946|     Bio-Dome (1996)|              Comedy|\n",
      "|28190|   599|     65|   2.0|1498511235|     Bio-Dome (1996)|              Comedy|\n",
      "+-----+------+-------+------+----------+--------------------+--------------------+\n",
      "only showing top 100 rows\n",
      "\n"
     ]
    }
   ],
   "source": [
    "df_train.show(100)"
   ]
  },
  {
   "cell_type": "code",
   "execution_count": 22,
   "metadata": {},
   "outputs": [
    {
     "data": {
      "text/plain": [
       "StructType(List(StructField(_c0,IntegerType,true),StructField(userId,IntegerType,true),StructField(movieId,IntegerType,true),StructField(rating,DoubleType,true),StructField(timestamp,IntegerType,true),StructField(title,StringType,true),StructField(genres,StringType,true)))"
      ]
     },
     "execution_count": 22,
     "metadata": {},
     "output_type": "execute_result"
    }
   ],
   "source": [
    "df_train.schema"
   ]
  },
  {
   "cell_type": "code",
   "execution_count": 23,
   "metadata": {},
   "outputs": [
    {
     "data": {
      "text/plain": [
       "8"
      ]
     },
     "execution_count": 23,
     "metadata": {},
     "output_type": "execute_result"
    }
   ],
   "source": [
    "# cuantas películas vio el usuario 132\n",
    "from pyspark.sql import functions as F\n",
    "\n",
    "df_train.where(F.col(\"userId\") == 132).count()"
   ]
  },
  {
   "cell_type": "code",
   "execution_count": 24,
   "metadata": {},
   "outputs": [
    {
     "name": "stdout",
     "output_type": "stream",
     "text": [
      "+-----------+\n",
      "|avg(rating)|\n",
      "+-----------+\n",
      "|      2.625|\n",
      "+-----------+\n",
      "\n"
     ]
    }
   ],
   "source": [
    "# rating promedio del usuario 132\n",
    "df_train.where(F.col(\"userId\") == 132).select(F.mean(F.col(\"rating\"))).show()"
   ]
  },
  {
   "cell_type": "code",
   "execution_count": 34,
   "metadata": {},
   "outputs": [
    {
     "name": "stdout",
     "output_type": "stream",
     "text": [
      "+-----+------+-------+------+----------+--------------------+--------------------+\n",
      "|  _c0|userId|movieId|rating| timestamp|               title|              genres|\n",
      "+-----+------+-------+------+----------+--------------------+--------------------+\n",
      "| 1626|   132|    260|   2.0|1157920586|Star Wars: Episod...|Action|Adventure|...|\n",
      "| 7603|   132|   1210|   2.0|1157921254|Star Wars: Episod...|Action|Adventure|...|\n",
      "|13887|   132|   2858|   4.5|1157922636|American Beauty (...|       Drama|Romance|\n",
      "|18249|   132|    914|   3.0|1157923450| My Fair Lady (1964)|Comedy|Drama|Musi...|\n",
      "|26520|   132|    410|   3.0|1157967526|Addams Family Val...|Children|Comedy|F...|\n",
      "|31294|   132|    355|   2.0|1157923325|Flintstones, The ...|Children|Comedy|F...|\n",
      "|34453|   132|   1784|   2.5|1157921506|As Good as It Get...|Comedy|Drama|Romance|\n",
      "|58274|   132|    788|   2.0|1157922765|Nutty Professor, ...|Comedy|Fantasy|Ro...|\n",
      "+-----+------+-------+------+----------+--------------------+--------------------+\n",
      "\n"
     ]
    }
   ],
   "source": [
    "df_train.where(F.col(\"userId\") == 132).show()"
   ]
  },
  {
   "cell_type": "code",
   "execution_count": 26,
   "metadata": {},
   "outputs": [],
   "source": [
    "# ¿Cuántas películas en común vieron los usuarios 573 y 198?\n",
    "\n",
    "df_train.createOrReplaceTempView(\"movies\")"
   ]
  },
  {
   "cell_type": "code",
   "execution_count": 27,
   "metadata": {},
   "outputs": [
    {
     "name": "stdout",
     "output_type": "stream",
     "text": [
      "+-------+----------------------+\n",
      "|movieId|count(DISTINCT userId)|\n",
      "+-------+----------------------+\n",
      "|   1210|                     2|\n",
      "|    316|                     2|\n",
      "|   4011|                     2|\n",
      "|   2858|                     2|\n",
      "|    260|                     2|\n",
      "+-------+----------------------+\n",
      "\n"
     ]
    }
   ],
   "source": [
    "spark.sql(\"\"\"\n",
    "select movieId,count(distinct userId) from movies where userId='573' or userId='198'\n",
    "group by movieId\n",
    "having count(distinct userId)>1\n",
    "\"\"\"\n",
    ").show()"
   ]
  },
  {
   "cell_type": "code",
   "execution_count": 28,
   "metadata": {},
   "outputs": [
    {
     "name": "stdout",
     "output_type": "stream",
     "text": [
      "+-------+------+------+\n",
      "|movieId|userId|rating|\n",
      "+-------+------+------+\n",
      "|    260|   198|   5.0|\n",
      "|    260|   573|   5.0|\n",
      "|    316|   198|   5.0|\n",
      "|    316|   573|   4.0|\n",
      "|   1210|   198|   5.0|\n",
      "|   1210|   573|   5.0|\n",
      "|   2858|   198|   5.0|\n",
      "|   2858|   573|   2.0|\n",
      "|   4011|   198|   3.0|\n",
      "|   4011|   573|   4.5|\n",
      "+-------+------+------+\n",
      "\n"
     ]
    }
   ],
   "source": [
    "spark.sql(\"\"\"\n",
    "select movieId,userId,rating from movies where movieId in ('1210','4011','2858','316','260')\n",
    "and (userId='573' or userId='198') \n",
    "\"\"\"\n",
    ").show()"
   ]
  },
  {
   "cell_type": "code",
   "execution_count": null,
   "metadata": {},
   "outputs": [],
   "source": [
    "+-------+------+-------+--------+\n",
    "|movieId|userId|rating1|rating2 |\n",
    "+-------+------+-------+--------+\n",
    "|    260|   198|   5.0 | 5.0    |\n",
    "|    316|   198|   5.0 | 4.0    |\n",
    "|   1210|   198|   5.0 | 5.0    |\n",
    "|   2858|   198|   5.0 | 2.0    |\n",
    "|   4011|   198|   3.0 | 4.5    |\n",
    "+-------+------+------+---------+"
   ]
  },
  {
   "cell_type": "code",
   "execution_count": 29,
   "metadata": {},
   "outputs": [
    {
     "name": "stdout",
     "output_type": "stream",
     "text": [
      "+---------+--------+-------+----------+-----------+\n",
      "|base_user|sim_user|movieId|sim_rating|base_rating|\n",
      "+---------+--------+-------+----------+-----------+\n",
      "|      573|     198|    260|       5.0|        5.0|\n",
      "|      573|     198|    316|       5.0|        4.0|\n",
      "|      573|     198|   1210|       5.0|        5.0|\n",
      "|      573|     198|   2858|       5.0|        2.0|\n",
      "|      573|     198|   4011|       3.0|        4.5|\n",
      "+---------+--------+-------+----------+-----------+\n",
      "\n"
     ]
    }
   ],
   "source": [
    "spark.sql(\"\"\"\n",
    "select m1.userId as base_user,m2.userId as sim_user,m1.movieId,m2.rating as sim_rating,m1.rating base_rating from movies m1 \n",
    "join movies m2 on (m1.movieId=m2.movieId) \n",
    "where m1.userId='573'and m2.userId='198'\n",
    "\"\"\"\n",
    ").show()"
   ]
  },
  {
   "cell_type": "code",
   "execution_count": 30,
   "metadata": {},
   "outputs": [
    {
     "name": "stdout",
     "output_type": "stream",
     "text": [
      "+---------+--------+-------+----------+-----------+\n",
      "|base_user|sim_user|movieId|sim_rating|base_rating|\n",
      "+---------+--------+-------+----------+-----------+\n",
      "|      573|     132|    260|       2.0|        5.0|\n",
      "|      573|     132|   1210|       2.0|        5.0|\n",
      "|      573|     132|   2858|       4.5|        2.0|\n",
      "|      573|     132|    788|       2.0|        4.5|\n",
      "+---------+--------+-------+----------+-----------+\n",
      "\n"
     ]
    }
   ],
   "source": [
    "spark.sql(\"\"\"\n",
    "select m1.userId as base_user,m2.userId as sim_user,m1.movieId,m2.rating as sim_rating,m1.rating base_rating from movies m1 \n",
    "join movies m2 on (m1.movieId=m2.movieId) \n",
    "where m1.userId='573'and m2.userId='132'\n",
    "\"\"\"\n",
    ").show()"
   ]
  },
  {
   "cell_type": "code",
   "execution_count": 38,
   "metadata": {},
   "outputs": [],
   "source": [
    "sim_df = spark.sql(\"\"\"\n",
    "select m1.userId as base_user,m2.userId as sim_user,m1.movieId,m2.rating as sim_rating,m1.rating base_rating from movies m1 \n",
    "join movies m2 on (m1.movieId=m2.movieId) \n",
    "where m1.userId='573'and m2.userId='573'\n",
    "\"\"\"\n",
    ")\n"
   ]
  },
  {
   "cell_type": "code",
   "execution_count": 39,
   "metadata": {},
   "outputs": [
    {
     "data": {
      "text/plain": [
       "<AxesSubplot:xlabel='base_rating', ylabel='sim_rating'>"
      ]
     },
     "execution_count": 39,
     "metadata": {},
     "output_type": "execute_result"
    },
    {
     "data": {
      "image/png": "[encoded data removed]",
      "text/plain": [
       "<Figure size 432x288 with 1 Axes>"
      ]
     },
     "metadata": {
      "needs_background": "light"
     },
     "output_type": "display_data"
    }
   ],
   "source": [
    "sim_df.toPandas()[['base_rating','sim_rating']].plot(kind='scatter', x='base_rating', y='sim_rating') "
   ]
  },
  {
   "cell_type": "code",
   "execution_count": 47,
   "metadata": {},
   "outputs": [
    {
     "name": "stdout",
     "output_type": "stream",
     "text": [
      "+---------+--------+-------+----------+-----------+-------+\n",
      "|base_user|sim_user|movieId|sim_rating|base_rating|diff_sq|\n",
      "+---------+--------+-------+----------+-----------+-------+\n",
      "|      599|     448|    260|       5.0|        5.0|    0.0|\n",
      "|      599|     448|    316|       3.0|        3.0|    0.0|\n",
      "|      599|     448|   1210|       5.0|        5.0|    0.0|\n",
      "|      599|     448|   2054|       4.0|        3.0|    1.0|\n",
      "|      599|     448|   2858|       4.0|        5.0|    1.0|\n",
      "|      599|     448|   2019|       5.0|        4.0|    1.0|\n",
      "|      599|     448|    410|       4.0|        2.5|   2.25|\n",
      "|      599|     448|     10|       4.0|        3.5|   0.25|\n",
      "|      599|     448|     65|       1.0|        2.0|    1.0|\n",
      "|      599|     448|    355|       2.0|        1.0|    1.0|\n",
      "|      599|     448|   1101|       2.5|        2.5|    0.0|\n",
      "|      599|     448|   1784|       4.0|        3.5|   0.25|\n",
      "|      599|     448|   5989|       4.0|        3.0|    1.0|\n",
      "|      599|     448|  72998|       3.0|        2.5|   0.25|\n",
      "|      599|     448|   1370|       3.0|        2.5|   0.25|\n",
      "|      599|     448|   1608|       3.0|        2.5|   0.25|\n",
      "|      599|     448|   2694|       4.0|        2.5|   2.25|\n",
      "|      599|     448|   4011|       4.0|        3.0|    1.0|\n",
      "|      599|     448|   3039|       4.0|        3.0|    1.0|\n",
      "|      599|     448|  91542|       2.5|        3.0|   0.25|\n",
      "+---------+--------+-------+----------+-----------+-------+\n",
      "only showing top 20 rows\n",
      "\n"
     ]
    }
   ],
   "source": [
    "sim_df = spark.sql(\"\"\"\n",
    "select m1.userId as base_user,m2.userId as sim_user,m1.movieId,m2.rating as sim_rating,m1.rating base_rating,pow((m1.rating-m2.rating),2) diff_sq from movies m1 \n",
    "join movies m2 on (m1.movieId=m2.movieId) \n",
    "where m1.userId='599'and m2.userId='448'\n",
    "\"\"\"\n",
    ")\n",
    "sim_df.show()\n"
   ]
  },
  {
   "cell_type": "code",
   "execution_count": 48,
   "metadata": {},
   "outputs": [
    {
     "data": {
      "text/plain": [
       "<AxesSubplot:xlabel='base_rating', ylabel='sim_rating'>"
      ]
     },
     "execution_count": 48,
     "metadata": {},
     "output_type": "execute_result"
    },
    {
     "data": {
      "image/png": "[encoded data removed]",
      "text/plain": [
       "<Figure size 432x288 with 1 Axes>"
      ]
     },
     "metadata": {
      "needs_background": "light"
     },
     "output_type": "display_data"
    }
   ],
   "source": [
    "sim_df.toPandas()[['base_rating','sim_rating']].plot(kind='scatter', x='base_rating', y='sim_rating') "
   ]
  },
  {
   "cell_type": "code",
   "execution_count": 67,
   "metadata": {},
   "outputs": [
    {
     "name": "stdout",
     "output_type": "stream",
     "text": [
      "+--------+--------------+------------------+\n",
      "|sim_user|movies_overlap|              dist|\n",
      "+--------+--------------+------------------+\n",
      "|     234|             3|              0.75|\n",
      "|     448|            11|1.2954545454545454|\n",
      "|     292|             6|             1.375|\n",
      "|     414|            12|            1.4375|\n",
      "|     514|             4|               1.5|\n",
      "|     480|             9|1.5277777777777777|\n",
      "|     555|             6|1.9166666666666667|\n",
      "+--------+--------------+------------------+\n",
      "\n"
     ]
    }
   ],
   "source": [
    "sim_df = spark.sql(\"\"\"\n",
    "select m2.userId as sim_user,\n",
    "       count(distinct m2.movieID) as movies_overlap,\n",
    "       avg(pow((m1.rating-m2.rating),2)) as dist\n",
    "from movies m1 \n",
    "join movies m2 on (m1.movieId=m2.movieId) \n",
    "where m1.userId=573 and m2.userId<>m1.userId\n",
    "group by m2.userId\n",
    "having avg(pow((m1.rating-m2.rating),2))<=2 and count(distinct m2.movieID)>2\n",
    "order by 3 asc\n",
    "\"\"\"\n",
    ")\n",
    "sim_df.show(100)"
   ]
  },
  {
   "cell_type": "code",
   "execution_count": 68,
   "metadata": {},
   "outputs": [],
   "source": [
    "sim_df.createOrReplaceTempView(\"sim_users\")"
   ]
  },
  {
   "cell_type": "code",
   "execution_count": 83,
   "metadata": {},
   "outputs": [
    {
     "name": "stdout",
     "output_type": "stream",
     "text": [
      "+-------+--------------------+------+------------------+--------+-------------------+------------------+\n",
      "|movieId|               title|rating|              dist|sim_user|         similarity|  weighted_raiting|\n",
      "+-------+--------------------+------+------------------+--------+-------------------+------------------+\n",
      "|    410|Addams Family Val...|   4.0|1.9166666666666667|     555| 0.3428571428571428|1.3714285714285712|\n",
      "|    410|Addams Family Val...|   3.5|1.5277777777777777|     480|0.39560439560439564|1.3846153846153848|\n",
      "|    410|Addams Family Val...|   4.0|1.2954545454545454|     448|0.43564356435643564|1.7425742574257426|\n",
      "|   1608|Air Force One (1997)|   3.0|            1.4375|     414|0.41025641025641024|1.2307692307692308|\n",
      "|   1608|Air Force One (1997)|   3.0|1.2954545454545454|     448|0.43564356435643564| 1.306930693069307|\n",
      "|   1608|Air Force One (1997)|   4.0|             1.375|     292|0.42105263157894735|1.6842105263157894|\n",
      "|   1608|Air Force One (1997)|   3.0|1.9166666666666667|     555| 0.3428571428571428|1.0285714285714285|\n",
      "|   2858|American Beauty (...|   5.0|1.9166666666666667|     555| 0.3428571428571428| 1.714285714285714|\n",
      "|   2858|American Beauty (...|   4.0|               1.5|     514|                0.4|               1.6|\n",
      "|   2858|American Beauty (...|   4.0|1.5277777777777777|     480|0.39560439560439564|1.5824175824175826|\n",
      "|   2858|American Beauty (...|   4.0|1.2954545454545454|     448|0.43564356435643564|1.7425742574257426|\n",
      "|   2858|American Beauty (...|   5.0|            1.4375|     414|0.41025641025641024| 2.051282051282051|\n",
      "|   1784|As Good as It Get...|   3.5|1.5277777777777777|     480|0.39560439560439564|1.3846153846153848|\n",
      "|   1784|As Good as It Get...|   4.0|              0.75|     234| 0.5714285714285714|2.2857142857142856|\n",
      "|   1784|As Good as It Get...|   4.0|               1.5|     514|                0.4|               1.6|\n",
      "|   1784|As Good as It Get...|   5.0|            1.4375|     414|0.41025641025641024| 2.051282051282051|\n",
      "|   1784|As Good as It Get...|   4.0|1.2954545454545454|     448|0.43564356435643564|1.7425742574257426|\n",
      "|   1784|As Good as It Get...|   5.0|1.9166666666666667|     555| 0.3428571428571428| 1.714285714285714|\n",
      "|  72998|       Avatar (2009)|   4.0|            1.4375|     414|0.41025641025641024| 1.641025641025641|\n",
      "|  72998|       Avatar (2009)|   4.0|             1.375|     292|0.42105263157894735|1.6842105263157894|\n",
      "+-------+--------------------+------+------------------+--------+-------------------+------------------+\n",
      "only showing top 20 rows\n",
      "\n"
     ]
    }
   ],
   "source": [
    "rec_df = spark.sql(\"\"\"\n",
    "select m.movieId,m.title,rating,dist,sim_user,1/(1+dist) as similarity,1/(1+dist)*rating weighted_raiting\n",
    "from movies m \n",
    "join sim_users s\n",
    "on (s.sim_user=m.userId)\n",
    "order by title\n",
    "\"\"\"\n",
    ")\n",
    "rec_df.show()"
   ]
  },
  {
   "cell_type": "code",
   "execution_count": 84,
   "metadata": {},
   "outputs": [],
   "source": [
    "rec_df.createOrReplaceTempView('weighted_recom')"
   ]
  },
  {
   "cell_type": "code",
   "execution_count": 94,
   "metadata": {},
   "outputs": [
    {
     "name": "stdout",
     "output_type": "stream",
     "text": [
      "+--------------------+------------------+\n",
      "|               title|   expected_rating|\n",
      "+--------------------+------------------+\n",
      "|Seven Samurai (Sh...|               5.0|\n",
      "|    Slap Shot (1977)|               5.0|\n",
      "|Killing Fields, T...|               5.0|\n",
      "|Star Wars: Episod...| 4.792110336888851|\n",
      "|Star Wars: Episod...|  4.52484583167792|\n",
      "|American Beauty (...| 4.379524370005922|\n",
      "|     Fantasia (1940)| 4.263636363636364|\n",
      "|        Mulan (1998)| 4.257284222100054|\n",
      "|As Good as It Get...| 4.217275807852331|\n",
      "|       Snatch (2000)| 4.171126431409207|\n",
      "|Pineapple Express...|               4.0|\n",
      "|Michael Collins (...|               4.0|\n",
      "|Three O'Clock Hig...|               4.0|\n",
      "|     Maverick (1994)|               4.0|\n",
      "|      Contact (1997)|3.9415501905972046|\n",
      "|Addams Family Val...|3.8315293943212985|\n",
      "|Risky Business (1...|3.8294081601408356|\n",
      "|   Black Swan (2010)|3.7424969987995196|\n",
      "|Catch Me If You C...| 3.731437257747489|\n",
      "|Trading Places (1...| 3.658313321219537|\n",
      "+--------------------+------------------+\n",
      "only showing top 20 rows\n",
      "\n"
     ]
    }
   ],
   "source": [
    "rec_movies_df = spark.sql(\"\"\"\n",
    "select title,sum(weighted_raiting)/sum(similarity) as expected_rating\n",
    "from weighted_recom\n",
    "group by title\n",
    "order by 2 desc\n",
    "\n",
    "\"\"\")\n",
    "\n",
    "rec_movies_df.show()"
   ]
  },
  {
   "cell_type": "code",
   "execution_count": null,
   "metadata": {},
   "outputs": [],
   "source": [
    "p1  p2   py\n",
    "0.3 0.4  0.2\n",
    "7   6    4\n",
    "\n",
    "pp = (0.3*7 + 0.4*6 + 0.2*4)/(0.3+0.4+0.2) \n"
   ]
  }
 ],
 "metadata": {
  "kernelspec": {
   "display_name": "Python 3 (ipykernel)",
   "language": "python",
   "name": "python3"
  },
  "language_info": {
   "codemirror_mode": {
    "name": "ipython",
    "version": 3
   },
   "file_extension": ".py",
   "mimetype": "text/x-python",
   "name": "python",
   "nbconvert_exporter": "python",
   "pygments_lexer": "ipython3",
   "version": "3.10.6"
  }
 },
 "nbformat": 4,
 "nbformat_minor": 4
}
