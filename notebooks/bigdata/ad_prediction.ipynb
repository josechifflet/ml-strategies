{
 "cells": [
  {
   "cell_type": "code",
   "execution_count": 1,
   "metadata": {},
   "outputs": [],
   "source": [
    "path = '/Users/mgurmendez/Downloads/Social_Network_Ads 2.csv'\n"
   ]
  },
  {
   "cell_type": "code",
   "execution_count": 2,
   "metadata": {},
   "outputs": [],
   "source": [
    "from pyspark.context import SparkContext\n",
    "\n",
    "sc = SparkContext('local', 'test')"
   ]
  },
  {
   "cell_type": "code",
   "execution_count": 4,
   "metadata": {},
   "outputs": [],
   "source": [
    "from pyspark.sql import SQLContext\n",
    "\n",
    "spark = SQLContext(sc)"
   ]
  },
  {
   "cell_type": "code",
   "execution_count": 7,
   "metadata": {},
   "outputs": [],
   "source": [
    "df = spark.read.csv(path, header=True)"
   ]
  },
  {
   "cell_type": "code",
   "execution_count": 9,
   "metadata": {},
   "outputs": [
    {
     "name": "stdout",
     "output_type": "stream",
     "text": [
      "+--------+------+---+---------------+---------+\n",
      "| User ID|Gender|Age|EstimatedSalary|Purchased|\n",
      "+--------+------+---+---------------+---------+\n",
      "|15624510|  Male| 19|          19000|        0|\n",
      "|15810944|  Male| 35|          20000|        0|\n",
      "|15668575|Female| 26|          43000|        0|\n",
      "|15603246|Female| 27|          57000|        0|\n",
      "|15804002|  Male| 19|          76000|        0|\n",
      "+--------+------+---+---------------+---------+\n",
      "only showing top 5 rows\n",
      "\n"
     ]
    }
   ],
   "source": [
    "df.show(5)"
   ]
  },
  {
   "cell_type": "code",
   "execution_count": 10,
   "metadata": {},
   "outputs": [],
   "source": [
    "df.createOrReplaceTempView(\"purchases\")"
   ]
  },
  {
   "cell_type": "code",
   "execution_count": 11,
   "metadata": {},
   "outputs": [
    {
     "name": "stdout",
     "output_type": "stream",
     "text": [
      "+-------------------------------+\n",
      "|count(DISTINCT EstimatedSalary)|\n",
      "+-------------------------------+\n",
      "|                            117|\n",
      "+-------------------------------+\n",
      "\n"
     ]
    }
   ],
   "source": [
    "spark.sql(\"select count(distinct EstimatedSalary) from purchases\").show()"
   ]
  },
  {
   "cell_type": "code",
   "execution_count": 12,
   "metadata": {},
   "outputs": [
    {
     "name": "stdout",
     "output_type": "stream",
     "text": [
      "+-------------------+\n",
      "|count(DISTINCT Age)|\n",
      "+-------------------+\n",
      "|                 43|\n",
      "+-------------------+\n",
      "\n"
     ]
    }
   ],
   "source": [
    "spark.sql(\"select count(distinct Age) from purchases\").show()"
   ]
  },
  {
   "cell_type": "code",
   "execution_count": null,
   "metadata": {},
   "outputs": [],
   "source": [
    "# P(P=1 | G=Male, A=70, S=18000) = ?\n",
    "# P(G=Male, A=70, S=18000 | P=0) y P(G=Male, A=70, S=18000 | P=1)"
   ]
  },
  {
   "cell_type": "code",
   "execution_count": 13,
   "metadata": {},
   "outputs": [
    {
     "name": "stdout",
     "output_type": "stream",
     "text": [
      "+-------+------+---+---------------+---------+\n",
      "|User ID|Gender|Age|EstimatedSalary|Purchased|\n",
      "+-------+------+---+---------------+---------+\n",
      "+-------+------+---+---------------+---------+\n",
      "\n"
     ]
    }
   ],
   "source": [
    "spark.sql(\"select * from purchases where Age=70 and EstimatedSalary=18000 and Gender='Male'\").show()"
   ]
  },
  {
   "cell_type": "code",
   "execution_count": 14,
   "metadata": {},
   "outputs": [
    {
     "name": "stdout",
     "output_type": "stream",
     "text": [
      "+--------+------+---+---------------+---------+\n",
      "| User ID|Gender|Age|EstimatedSalary|Purchased|\n",
      "+--------+------+---+---------------+---------+\n",
      "|15624510|  Male| 19|          19000|        0|\n",
      "+--------+------+---+---------------+---------+\n",
      "\n"
     ]
    }
   ],
   "source": [
    "spark.sql(\"select * from purchases where Age=19 and EstimatedSalary=19000 and Gender='Male'\").show()"
   ]
  },
  {
   "cell_type": "code",
   "execution_count": 21,
   "metadata": {},
   "outputs": [
    {
     "name": "stdout",
     "output_type": "stream",
     "text": [
      "+--------+\n",
      "|count(1)|\n",
      "+--------+\n",
      "|     257|\n",
      "+--------+\n",
      "\n"
     ]
    }
   ],
   "source": [
    "spark.sql(\"select count(*) from purchases where Purchased=0\").show()"
   ]
  },
  {
   "cell_type": "code",
   "execution_count": null,
   "metadata": {},
   "outputs": [],
   "source": [
    "# P(G=Male, A=19, S=19000 | P=0) = 1/257\n",
    "# P(G=Male, A=19, S=19000 | P=1) = 0/(400-257)\n",
    "# P(G=Male, A=19, S=19000) = 1/400"
   ]
  },
  {
   "cell_type": "code",
   "execution_count": 31,
   "metadata": {},
   "outputs": [],
   "source": [
    "dfs = spark.sql(\"select Gender,if(Age<28,'low','high') as AgeBucket,\" +\n",
    "                \"if(EstimatedSalary<30000,'low','high') as SalaryBucket,Purchased from purchases\")"
   ]
  },
  {
   "cell_type": "code",
   "execution_count": 36,
   "metadata": {},
   "outputs": [],
   "source": [
    "dfs.createOrReplaceTempView(\"dpurchases\")"
   ]
  },
  {
   "cell_type": "code",
   "execution_count": 32,
   "metadata": {},
   "outputs": [
    {
     "name": "stdout",
     "output_type": "stream",
     "text": [
      "+------+---------+------------+---------+\n",
      "|Gender|AgeBucket|SalaryBucket|Purchased|\n",
      "+------+---------+------------+---------+\n",
      "|  Male|      low|         low|        0|\n",
      "|  Male|     high|         low|        0|\n",
      "|Female|      low|        high|        0|\n",
      "|Female|      low|        high|        0|\n",
      "|  Male|      low|        high|        0|\n",
      "|  Male|      low|        high|        0|\n",
      "|Female|      low|        high|        0|\n",
      "|Female|     high|        high|        1|\n",
      "|  Male|      low|        high|        0|\n",
      "|Female|     high|        high|        0|\n",
      "|Female|      low|        high|        0|\n",
      "|Female|      low|        high|        0|\n",
      "|  Male|      low|        high|        0|\n",
      "|  Male|     high|         low|        0|\n",
      "|  Male|      low|        high|        0|\n",
      "|  Male|     high|        high|        0|\n",
      "|  Male|     high|         low|        1|\n",
      "|  Male|     high|         low|        1|\n",
      "|  Male|     high|         low|        1|\n",
      "|Female|     high|         low|        1|\n",
      "+------+---------+------------+---------+\n",
      "only showing top 20 rows\n",
      "\n"
     ]
    }
   ],
   "source": [
    "dfs.show()"
   ]
  },
  {
   "cell_type": "code",
   "execution_count": null,
   "metadata": {},
   "outputs": [],
   "source": [
    "# P(P=1 | G=Male,A=low,S=low) = P(G=Male,A=high,S=low | P=1) * P(P=1) / P(G=Male,A=high,S=low)\n",
    "\n"
   ]
  },
  {
   "cell_type": "code",
   "execution_count": 43,
   "metadata": {},
   "outputs": [
    {
     "data": {
      "text/plain": [
       "([Row(count(1)=143)], [Row(count(1)=400)])"
      ]
     },
     "execution_count": 43,
     "metadata": {},
     "output_type": "execute_result"
    }
   ],
   "source": [
    "# P(P=1) = 143/400\n",
    "(spark.sql(\"select count(*) from purchases where purchased=1\").collect(),spark.sql(\"select count(*) from dpurchases\").collect() )"
   ]
  },
  {
   "cell_type": "code",
   "execution_count": 44,
   "metadata": {},
   "outputs": [
    {
     "name": "stdout",
     "output_type": "stream",
     "text": [
      "+--------+\n",
      "|count(1)|\n",
      "+--------+\n",
      "|      18|\n",
      "+--------+\n",
      "\n"
     ]
    }
   ],
   "source": [
    "# P(G=Male,A=high,S=low) = 18/400\n",
    "spark.sql(\"select count(*) from dpurchases where gender='Male' and salarybucket='low' and agebucket='high'\").show()"
   ]
  },
  {
   "cell_type": "code",
   "execution_count": 45,
   "metadata": {},
   "outputs": [
    {
     "name": "stdout",
     "output_type": "stream",
     "text": [
      "+---------+--------+\n",
      "|purchased|count(1)|\n",
      "+---------+--------+\n",
      "|        0|       8|\n",
      "|        1|      10|\n",
      "+---------+--------+\n",
      "\n"
     ]
    }
   ],
   "source": [
    "#P(G=Male,A=high,S=low | P=1) = 0\n",
    "spark.sql(\"select purchased,count(*) from dpurchases where gender='Male' and salarybucket='low' and agebucket='high' group by  purchased\").show()"
   ]
  },
  {
   "cell_type": "code",
   "execution_count": null,
   "metadata": {},
   "outputs": [],
   "source": [
    "# P(P=1 | G=Male,A=high,S=low) = P(G=Male,A=high,S=low | P=1) * P(P=1) / P(G=Male,A=high,S=low)\n",
    "                               = 10/143 * 143/400 / (18/400)"
   ]
  },
  {
   "cell_type": "code",
   "execution_count": 47,
   "metadata": {},
   "outputs": [
    {
     "data": {
      "text/plain": [
       "0.5555555555555556"
      ]
     },
     "execution_count": 47,
     "metadata": {},
     "output_type": "execute_result"
    }
   ],
   "source": [
    "(10/143) * (143/400) / (18/400)"
   ]
  },
  {
   "cell_type": "code",
   "execution_count": null,
   "metadata": {},
   "outputs": [],
   "source": [
    "# P(P=0 | G=Male,A=high,S=low)  = 0.45  "
   ]
  },
  {
   "cell_type": "code",
   "execution_count": null,
   "metadata": {},
   "outputs": [],
   "source": [
    "# P(P=1 | G=Male,A=low,S=low) = 0 :(  :(  :(  :("
   ]
  },
  {
   "cell_type": "code",
   "execution_count": null,
   "metadata": {},
   "outputs": [],
   "source": [
    "# P(P=1 | G=Male,A=low,S=low)  = P(G=Male,A=low,S=low | P=1) * P(P=1) / P(G=Male,A=low,S=low)\n",
    "\n",
    "# P(G=Male,A=low,S=low | P=1) = P(G=Male | P=1) * P(A=low | P=1) * P(S=low | P=1)\n",
    "                             "
   ]
  },
  {
   "cell_type": "code",
   "execution_count": null,
   "metadata": {},
   "outputs": [],
   "source": [
    "# Independencia: P(G=Male,A=low) =  P(G=Male) * P(A=low) \n",
    "# Independencia condicional: P(G=Male,A=low | P=1)  P(G=Male | P=1) * P(A=low | P=1) \n",
    "\n",
    "\n"
   ]
  },
  {
   "cell_type": "code",
   "execution_count": 52,
   "metadata": {},
   "outputs": [
    {
     "name": "stdout",
     "output_type": "stream",
     "text": [
      "+------+---------+--------+\n",
      "|gender|purchased|count(1)|\n",
      "+------+---------+--------+\n",
      "|  Male|        0|     130|\n",
      "|Female|        0|     127|\n",
      "|  Male|        1|      66|\n",
      "|Female|        1|      77|\n",
      "+------+---------+--------+\n",
      "\n"
     ]
    }
   ],
   "source": [
    "spark.sql(\"select gender,purchased,count(*) from dpurchases group by gender,purchased order by purchased\").show()"
   ]
  },
  {
   "cell_type": "code",
   "execution_count": null,
   "metadata": {},
   "outputs": [],
   "source": [
    "# P(G=Male | P=1) = 66 / (66+77) \n",
    "# P(G=Male | P=0) = 130 / (130+127) "
   ]
  },
  {
   "cell_type": "code",
   "execution_count": 53,
   "metadata": {},
   "outputs": [
    {
     "name": "stdout",
     "output_type": "stream",
     "text": [
      "+---------+---------+--------+\n",
      "|agebucket|purchased|count(1)|\n",
      "+---------+---------+--------+\n",
      "|     high|        0|     181|\n",
      "|      low|        0|      76|\n",
      "|      low|        1|       2|\n",
      "|     high|        1|     141|\n",
      "+---------+---------+--------+\n",
      "\n"
     ]
    }
   ],
   "source": [
    "spark.sql(\"select agebucket,purchased,count(*) from dpurchases group by agebucket,purchased order by purchased\").show()"
   ]
  },
  {
   "cell_type": "code",
   "execution_count": null,
   "metadata": {},
   "outputs": [],
   "source": [
    "# P(A=low | P=1) = 2/(2+141)\n",
    "# P(A=low | P=0) = 76/(76+181)"
   ]
  },
  {
   "cell_type": "code",
   "execution_count": 54,
   "metadata": {},
   "outputs": [
    {
     "name": "stdout",
     "output_type": "stream",
     "text": [
      "+------------+---------+--------+\n",
      "|salarybucket|purchased|count(1)|\n",
      "+------------+---------+--------+\n",
      "|        high|        0|     222|\n",
      "|         low|        0|      35|\n",
      "|         low|        1|      18|\n",
      "|        high|        1|     125|\n",
      "+------------+---------+--------+\n",
      "\n"
     ]
    }
   ],
   "source": [
    "spark.sql(\"select salarybucket,purchased,count(*) from dpurchases group by salarybucket,purchased order by purchased\").show()"
   ]
  },
  {
   "cell_type": "code",
   "execution_count": null,
   "metadata": {},
   "outputs": [],
   "source": [
    "# P(S=low | P=1) = 18/(18+125)\n",
    "# P(S=low | P=0) = 35/(35+222)"
   ]
  },
  {
   "cell_type": "code",
   "execution_count": 55,
   "metadata": {},
   "outputs": [
    {
     "data": {
      "text/plain": [
       "0.0008125279776705274"
      ]
     },
     "execution_count": 55,
     "metadata": {},
     "output_type": "execute_result"
    }
   ],
   "source": [
    "# P(G=Male,A=low,S=low | P=1) = 0.0008125279776705274\n",
    "66 / (66+77) * 2/(2+141) * 18/(18+125)"
   ]
  },
  {
   "cell_type": "code",
   "execution_count": 56,
   "metadata": {},
   "outputs": [
    {
     "data": {
      "text/plain": [
       "0.020371622459519352"
      ]
     },
     "execution_count": 56,
     "metadata": {},
     "output_type": "execute_result"
    }
   ],
   "source": [
    "# P(G=Male,A=low,S=low | P=0) = 0.0008125279776705274\n",
    "130 / (130+127) * 76/(76+181) * 35/(35+222)"
   ]
  },
  {
   "cell_type": "code",
   "execution_count": 57,
   "metadata": {
    "scrolled": true
   },
   "outputs": [
    {
     "data": {
      "text/plain": [
       "(0.0002904787520172136, 0.013088767430241184)"
      ]
     },
     "execution_count": 57,
     "metadata": {},
     "output_type": "execute_result"
    }
   ],
   "source": [
    "# P(P=1 | G=Male,A=low,S=low)  = P(G=Male,A=low,S=low | P=1) * P(P=1) / P(G=Male,A=low,S=low)\n",
    "# = 0.0008125279776705274 * 143/400 /  K\n",
    "\n",
    "# P(P=0 | G=Male,A=low,S=low)  = P(G=Male,A=low,S=low | P=0) * P(P=0) / P(G=Male,A=low,S=low)\n",
    "#  = 0.020371622459519352 * (400-143)/400 / K\n",
    "\n",
    "\n",
    "(0.0008125279776705274 * 143/400,  0.020371622459519352 * (400-143)/400  )"
   ]
  },
  {
   "cell_type": "code",
   "execution_count": null,
   "metadata": {},
   "outputs": [],
   "source": [
    "# Sabemos que P(P=0 | G=Male,A=low,S=low) > P(P=1 | G=Male,A=low,S=low) \n",
    "# ESTE PERFIL NO COMPRA!"
   ]
  },
  {
   "cell_type": "code",
   "execution_count": 59,
   "metadata": {},
   "outputs": [
    {
     "data": {
      "text/plain": [
       "0.013379246182258398"
      ]
     },
     "execution_count": 59,
     "metadata": {},
     "output_type": "execute_result"
    }
   ],
   "source": [
    "# P(G=Male,A=low,S=low) \n",
    "#   = P(G=Male,A=low,S=low | P=0) * P(P=0) + P(G=Male,A=low,S=low | P=1) * P(P=1)  =\n",
    "0.020371622459519352  * (400-143)/400 + 0.0008125279776705274 * 143/400"
   ]
  },
  {
   "cell_type": "code",
   "execution_count": 60,
   "metadata": {},
   "outputs": [
    {
     "data": {
      "text/plain": [
       "0.021711144862735544"
      ]
     },
     "execution_count": 60,
     "metadata": {},
     "output_type": "execute_result"
    }
   ],
   "source": [
    "# P(P=1 | G=Male,A=low,S=low) = \n",
    "( 0.0008125279776705274 * 143/400 ) / 0.013379246182258398"
   ]
  },
  {
   "cell_type": "code",
   "execution_count": null,
   "metadata": {},
   "outputs": [],
   "source": []
  }
 ],
 "metadata": {
  "kernelspec": {
   "display_name": "Python 3 (ipykernel)",
   "language": "python",
   "name": "python3"
  },
  "language_info": {
   "codemirror_mode": {
    "name": "ipython",
    "version": 3
   },
   "file_extension": ".py",
   "mimetype": "text/x-python",
   "name": "python",
   "nbconvert_exporter": "python",
   "pygments_lexer": "ipython3",
   "version": "3.10.6"
  }
 },
 "nbformat": 4,
 "nbformat_minor": 4
}
