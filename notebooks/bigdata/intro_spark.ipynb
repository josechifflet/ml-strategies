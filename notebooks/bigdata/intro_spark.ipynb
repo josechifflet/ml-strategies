{
 "cells": [
  {
   "cell_type": "code",
   "execution_count": 1,
   "metadata": {},
   "outputs": [
    {
     "name": "stdout",
     "output_type": "stream",
     "text": [
      "Looking in indexes: https://artifactory.dataxu.net/artifactory/api/pypi/pypi-virtual/simple/\n",
      "Requirement already satisfied: pyspark in /opt/anaconda3/envs/notebooks3/lib/python3.9/site-packages (3.1.1)\n",
      "Requirement already satisfied: py4j==0.10.9 in /opt/anaconda3/envs/notebooks3/lib/python3.9/site-packages (from pyspark) (0.10.9)\n"
     ]
    }
   ],
   "source": [
    "!pip install pyspark"
   ]
  },
  {
   "cell_type": "code",
   "execution_count": 5,
   "metadata": {},
   "outputs": [],
   "source": [
    "from pyspark.context import SparkContext\n",
    "sc = SparkContext('local', 'test')"
   ]
  },
  {
   "cell_type": "code",
   "execution_count": 6,
   "metadata": {},
   "outputs": [
    {
     "data": {
      "text/html": [
       "\n",
       "        <div>\n",
       "            <p><b>SparkContext</b></p>\n",
       "\n",
       "            <p><a href=\"http://maximos-mbp-3:4041\">Spark UI</a></p>\n",
       "\n",
       "            <dl>\n",
       "              <dt>Version</dt>\n",
       "                <dd><code>v3.1.1</code></dd>\n",
       "              <dt>Master</dt>\n",
       "                <dd><code>local</code></dd>\n",
       "              <dt>AppName</dt>\n",
       "                <dd><code>test</code></dd>\n",
       "            </dl>\n",
       "        </div>\n",
       "        "
      ],
      "text/plain": [
       "<SparkContext master=local appName=test>"
      ]
     },
     "execution_count": 6,
     "metadata": {},
     "output_type": "execute_result"
    }
   ],
   "source": [
    "sc"
   ]
  },
  {
   "cell_type": "code",
   "execution_count": 7,
   "metadata": {},
   "outputs": [],
   "source": [
    "from pyspark.sql import SQLContext\n",
    "\n",
    "spark = SQLContext(sc)"
   ]
  },
  {
   "cell_type": "code",
   "execution_count": 9,
   "metadata": {},
   "outputs": [
    {
     "data": {
      "text/plain": [
       "<pyspark.sql.context.SQLContext at 0x7f8e15d89520>"
      ]
     },
     "execution_count": 9,
     "metadata": {},
     "output_type": "execute_result"
    }
   ],
   "source": [
    "spark"
   ]
  },
  {
   "cell_type": "code",
   "execution_count": 13,
   "metadata": {},
   "outputs": [],
   "source": [
    "df = spark.read.csv(\"StudentsPerformance.csv\", header=True)"
   ]
  },
  {
   "cell_type": "code",
   "execution_count": 15,
   "metadata": {},
   "outputs": [
    {
     "name": "stdout",
     "output_type": "stream",
     "text": [
      "+------+--------------+---------------------------+--------+-----------------------+----------+-------------+-------------+\n",
      "|gender|race/ethnicity|parental level of education|   lunch|test preparation course|math score|reading score|writing score|\n",
      "+------+--------------+---------------------------+--------+-----------------------+----------+-------------+-------------+\n",
      "|female|       group B|          bachelor's degree|standard|                   none|        72|           72|           74|\n",
      "|female|       group C|               some college|standard|              completed|        69|           90|           88|\n",
      "|female|       group B|            master's degree|standard|                   none|        90|           95|           93|\n",
      "+------+--------------+---------------------------+--------+-----------------------+----------+-------------+-------------+\n",
      "only showing top 3 rows\n",
      "\n"
     ]
    }
   ],
   "source": [
    "df.show(3)"
   ]
  },
  {
   "cell_type": "code",
   "execution_count": 18,
   "metadata": {},
   "outputs": [],
   "source": [
    "reduced_df = df.select([\"gender\",\"math score\"])"
   ]
  },
  {
   "cell_type": "code",
   "execution_count": 20,
   "metadata": {},
   "outputs": [
    {
     "name": "stdout",
     "output_type": "stream",
     "text": [
      "+------+----------+\n",
      "|gender|math score|\n",
      "+------+----------+\n",
      "|female|        72|\n",
      "|female|        69|\n",
      "+------+----------+\n",
      "only showing top 2 rows\n",
      "\n"
     ]
    }
   ],
   "source": [
    "reduced_df.show(2)"
   ]
  },
  {
   "cell_type": "code",
   "execution_count": 21,
   "metadata": {},
   "outputs": [],
   "source": [
    "from pyspark.sql import functions as F\n"
   ]
  },
  {
   "cell_type": "code",
   "execution_count": 26,
   "metadata": {},
   "outputs": [
    {
     "name": "stdout",
     "output_type": "stream",
     "text": [
      "+------+----+----------------+\n",
      "|gender|math|sum_math_writing|\n",
      "+------+----+----------------+\n",
      "|female|  72|           144.0|\n",
      "|female|  69|           159.0|\n",
      "+------+----+----------------+\n",
      "only showing top 2 rows\n",
      "\n"
     ]
    }
   ],
   "source": [
    "df.select([F.col(\"gender\"),F.col(\"math score\").alias(\"math\"),\n",
    "           (F.col(\"math score\") + F.col(\"reading score\")).alias(\"sum_math_writing\")]).show(2)"
   ]
  },
  {
   "cell_type": "code",
   "execution_count": null,
   "metadata": {},
   "outputs": [],
   "source": [
    "+------+---------+----+\n",
    "|gender|   course|math|\n",
    "+------+---------+----+"
   ]
  },
  {
   "cell_type": "code",
   "execution_count": 35,
   "metadata": {},
   "outputs": [
    {
     "name": "stdout",
     "output_type": "stream",
     "text": [
      "+------+---------+----+\n",
      "|gender|   course|math|\n",
      "+------+---------+----+\n",
      "|female|     none|  72|\n",
      "|female|completed|  69|\n",
      "+------+---------+----+\n",
      "only showing top 2 rows\n",
      "\n"
     ]
    }
   ],
   "source": [
    "clean_df = df.select([F.col(\"gender\"),F.col(\"test preparation course\").alias(\"course\"),F.col(\"math score\").alias(\"math\")])\n",
    "clean_df.show(2)"
   ]
  },
  {
   "cell_type": "code",
   "execution_count": 39,
   "metadata": {},
   "outputs": [
    {
     "name": "stdout",
     "output_type": "stream",
     "text": [
      "+------+---------+----+\n",
      "|gender|   course|math|\n",
      "+------+---------+----+\n",
      "|  male|     none|  97|\n",
      "|  male|completed|  98|\n",
      "|female|completed|  99|\n",
      "|  male|completed|  91|\n",
      "|  male|completed| 100|\n",
      "|female|completed|  96|\n",
      "|  male|     none|  94|\n",
      "|female|completed|  97|\n",
      "|  male|     none|  92|\n",
      "|female|     none|  99|\n",
      "|  male|completed|  97|\n",
      "|  male|completed|  99|\n",
      "|female|     none| 100|\n",
      "|female|     none| 100|\n",
      "|  male|     none|  91|\n",
      "|female|completed|  94|\n",
      "|female|completed|  95|\n",
      "|female|     none|  91|\n",
      "|  male|completed|  97|\n",
      "|female|completed|  92|\n",
      "+------+---------+----+\n",
      "only showing top 20 rows\n",
      "\n"
     ]
    }
   ],
   "source": [
    "clean_df.where(F.col(\"math\")>90).show()"
   ]
  },
  {
   "cell_type": "code",
   "execution_count": 49,
   "metadata": {},
   "outputs": [
    {
     "name": "stdout",
     "output_type": "stream",
     "text": [
      "+------+---------+----+\n",
      "|gender|   course|math|\n",
      "+------+---------+----+\n",
      "|  male|completed|  98|\n",
      "|female|completed|  99|\n",
      "|  male|completed|  91|\n",
      "|  male|completed| 100|\n",
      "|female|completed|  96|\n",
      "|female|completed|  97|\n",
      "|  male|completed|  97|\n",
      "|  male|completed|  99|\n",
      "|female|completed|  94|\n",
      "|female|completed|  95|\n",
      "|  male|completed|  97|\n",
      "|female|completed|  92|\n",
      "|  male|completed|  96|\n",
      "|female|completed|  92|\n",
      "|female|completed|  92|\n",
      "|  male|completed|  94|\n",
      "|  male|completed| 100|\n",
      "|  male|completed| 100|\n",
      "|female|completed|  94|\n",
      "|  male|completed|  93|\n",
      "+------+---------+----+\n",
      "only showing top 20 rows\n",
      "\n"
     ]
    }
   ],
   "source": [
    "clean_df.where((F.col(\"math\")>90) & (F.col('course') == 'completed')).show()"
   ]
  },
  {
   "cell_type": "code",
   "execution_count": 44,
   "metadata": {},
   "outputs": [
    {
     "name": "stdout",
     "output_type": "stream",
     "text": [
      "+------+-----+\n",
      "|gender|count|\n",
      "+------+-----+\n",
      "|female|  518|\n",
      "|  male|  482|\n",
      "+------+-----+\n",
      "\n"
     ]
    }
   ],
   "source": [
    "clean_df.groupby(\"gender\").count().show()"
   ]
  },
  {
   "cell_type": "code",
   "execution_count": 45,
   "metadata": {},
   "outputs": [
    {
     "name": "stdout",
     "output_type": "stream",
     "text": [
      "+------+\n",
      "|gender|\n",
      "+------+\n",
      "|female|\n",
      "|  male|\n",
      "+------+\n",
      "\n"
     ]
    }
   ],
   "source": [
    "clean_df.groupby(\"gender\").mean().show()"
   ]
  },
  {
   "cell_type": "code",
   "execution_count": 46,
   "metadata": {},
   "outputs": [
    {
     "data": {
      "text/plain": [
       "StructType(List(StructField(gender,StringType,true),StructField(course,StringType,true),StructField(math,StringType,true)))"
      ]
     },
     "execution_count": 46,
     "metadata": {},
     "output_type": "execute_result"
    }
   ],
   "source": [
    "clean_df.schema"
   ]
  },
  {
   "cell_type": "code",
   "execution_count": 50,
   "metadata": {},
   "outputs": [],
   "source": [
    "from pyspark.sql.types import *\n",
    "\n",
    "custom_schema = StructType([StructField(\"gender\",StringType(),True),\n",
    "                     StructField(\"origin\",StringType(),True),\n",
    "                     StructField(\"education\",StringType(),True),\n",
    "                     StructField(\"lunch\",StringType(),True),\n",
    "                     StructField(\"course\",StringType(),True),\n",
    "                     StructField(\"math\",IntegerType(),True),\n",
    "                     StructField(\"reading\",IntegerType(),True),\n",
    "                     StructField(\"writing\",IntegerType(),True)])"
   ]
  },
  {
   "cell_type": "code",
   "execution_count": 52,
   "metadata": {},
   "outputs": [],
   "source": [
    "df = spark.read.csv(\"StudentsPerformance.csv\", header=True, schema=custom_schema)"
   ]
  },
  {
   "cell_type": "code",
   "execution_count": 53,
   "metadata": {},
   "outputs": [
    {
     "name": "stdout",
     "output_type": "stream",
     "text": [
      "+------+-------+-----------------+--------+---------+----+-------+-------+\n",
      "|gender| origin|        education|   lunch|   course|math|reading|writing|\n",
      "+------+-------+-----------------+--------+---------+----+-------+-------+\n",
      "|female|group B|bachelor's degree|standard|     none|  72|     72|     74|\n",
      "|female|group C|     some college|standard|completed|  69|     90|     88|\n",
      "+------+-------+-----------------+--------+---------+----+-------+-------+\n",
      "only showing top 2 rows\n",
      "\n"
     ]
    }
   ],
   "source": [
    "df.show(2)"
   ]
  },
  {
   "cell_type": "code",
   "execution_count": 54,
   "metadata": {},
   "outputs": [
    {
     "data": {
      "text/plain": [
       "StructType(List(StructField(gender,StringType,true),StructField(origin,StringType,true),StructField(education,StringType,true),StructField(lunch,StringType,true),StructField(course,StringType,true),StructField(math,IntegerType,true),StructField(reading,IntegerType,true),StructField(writing,IntegerType,true)))"
      ]
     },
     "execution_count": 54,
     "metadata": {},
     "output_type": "execute_result"
    }
   ],
   "source": [
    "df.schema"
   ]
  },
  {
   "cell_type": "code",
   "execution_count": 55,
   "metadata": {},
   "outputs": [
    {
     "name": "stdout",
     "output_type": "stream",
     "text": [
      "+------+------------------+-----------------+-----------------+\n",
      "|gender|         avg(math)|     avg(reading)|     avg(writing)|\n",
      "+------+------------------+-----------------+-----------------+\n",
      "|female|63.633204633204635|72.60810810810811|72.46718146718146|\n",
      "|  male| 68.72821576763485|65.47302904564316|63.31120331950208|\n",
      "+------+------------------+-----------------+-----------------+\n",
      "\n"
     ]
    }
   ],
   "source": [
    "df.groupby(\"gender\").mean().show()"
   ]
  },
  {
   "cell_type": "code",
   "execution_count": 62,
   "metadata": {},
   "outputs": [
    {
     "name": "stdout",
     "output_type": "stream",
     "text": [
      "+------+------------------+\n",
      "|gender|         avg(math)|\n",
      "+------+------------------+\n",
      "|female|63.633204633204635|\n",
      "|  male| 68.72821576763485|\n",
      "+------+------------------+\n",
      "\n"
     ]
    }
   ],
   "source": [
    "mean_df = df.select([\"gender\",\"math\"]).groupby(\"gender\").mean()\n",
    "mean_df.show()"
   ]
  },
  {
   "cell_type": "code",
   "execution_count": 57,
   "metadata": {},
   "outputs": [
    {
     "name": "stdout",
     "output_type": "stream",
     "text": [
      "+------+---------+------------+------------+\n",
      "|gender|sum(math)|sum(reading)|sum(writing)|\n",
      "+------+---------+------------+------------+\n",
      "|female|    32962|       37611|       37538|\n",
      "|  male|    33127|       31558|       30516|\n",
      "+------+---------+------------+------------+\n",
      "\n"
     ]
    }
   ],
   "source": [
    "df.groupby(\"gender\").sum().show()"
   ]
  },
  {
   "cell_type": "code",
   "execution_count": 60,
   "metadata": {},
   "outputs": [
    {
     "name": "stdout",
     "output_type": "stream",
     "text": [
      "+------+-------+----------------+------------+------+----+-------+-------+\n",
      "|gender| origin|       education|       lunch|course|math|reading|writing|\n",
      "+------+-------+----------------+------------+------+----+-------+-------+\n",
      "|female|group C|some high school|free/reduced|  none|   0|     17|     10|\n",
      "|female|group B|     high school|free/reduced|  none|   8|     24|     23|\n",
      "|female|group B|some high school|free/reduced|  none|  18|     32|     28|\n",
      "+------+-------+----------------+------------+------+----+-------+-------+\n",
      "only showing top 3 rows\n",
      "\n"
     ]
    }
   ],
   "source": [
    "df.sort(\"math\").show(3)"
   ]
  },
  {
   "cell_type": "code",
   "execution_count": 64,
   "metadata": {},
   "outputs": [
    {
     "name": "stdout",
     "output_type": "stream",
     "text": [
      "+------+-------+------------------+------------+---------+----+-------+-------+------------------+\n",
      "|gender| origin|         education|       lunch|   course|math|reading|writing|         avg(math)|\n",
      "+------+-------+------------------+------------+---------+----+-------+-------+------------------+\n",
      "|female|group B| bachelor's degree|    standard|     none|  72|     72|     74|63.633204633204635|\n",
      "|female|group C|      some college|    standard|completed|  69|     90|     88|63.633204633204635|\n",
      "|female|group B|   master's degree|    standard|     none|  90|     95|     93|63.633204633204635|\n",
      "|  male|group A|associate's degree|free/reduced|     none|  47|     57|     44| 68.72821576763485|\n",
      "|  male|group C|      some college|    standard|     none|  76|     78|     75| 68.72821576763485|\n",
      "+------+-------+------------------+------------+---------+----+-------+-------+------------------+\n",
      "only showing top 5 rows\n",
      "\n"
     ]
    }
   ],
   "source": [
    "joined_df = df.join(mean_df, on='gender')\n",
    "joined_df.show(5)"
   ]
  },
  {
   "cell_type": "code",
   "execution_count": 70,
   "metadata": {},
   "outputs": [
    {
     "name": "stdout",
     "output_type": "stream",
     "text": [
      "+------+------------------+------------------+\n",
      "|gender|         education|         mean_diff|\n",
      "+------+------------------+------------------+\n",
      "|female| bachelor's degree| 8.366795366795365|\n",
      "|female|      some college| 5.366795366795365|\n",
      "|female|   master's degree|26.366795366795365|\n",
      "|  male|associate's degree|-21.72821576763485|\n",
      "+------+------------------+------------------+\n",
      "only showing top 4 rows\n",
      "\n"
     ]
    }
   ],
   "source": [
    "stats_df = joined_df.select([F.col(\"gender\"),F.col(\"education\"),(F.col(\"math\")-F.col(\"avg(math)\")).alias(\"mean_diff\")])\n",
    "stats_df.show(4)"
   ]
  },
  {
   "cell_type": "code",
   "execution_count": 72,
   "metadata": {},
   "outputs": [
    {
     "name": "stdout",
     "output_type": "stream",
     "text": [
      "+------------------+------------------+\n",
      "|         education|    avg(mean_diff)|\n",
      "+------------------+------------------+\n",
      "|  some high school|-2.640807872477595|\n",
      "|associate's degree| 1.816925185490848|\n",
      "|       high school|-4.146934917448935|\n",
      "| bachelor's degree| 3.381832549899924|\n",
      "|   master's degree| 4.126367297441215|\n",
      "|      some college|1.0603298689260598|\n",
      "+------------------+------------------+\n",
      "\n"
     ]
    }
   ],
   "source": [
    "stats_df.groupby(\"education\").mean().show()"
   ]
  },
  {
   "cell_type": "code",
   "execution_count": 73,
   "metadata": {},
   "outputs": [],
   "source": [
    "df.createOrReplaceTempView(\"students\")"
   ]
  },
  {
   "cell_type": "code",
   "execution_count": 75,
   "metadata": {},
   "outputs": [
    {
     "name": "stdout",
     "output_type": "stream",
     "text": [
      "+------------------+----+\n",
      "|         education|math|\n",
      "+------------------+----+\n",
      "| bachelor's degree|  72|\n",
      "|      some college|  69|\n",
      "|   master's degree|  90|\n",
      "|associate's degree|  47|\n",
      "|      some college|  76|\n",
      "|associate's degree|  71|\n",
      "|      some college|  88|\n",
      "|      some college|  40|\n",
      "|       high school|  64|\n",
      "|       high school|  38|\n",
      "|associate's degree|  58|\n",
      "|associate's degree|  40|\n",
      "|       high school|  65|\n",
      "|      some college|  78|\n",
      "|   master's degree|  50|\n",
      "|  some high school|  69|\n",
      "|       high school|  88|\n",
      "|  some high school|  18|\n",
      "|   master's degree|  46|\n",
      "|associate's degree|  54|\n",
      "+------------------+----+\n",
      "only showing top 20 rows\n",
      "\n"
     ]
    }
   ],
   "source": [
    "result_df = spark.sql(\"select education, math from students\")\n",
    "result_df.show()"
   ]
  },
  {
   "cell_type": "code",
   "execution_count": 79,
   "metadata": {},
   "outputs": [
    {
     "name": "stdout",
     "output_type": "stream",
     "text": [
      "+------------------+----+\n",
      "|         education|math|\n",
      "+------------------+----+\n",
      "|      some college|  98|\n",
      "| bachelor's degree|  99|\n",
      "|associate's degree|  91|\n",
      "|associate's degree| 100|\n",
      "| bachelor's degree|  96|\n",
      "|  some high school|  97|\n",
      "|associate's degree|  97|\n",
      "|      some college|  99|\n",
      "|associate's degree|  94|\n",
      "|associate's degree|  95|\n",
      "|associate's degree|  97|\n",
      "|  some high school|  92|\n",
      "| bachelor's degree|  96|\n",
      "| bachelor's degree|  92|\n",
      "| bachelor's degree|  92|\n",
      "| bachelor's degree|  94|\n",
      "|      some college| 100|\n",
      "|      some college| 100|\n",
      "|   master's degree|  94|\n",
      "|      some college|  93|\n",
      "+------------------+----+\n",
      "only showing top 20 rows\n",
      "\n"
     ]
    }
   ],
   "source": [
    "spark.sql(\"select education, math from students where math>90 and course='completed'\").show()"
   ]
  },
  {
   "cell_type": "code",
   "execution_count": 87,
   "metadata": {},
   "outputs": [
    {
     "name": "stdout",
     "output_type": "stream",
     "text": [
      "+------------------+-----------------+\n",
      "|         education|        avg(math)|\n",
      "+------------------+-----------------+\n",
      "|  some high school|94.33333333333333|\n",
      "|associate's degree| 95.0909090909091|\n",
      "| bachelor's degree|94.77777777777777|\n",
      "|   master's degree|             92.5|\n",
      "|      some college|96.83333333333333|\n",
      "+------------------+-----------------+\n",
      "\n"
     ]
    }
   ],
   "source": [
    "spark.sql(\"select education, avg(math) from students where math>90 and course='completed' group by education\").show()"
   ]
  },
  {
   "cell_type": "code",
   "execution_count": 83,
   "metadata": {},
   "outputs": [
    {
     "data": {
      "text/plain": [
       "DataFrame[gender: string, education: string, mean_diff: double]"
      ]
     },
     "execution_count": 83,
     "metadata": {},
     "output_type": "execute_result"
    }
   ],
   "source": [
    "stats_df.cache()"
   ]
  },
  {
   "cell_type": "code",
   "execution_count": 84,
   "metadata": {},
   "outputs": [
    {
     "name": "stdout",
     "output_type": "stream",
     "text": [
      "+------+------------------+-------------------+\n",
      "|gender|         education|          mean_diff|\n",
      "+------+------------------+-------------------+\n",
      "|female| bachelor's degree|  8.366795366795365|\n",
      "|female|      some college|  5.366795366795365|\n",
      "|female|   master's degree| 26.366795366795365|\n",
      "|  male|associate's degree| -21.72821576763485|\n",
      "|  male|      some college|   7.27178423236515|\n",
      "|female|associate's degree|  7.366795366795365|\n",
      "|female|      some college| 24.366795366795365|\n",
      "|  male|      some college| -28.72821576763485|\n",
      "|  male|       high school|  -4.72821576763485|\n",
      "|female|       high school|-25.633204633204635|\n",
      "|  male|associate's degree| -10.72821576763485|\n",
      "|  male|associate's degree| -28.72821576763485|\n",
      "|female|       high school| 1.3667953667953654|\n",
      "|  male|      some college|   9.27178423236515|\n",
      "|female|   master's degree|-13.633204633204635|\n",
      "|female|  some high school|  5.366795366795365|\n",
      "|  male|       high school|  19.27178423236515|\n",
      "|female|  some high school|-45.633204633204635|\n",
      "|  male|   master's degree| -22.72821576763485|\n",
      "|female|associate's degree| -9.633204633204635|\n",
      "+------+------------------+-------------------+\n",
      "only showing top 20 rows\n",
      "\n"
     ]
    }
   ],
   "source": [
    "stats_df.show()"
   ]
  },
  {
   "cell_type": "code",
   "execution_count": 86,
   "metadata": {},
   "outputs": [
    {
     "name": "stdout",
     "output_type": "stream",
     "text": [
      "+------+------------------+-------------------+\n",
      "|gender|         education|          mean_diff|\n",
      "+------+------------------+-------------------+\n",
      "|female| bachelor's degree|  8.366795366795365|\n",
      "|female|      some college|  5.366795366795365|\n",
      "|female|   master's degree| 26.366795366795365|\n",
      "|  male|associate's degree| -21.72821576763485|\n",
      "|  male|      some college|   7.27178423236515|\n",
      "|female|associate's degree|  7.366795366795365|\n",
      "|female|      some college| 24.366795366795365|\n",
      "|  male|      some college| -28.72821576763485|\n",
      "|  male|       high school|  -4.72821576763485|\n",
      "|female|       high school|-25.633204633204635|\n",
      "|  male|associate's degree| -10.72821576763485|\n",
      "|  male|associate's degree| -28.72821576763485|\n",
      "|female|       high school| 1.3667953667953654|\n",
      "|  male|      some college|   9.27178423236515|\n",
      "|female|   master's degree|-13.633204633204635|\n",
      "|female|  some high school|  5.366795366795365|\n",
      "|  male|       high school|  19.27178423236515|\n",
      "|female|  some high school|-45.633204633204635|\n",
      "|  male|   master's degree| -22.72821576763485|\n",
      "|female|associate's degree| -9.633204633204635|\n",
      "+------+------------------+-------------------+\n",
      "only showing top 20 rows\n",
      "\n"
     ]
    }
   ],
   "source": [
    "stats_df.show()"
   ]
  },
  {
   "cell_type": "code",
   "execution_count": 88,
   "metadata": {},
   "outputs": [],
   "source": [
    "stats_df.createOrReplaceTempView(\"stats\")\n"
   ]
  },
  {
   "cell_type": "code",
   "execution_count": 90,
   "metadata": {},
   "outputs": [
    {
     "name": "stdout",
     "output_type": "stream",
     "text": [
      "+------+------------------+-------------------+\n",
      "|gender|         education|          mean_diff|\n",
      "+------+------------------+-------------------+\n",
      "|female| bachelor's degree|  8.366795366795365|\n",
      "|female|      some college|  5.366795366795365|\n",
      "|female|   master's degree| 26.366795366795365|\n",
      "|  male|associate's degree| -21.72821576763485|\n",
      "|  male|      some college|   7.27178423236515|\n",
      "|female|associate's degree|  7.366795366795365|\n",
      "|female|      some college| 24.366795366795365|\n",
      "|  male|      some college| -28.72821576763485|\n",
      "|  male|       high school|  -4.72821576763485|\n",
      "|female|       high school|-25.633204633204635|\n",
      "|  male|associate's degree| -10.72821576763485|\n",
      "|  male|associate's degree| -28.72821576763485|\n",
      "|female|       high school| 1.3667953667953654|\n",
      "|  male|      some college|   9.27178423236515|\n",
      "|female|   master's degree|-13.633204633204635|\n",
      "|female|  some high school|  5.366795366795365|\n",
      "|  male|       high school|  19.27178423236515|\n",
      "|female|  some high school|-45.633204633204635|\n",
      "|  male|   master's degree| -22.72821576763485|\n",
      "|female|associate's degree| -9.633204633204635|\n",
      "+------+------------------+-------------------+\n",
      "only showing top 20 rows\n",
      "\n"
     ]
    }
   ],
   "source": [
    "spark.sql(\"select * from stats\").show()"
   ]
  },
  {
   "cell_type": "code",
   "execution_count": 93,
   "metadata": {},
   "outputs": [
    {
     "name": "stdout",
     "output_type": "stream",
     "text": [
      "+------+---------------+\n",
      "|gender|    cat_student|\n",
      "+------+---------------+\n",
      "|female|    top_student|\n",
      "|female|    top_student|\n",
      "|female|    top_student|\n",
      "|  male|average_student|\n",
      "|  male|    top_student|\n",
      "|female|    top_student|\n",
      "|female|    top_student|\n",
      "|  male|average_student|\n",
      "|  male|    top_student|\n",
      "|female|average_student|\n",
      "|  male|average_student|\n",
      "|  male|average_student|\n",
      "|female|    top_student|\n",
      "|  male|    top_student|\n",
      "|female|average_student|\n",
      "|female|    top_student|\n",
      "|  male|    top_student|\n",
      "|female|average_student|\n",
      "|  male|average_student|\n",
      "|female|average_student|\n",
      "+------+---------------+\n",
      "only showing top 20 rows\n",
      "\n"
     ]
    }
   ],
   "source": [
    "spark.sql(\"select gender, if(math>60,'top_student','average_student') as cat_student from students\").show()"
   ]
  },
  {
   "cell_type": "code",
   "execution_count": null,
   "metadata": {},
   "outputs": [],
   "source": [
    "# df = spark.read.csv(\"s3://mybucket/StudentsPerformance.csv\", header=True)"
   ]
  },
  {
   "cell_type": "code",
   "execution_count": 94,
   "metadata": {},
   "outputs": [],
   "source": [
    "stats_df.write.csv(\"stats.csv\")"
   ]
  },
  {
   "cell_type": "code",
   "execution_count": null,
   "metadata": {},
   "outputs": [],
   "source": []
  }
 ],
 "metadata": {
  "kernelspec": {
   "display_name": "Python 3",
   "language": "python",
   "name": "python3"
  },
  "language_info": {
   "codemirror_mode": {
    "name": "ipython",
    "version": 3
   },
   "file_extension": ".py",
   "mimetype": "text/x-python",
   "name": "python",
   "nbconvert_exporter": "python",
   "pygments_lexer": "ipython3",
   "version": "3.9.0"
  }
 },
 "nbformat": 4,
 "nbformat_minor": 4
}
